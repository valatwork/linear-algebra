{
 "cells": [
  {
   "metadata": {},
   "cell_type": "markdown",
   "source": "# Solving Linear Systems",
   "id": "d4a91d91d433747f"
  },
  {
   "metadata": {},
   "cell_type": "markdown",
   "source": "## Solving Linear Systems with Substitution",
   "id": "bc92a3305e71bc23"
  },
  {
   "metadata": {},
   "cell_type": "markdown",
   "source": [
    "Whenever there's a variable in the system with coefficients of 1, we can isolate it and substitute it into the other equations.\n",
    "\n",
    "I'll forego the manual calculations: I have dyscalculia, which makes it near impossible for me to solve equations by hand.\n",
    "\n",
    "Instead, I'll use SymPy.\n",
    "\n"
   ],
   "id": "1eae9ead3aae57dd"
  },
  {
   "metadata": {
    "ExecuteTime": {
     "end_time": "2025-03-28T16:51:14.590632Z",
     "start_time": "2025-03-28T16:51:14.587131Z"
    }
   },
   "cell_type": "code",
   "source": "from sympy import symbols, Eq, solve",
   "id": "d1b1bae7d6817f48",
   "outputs": [],
   "execution_count": 14
  },
  {
   "metadata": {},
   "cell_type": "markdown",
   "source": "#### Example 01 - Solving Linear Systems with Substitution",
   "id": "cc2e7b698adc45f0"
  },
  {
   "metadata": {},
   "cell_type": "markdown",
   "source": [
    "$$\\begin{equation*}\n",
    "\\left\\{\n",
    "\\begin{array}{rl}\n",
    "y = 3x\\\\\n",
    "-5x + 2y = 2\n",
    "\\end{array} \\right.\n",
    "\\end{equation*}$$"
   ],
   "id": "5f172fa435705dd6"
  },
  {
   "metadata": {
    "ExecuteTime": {
     "end_time": "2025-03-28T16:51:15.984909Z",
     "start_time": "2025-03-28T16:51:15.977410Z"
    }
   },
   "cell_type": "code",
   "source": [
    "x, y = symbols('x y')\n",
    "eq1 = Eq(y, 3*x)        # y = 3x\n",
    "eq2 = Eq(-5*x + 2*y, 2) # -5x + 2y = 2\n",
    "solve((eq1, eq2), (x, y))"
   ],
   "id": "5c5c2eb924d93ce9",
   "outputs": [
    {
     "name": "stdout",
     "output_type": "stream",
     "text": [
      "{x: 2, y: 6}\n"
     ]
    }
   ],
   "execution_count": 15
  },
  {
   "metadata": {},
   "cell_type": "markdown",
   "source": "#### Example 02 - Solving Linear Systems with Substitution",
   "id": "6d296f6b1577dd6e"
  },
  {
   "metadata": {},
   "cell_type": "markdown",
   "source": [
    "$$\\begin{equation*}\n",
    "\\left\\{\n",
    "\\begin{array}{rl}\n",
    "x + y = 6\\\\\n",
    "2x + 3y = 16\n",
    "\\end{array} \\right.\n",
    "\\end{equation*}$$"
   ],
   "id": "ff7a13806c4aa7d4"
  },
  {
   "metadata": {
    "ExecuteTime": {
     "end_time": "2025-03-28T16:51:17.424679Z",
     "start_time": "2025-03-28T16:51:17.418180Z"
    }
   },
   "cell_type": "code",
   "source": [
    "x, y = symbols('x y')\n",
    "eq1 = Eq(x + y, 6)      # x + y = 6\n",
    "eq2 = Eq(2*x + 3*y, 16) # 2x + 3y = 16\n",
    "solve((eq1, eq2), (x, y))"
   ],
   "id": "b8a17ed9840f576d",
   "outputs": [
    {
     "name": "stdout",
     "output_type": "stream",
     "text": [
      "{x: 2, y: 4}\n"
     ]
    }
   ],
   "execution_count": 16
  },
  {
   "metadata": {},
   "cell_type": "markdown",
   "source": "#### Example 03 - Solving Linear Systems with Substitution",
   "id": "6357c7f527327d9f"
  },
  {
   "metadata": {},
   "cell_type": "markdown",
   "source": [
    "$$\\begin{equation*}\n",
    "\\left\\{\n",
    "\\begin{array}{rl}\n",
    "-x + 4y = 0\\\\\n",
    "2x - 5y = -6\n",
    "\\end{array} \\right.\n",
    "\\end{equation*}$$"
   ],
   "id": "950cc833e99e418"
  },
  {
   "metadata": {
    "ExecuteTime": {
     "end_time": "2025-03-28T16:51:18.758048Z",
     "start_time": "2025-03-28T16:51:18.749551Z"
    }
   },
   "cell_type": "code",
   "source": [
    "x, y = symbols('x y')\n",
    "eq1 = Eq(-x + 4*y, 0)   # -x + 4y = 0\n",
    "eq2 = Eq(2*x - 5*y, -6) # 2x - 5y = -6\n",
    "solve((eq1, eq2), (x, y))"
   ],
   "id": "8f1e17e5e8410fa4",
   "outputs": [
    {
     "name": "stdout",
     "output_type": "stream",
     "text": [
      "{x: -8, y: -2}\n"
     ]
    }
   ],
   "execution_count": 17
  },
  {
   "metadata": {},
   "cell_type": "markdown",
   "source": "#### Example 04 - Solving Linear Systems with Substitution",
   "id": "18dbb00d7a820731"
  },
  {
   "metadata": {},
   "cell_type": "markdown",
   "source": [
    "$$\\begin{equation*}\n",
    "\\left\\{\n",
    "\\begin{array}{rl}\n",
    "y = 4x + 1\\\\\n",
    "-4x + y = 2\n",
    "\\end{array} \\right.\n",
    "\\end{equation*}$$\n",
    "\n",
    "There is no solution for this system of equations."
   ],
   "id": "4d3fc842a9162d95"
  },
  {
   "metadata": {
    "ExecuteTime": {
     "end_time": "2025-03-28T16:59:44.005163Z",
     "start_time": "2025-03-28T16:59:43.997662Z"
    }
   },
   "cell_type": "code",
   "source": [
    "x, y = symbols('x y')\n",
    "eq1 = Eq(y, 4*x + 1)    # y = 4x + 1\n",
    "eq2 = Eq(-4*x + y, 2)   # -4x + y = 2\n",
    "solve((eq1, eq2), (x, y))"
   ],
   "id": "9d843dac045c209f",
   "outputs": [
    {
     "data": {
      "text/plain": [
       "[]"
      ]
     },
     "execution_count": 26,
     "metadata": {},
     "output_type": "execute_result"
    }
   ],
   "execution_count": 26
  },
  {
   "metadata": {},
   "cell_type": "markdown",
   "source": "#### Example 05 - Solving Linear Systems with Substitution",
   "id": "83c7aad83260ebd7"
  },
  {
   "metadata": {},
   "cell_type": "markdown",
   "source": [
    "Remember the first example with the cars?\n",
    "\n",
    "$$\\begin{equation*}\n",
    "\\left\\{\n",
    "\\begin{array}{rl}\n",
    "d = 2.5t\\\\\n",
    "d = 3(t - 5)\n",
    "\\end{array} \\right.\n",
    "\\end{equation*}$$"
   ],
   "id": "b7d143c5304664df"
  },
  {
   "metadata": {
    "ExecuteTime": {
     "end_time": "2025-03-28T17:12:46.646768Z",
     "start_time": "2025-03-28T17:12:46.636814Z"
    }
   },
   "cell_type": "code",
   "source": [
    "d, t = symbols('d t')\n",
    "eq1 = Eq(d, 2.5*t)        # d = 2.5t\n",
    "eq2 = Eq(d, 3*(t - 5))    # d = 3(t - 5)\n",
    "solve((eq1, eq2), (d, t))"
   ],
   "id": "3ce63dd618ce0609",
   "outputs": [
    {
     "data": {
      "text/plain": [
       "{d: 75.0000000000000, t: 30.0000000000000}"
      ]
     },
     "execution_count": 27,
     "metadata": {},
     "output_type": "execute_result"
    }
   ],
   "execution_count": 27
  },
  {
   "metadata": {},
   "cell_type": "markdown",
   "source": "## Solving Linear Systems with Elimination\n",
   "id": "a17bdaa6275f23"
  },
  {
   "metadata": {},
   "cell_type": "markdown",
   "source": [
    "This is typically the best option if no variable in the system has a coefficient of 1.\n",
    "\n",
    "Use the *addition property* of equations to eliminate variables from the system.\n",
    "\n",
    "If necessary, multiply one or both equations to make elimination of a variable possible.\n",
    "\n",
    "Or just use SymPy."
   ],
   "id": "cbcc5fdfa6ebe72"
  },
  {
   "metadata": {},
   "cell_type": "markdown",
   "source": "#### Example 01 - Solving Linear Systems with Elimination",
   "id": "f3876fa342cf7d42"
  },
  {
   "metadata": {},
   "cell_type": "markdown",
   "source": [
    "$$\\begin{equation*}\n",
    "\\left\\{\n",
    "\\begin{array}{rl}\n",
    "2x - 3y = 15\\\\\n",
    "4x + 10y = 14\n",
    "\\end{array} \\right.\n",
    "\\end{equation*}$$"
   ],
   "id": "f54251ac6af23372"
  },
  {
   "metadata": {
    "ExecuteTime": {
     "end_time": "2025-03-28T17:15:48.780668Z",
     "start_time": "2025-03-28T17:15:48.766168Z"
    }
   },
   "cell_type": "code",
   "source": [
    "x, y = symbols('x y')\n",
    "eq1 = Eq(2*x - 3*y, 15)   # 2x - 3y = 15\n",
    "eq2 = Eq(4*x + 10*y, 14)  # 4x + 10y = 14\n",
    "solve((eq1, eq2), (x, y))"
   ],
   "id": "1b326987184a6d2b",
   "outputs": [
    {
     "data": {
      "text/plain": [
       "{x: 6, y: -1}"
      ]
     },
     "execution_count": 28,
     "metadata": {},
     "output_type": "execute_result"
    }
   ],
   "execution_count": 28
  },
  {
   "metadata": {},
   "cell_type": "markdown",
   "source": "#### Example 02 - Solving Linear Systems with Elimination",
   "id": "702b0cf3c3fc652"
  },
  {
   "metadata": {},
   "cell_type": "markdown",
   "source": [
    "$$\\begin{equation*}\n",
    "\\left\\{\n",
    "\\begin{array}{rl}\n",
    "4x - 3y = 25\\\\\n",
    "-3x + 8y = 10\n",
    "\\end{array} \\right.\n",
    "\\end{equation*}$$"
   ],
   "id": "4b8c218c9e6276cc"
  },
  {
   "metadata": {
    "ExecuteTime": {
     "end_time": "2025-03-28T17:21:37.502655Z",
     "start_time": "2025-03-28T17:21:37.489152Z"
    }
   },
   "cell_type": "code",
   "source": [
    "x, y = symbols('x y')\n",
    "eq1 = Eq(4*x - 3*y, 25)   # 4x - 3y = 25\n",
    "eq2 = Eq(-3*x + 8*y, 10)  # -3x + 8y = 10\n",
    "solve((eq1, eq2), (x, y))"
   ],
   "id": "8626f95589c4d2fd",
   "outputs": [
    {
     "data": {
      "text/plain": [
       "{x: 10, y: 5}"
      ]
     },
     "execution_count": 30,
     "metadata": {},
     "output_type": "execute_result"
    }
   ],
   "execution_count": 30
  },
  {
   "metadata": {},
   "cell_type": "markdown",
   "source": "#### Example 03 - Solving Linear Systems with Elimination",
   "id": "df9604083b1ca208"
  },
  {
   "metadata": {},
   "cell_type": "markdown",
   "source": [
    "$$\\begin{equation*}\n",
    "\\left\\{\n",
    "\\begin{array}{rl}\n",
    "-9x - 15y = -15\\\\\n",
    "3x + 5y = -10\n",
    "\\end{array} \\right.\n",
    "\\end{equation*}$$"
   ],
   "id": "77d4633baada8d28"
  },
  {
   "metadata": {
    "ExecuteTime": {
     "end_time": "2025-03-28T17:21:39.860524Z",
     "start_time": "2025-03-28T17:21:39.852530Z"
    }
   },
   "cell_type": "code",
   "source": [
    "x, y = symbols('x y')\n",
    "eq1 = Eq(-9*x - 15*y, -15) # -9x - 15y = -15\n",
    "eq2 = Eq(3*x + 5*y, -10)   # 3x + 5y = -10\n",
    "solve((eq1, eq2), (x, y))"
   ],
   "id": "751264c0094fba34",
   "outputs": [
    {
     "data": {
      "text/plain": [
       "[]"
      ]
     },
     "execution_count": 31,
     "metadata": {},
     "output_type": "execute_result"
    }
   ],
   "execution_count": 31
  },
  {
   "metadata": {},
   "cell_type": "markdown",
   "source": "#### Example 04 - Solving Linear Systems with Elimination",
   "id": "81ae72eaeca770d5"
  },
  {
   "metadata": {},
   "cell_type": "markdown",
   "source": [
    "$$\\begin{equation*}\n",
    "\\left\\{\n",
    "\\begin{array}{rl}\n",
    "4x + 2y = 4\\\\\n",
    "-5x + -3y = -7\n",
    "\\end{array} \\right.\n",
    "\\end{equation*}$$"
   ],
   "id": "1e7545f9b4de4d6e"
  },
  {
   "metadata": {
    "ExecuteTime": {
     "end_time": "2025-03-28T17:21:55.473141Z",
     "start_time": "2025-03-28T17:21:55.460145Z"
    }
   },
   "cell_type": "code",
   "source": [
    "x, y = symbols('x y')\n",
    "eq1 = Eq(4*x + 2*y, 4)     # 4x + 2y = 4\n",
    "eq2 = Eq(-5*x - 3*y, -7)   # -5x + -3y = -7\n",
    "solve((eq1, eq2), (x, y))"
   ],
   "id": "e9abdff4080522df",
   "outputs": [
    {
     "data": {
      "text/plain": [
       "{x: -1, y: 4}"
      ]
     },
     "execution_count": 32,
     "metadata": {},
     "output_type": "execute_result"
    }
   ],
   "execution_count": 32
  }
 ],
 "metadata": {
  "kernelspec": {
   "display_name": "Python 3",
   "language": "python",
   "name": "python3"
  },
  "language_info": {
   "codemirror_mode": {
    "name": "ipython",
    "version": 2
   },
   "file_extension": ".py",
   "mimetype": "text/x-python",
   "name": "python",
   "nbconvert_exporter": "python",
   "pygments_lexer": "ipython2",
   "version": "2.7.6"
  }
 },
 "nbformat": 4,
 "nbformat_minor": 5
}
