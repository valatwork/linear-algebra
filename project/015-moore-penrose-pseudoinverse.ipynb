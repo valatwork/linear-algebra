{
 "cells": [
  {
   "metadata": {},
   "cell_type": "markdown",
   "source": "# Moore-Penrose Pseudoinverse",
   "id": "3bfae47f739b3825"
  },
  {
   "metadata": {},
   "cell_type": "markdown",
   "source": [
    "The Moore-Penrose pseudoinverse is a generalization of the matrix inverse that can be applied to non-square or singular matrices.\n",
    "\n",
    "For the matrix $\\boldsymbol{A}$, the pseudoinverse is denoted as $\\boldsymbol{A}^+$ and its formula is, where:\n",
    "\n",
    "- $\\boldsymbol{U}$, $\\boldsymbol{S}$ and $\\boldsymbol{V}$ are SVD of $\\boldsymbol{A}$\n",
    "- $\\boldsymbol{S}^+$ is a diagonal matrix of singular values of $\\boldsymbol{A}$, with the non-zero singular values inverted\n",
    "\n",
    "$$\\boldsymbol{A}^+ = \\boldsymbol{V} \\boldsymbol{S}^+ \\boldsymbol{U}^T$$"
   ],
   "id": "900aeba49c338e73"
  },
  {
   "metadata": {},
   "cell_type": "markdown",
   "source": "### Moore-Penrose Pseudoinverse with Python",
   "id": "a2938365ffbb7991"
  },
  {
   "metadata": {
    "ExecuteTime": {
     "end_time": "2025-04-04T12:12:55.545270Z",
     "start_time": "2025-04-04T12:12:55.047202Z"
    }
   },
   "cell_type": "code",
   "source": [
    "import numpy as np\n",
    "import torch\n",
    "import matplotlib.pyplot as plt"
   ],
   "id": "d4778cdada5cd5a1",
   "outputs": [],
   "execution_count": 41
  },
  {
   "metadata": {
    "ExecuteTime": {
     "end_time": "2025-04-04T11:55:37.921068Z",
     "start_time": "2025-04-04T11:55:37.914571Z"
    }
   },
   "cell_type": "code",
   "source": [
    "A = torch.tensor([[-1, 2], [3, -2], [5, 7]], dtype=torch.float32)\n",
    "A"
   ],
   "id": "4ea82bc5b4804f8d",
   "outputs": [
    {
     "data": {
      "text/plain": [
       "tensor([[-1.,  2.],\n",
       "        [ 3., -2.],\n",
       "        [ 5.,  7.]])"
      ]
     },
     "execution_count": 28,
     "metadata": {},
     "output_type": "execute_result"
    }
   ],
   "execution_count": 28
  },
  {
   "metadata": {
    "ExecuteTime": {
     "end_time": "2025-04-04T11:53:44.850490Z",
     "start_time": "2025-04-04T11:53:44.844489Z"
    }
   },
   "cell_type": "code",
   "source": "torch.linalg.pinv(A)",
   "id": "b71ca7e15ada69ce",
   "outputs": [
    {
     "data": {
      "text/plain": [
       "tensor([[-0.0877,  0.1777,  0.0758],\n",
       "        [ 0.0766, -0.1193,  0.0869]])"
      ]
     },
     "execution_count": 25,
     "metadata": {},
     "output_type": "execute_result"
    }
   ],
   "execution_count": 25
  },
  {
   "metadata": {},
   "cell_type": "markdown",
   "source": "## Regression with Moore-Penrose Pseudoinverse",
   "id": "3a96f067fdce4b9b"
  },
  {
   "metadata": {},
   "cell_type": "markdown",
   "source": [
    "For regression problems, we typically have many more cases than features to predict.\n",
    "\n",
    "In such cases, matrix inversion is not possible, but we can still use the Moore-Penrose pseudoinverse comes into play."
   ],
   "id": "ce39b14d507b5d2e"
  },
  {
   "metadata": {
    "ExecuteTime": {
     "end_time": "2025-04-04T12:12:59.451063Z",
     "start_time": "2025-04-04T12:12:59.446062Z"
    }
   },
   "cell_type": "code",
   "source": [
    "x1 = [0, 1, 2, 3, 4, 5, 6, 7.] # E.g.: Dosage of drug for treating Alzheimer's disease\n",
    "y = [1.86, 1.31, .62, .33, .09, -.67, -1.23, -1.37] # E.g.: Patient's \"forgetfulness score\""
   ],
   "id": "687ee7afbacdd435",
   "outputs": [],
   "execution_count": 42
  },
  {
   "metadata": {
    "ExecuteTime": {
     "end_time": "2025-04-04T12:13:11.307714Z",
     "start_time": "2025-04-04T12:13:11.134714Z"
    }
   },
   "cell_type": "code",
   "source": [
    "title = 'Clinical Trial'\n",
    "xlabel = 'Drug dosage (mL)'\n",
    "ylabel = 'Forgetfulness'\n",
    "\n",
    "fig, ax = plt.subplots()\n",
    "plt.title(title)\n",
    "plt.xlabel(xlabel)\n",
    "plt.ylabel(ylabel)\n",
    "_ = ax.scatter(x1, y)"
   ],
   "id": "7f776a453bd0b7aa",
   "outputs": [
    {
     "data": {
      "text/plain": [
       "<Figure size 640x480 with 1 Axes>"
      ],
      "image/png": "[encoded data removed]"
     },
     "metadata": {},
     "output_type": "display_data"
    }
   ],
   "execution_count": 44
  },
  {
   "metadata": {},
   "cell_type": "markdown",
   "source": [
    "Although it appears there is only one predictor ($x_1$), the model requires a second one in order to allow for a $y$-intercept.\n",
    "\n",
    "Let's define the second predictor as $x_0$:"
   ],
   "id": "3cfe0c34d6eefc12"
  },
  {
   "metadata": {
    "ExecuteTime": {
     "end_time": "2025-04-04T12:14:37.511629Z",
     "start_time": "2025-04-04T12:14:37.506628Z"
    }
   },
   "cell_type": "code",
   "source": [
    "x0 = np.ones(8)\n",
    "x0"
   ],
   "id": "fcff5de654305a97",
   "outputs": [
    {
     "data": {
      "text/plain": [
       "array([1., 1., 1., 1., 1., 1., 1., 1.])"
      ]
     },
     "execution_count": 45,
     "metadata": {},
     "output_type": "execute_result"
    }
   ],
   "execution_count": 45
  },
  {
   "metadata": {},
   "cell_type": "markdown",
   "source": "Concatenating the two predictors into a single matrix:",
   "id": "bf94289207952331"
  },
  {
   "metadata": {
    "ExecuteTime": {
     "end_time": "2025-04-04T12:15:09.065558Z",
     "start_time": "2025-04-04T12:15:09.060057Z"
    }
   },
   "cell_type": "code",
   "source": [
    "X = np.column_stack((x0, x1))\n",
    "X"
   ],
   "id": "b74625659712349",
   "outputs": [
    {
     "data": {
      "text/plain": [
       "array([[1., 0.],\n",
       "       [1., 1.],\n",
       "       [1., 2.],\n",
       "       [1., 3.],\n",
       "       [1., 4.],\n",
       "       [1., 5.],\n",
       "       [1., 6.],\n",
       "       [1., 7.]])"
      ]
     },
     "execution_count": 46,
     "metadata": {},
     "output_type": "execute_result"
    }
   ],
   "execution_count": 46
  },
  {
   "metadata": {},
   "cell_type": "markdown",
   "source": "We can calculate the weights using the equation $\\boldsymbol{w} = \\boldsymbol{X}^+ \\boldsymbol{y}$:",
   "id": "6147d76d191dc59e"
  },
  {
   "metadata": {
    "ExecuteTime": {
     "end_time": "2025-04-04T12:15:45.295687Z",
     "start_time": "2025-04-04T12:15:45.289687Z"
    }
   },
   "cell_type": "code",
   "source": [
    "w = np.dot(np.linalg.pinv(X), y)\n",
    "w"
   ],
   "id": "557e5398521e40fc",
   "outputs": [
    {
     "data": {
      "text/plain": [
       "array([ 1.76      , -0.46928571])"
      ]
     },
     "execution_count": 48,
     "metadata": {},
     "output_type": "execute_result"
    }
   ],
   "execution_count": 48
  },
  {
   "metadata": {},
   "cell_type": "markdown",
   "source": "The first weight is the $y$-intercept of the line, which is typically denoted as $b$:",
   "id": "ca523c87631028f"
  },
  {
   "metadata": {
    "ExecuteTime": {
     "end_time": "2025-04-04T12:15:53.409147Z",
     "start_time": "2025-04-04T12:15:53.403149Z"
    }
   },
   "cell_type": "code",
   "source": [
    "b = np.asarray(w).reshape(-1)[0]\n",
    "b"
   ],
   "id": "1d9ef101e81d5940",
   "outputs": [
    {
     "data": {
      "text/plain": [
       "1.7599999999999993"
      ]
     },
     "execution_count": 49,
     "metadata": {},
     "output_type": "execute_result"
    }
   ],
   "execution_count": 49
  },
  {
   "metadata": {},
   "cell_type": "markdown",
   "source": "While the second weight corresponds to the slope of the line, which is typically denoted as $m$:",
   "id": "3d549128c37b6f42"
  },
  {
   "metadata": {
    "ExecuteTime": {
     "end_time": "2025-04-04T12:15:58.687605Z",
     "start_time": "2025-04-04T12:15:58.682106Z"
    }
   },
   "cell_type": "code",
   "source": [
    "m = np.asarray(w).reshape(-1)[1]\n",
    "m"
   ],
   "id": "f87c7e2fc23f48a9",
   "outputs": [
    {
     "data": {
      "text/plain": [
       "-0.4692857142857141"
      ]
     },
     "execution_count": 50,
     "metadata": {},
     "output_type": "execute_result"
    }
   ],
   "execution_count": 50
  },
  {
   "metadata": {},
   "cell_type": "markdown",
   "source": "With the weights calculated, we can now plot the line of best fit:",
   "id": "222e8eada654dcf6"
  },
  {
   "metadata": {
    "ExecuteTime": {
     "end_time": "2025-04-04T12:16:04.553715Z",
     "start_time": "2025-04-04T12:16:04.412213Z"
    }
   },
   "cell_type": "code",
   "source": [
    "fig, ax = plt.subplots()\n",
    "\n",
    "plt.title(title)\n",
    "plt.xlabel(xlabel)\n",
    "plt.ylabel(ylabel)\n",
    "\n",
    "ax.scatter(x1, y)\n",
    "\n",
    "x_min, x_max = ax.get_xlim()\n",
    "y_at_xmin = m*x_min + b\n",
    "y_at_xmax = m*x_max + b\n",
    "\n",
    "ax.set_xlim([x_min, x_max])\n",
    "_ = ax.plot([x_min, x_max], [y_at_xmin, y_at_xmax], c='C01')"
   ],
   "id": "c7ce0d6a84fd5d70",
   "outputs": [
    {
     "data": {
      "text/plain": [
       "<Figure size 640x480 with 1 Axes>"
      ],
      "image/png": "[encoded data removed]"
     },
     "metadata": {},
     "output_type": "display_data"
    }
   ],
   "execution_count": 51
  }
 ],
 "metadata": {
  "kernelspec": {
   "display_name": "Python 3",
   "language": "python",
   "name": "python3"
  },
  "language_info": {
   "codemirror_mode": {
    "name": "ipython",
    "version": 2
   },
   "file_extension": ".py",
   "mimetype": "text/x-python",
   "name": "python",
   "nbconvert_exporter": "python",
   "pygments_lexer": "ipython2",
   "version": "2.7.6"
  }
 },
 "nbformat": 4,
 "nbformat_minor": 5
}
