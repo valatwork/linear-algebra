{
 "cells": [
  {
   "metadata": {},
   "cell_type": "markdown",
   "source": "# Generic tensor notation",
   "id": "1d77a16a7987e65"
  },
  {
   "metadata": {},
   "cell_type": "markdown",
   "source": [
    "Characteristics of the generic tensor notation:\n",
    "\n",
    "- Denoted in uppercase, bold, italics, sans-serif $\\boldsymbol{\\mathsfit{X}}$\n",
    "- In a $4$-tensor $\\boldsymbol{\\mathsfit{X}}$, the element at position $(i,j,k,l)$ is denoted as $\\boldsymbol{\\mathsfit{X}}_{i,j,k,l}$\n"
   ],
   "id": "c0c88261a52882c1"
  },
  {
   "metadata": {},
   "cell_type": "markdown",
   "source": "## Generating tensors",
   "id": "fe6e43586868ebfc"
  },
  {
   "metadata": {
    "ExecuteTime": {
     "end_time": "2025-04-18T10:59:55.021519Z",
     "start_time": "2025-04-18T10:59:55.017518Z"
    }
   },
   "cell_type": "code",
   "source": [
    "import torch\n",
    "import tensorflow as tf"
   ],
   "id": "59bcdf42da429d9f",
   "outputs": [],
   "execution_count": 20
  },
  {
   "metadata": {},
   "cell_type": "markdown",
   "source": "### Random tensors",
   "id": "9817bc15558be0e1"
  },
  {
   "metadata": {},
   "cell_type": "markdown",
   "source": "Random tensors are important because the way many neural networks learn is that they start with tensors full of random numbers and then adjust those random numbers to better represent the data.",
   "id": "c90cb3accf8b937b"
  },
  {
   "metadata": {
    "ExecuteTime": {
     "end_time": "2025-04-18T10:59:55.049017Z",
     "start_time": "2025-04-18T10:59:55.045017Z"
    }
   },
   "cell_type": "code",
   "source": "A = torch.rand(3, 4)",
   "id": "e9da2820f8dedcf1",
   "outputs": [],
   "execution_count": 21
  },
  {
   "metadata": {
    "ExecuteTime": {
     "end_time": "2025-04-18T10:59:55.071017Z",
     "start_time": "2025-04-18T10:59:55.066517Z"
    }
   },
   "cell_type": "code",
   "source": "A",
   "id": "bff98223030a399f",
   "outputs": [
    {
     "data": {
      "text/plain": [
       "tensor([[0.5306, 0.3643, 0.4946, 0.5311],\n",
       "        [0.4840, 0.8547, 0.5620, 0.2910],\n",
       "        [0.2840, 0.1841, 0.1688, 0.6927]])"
      ]
     },
     "execution_count": 22,
     "metadata": {},
     "output_type": "execute_result"
    }
   ],
   "execution_count": 22
  },
  {
   "metadata": {
    "ExecuteTime": {
     "end_time": "2025-04-18T10:59:55.137519Z",
     "start_time": "2025-04-18T10:59:55.132519Z"
    }
   },
   "cell_type": "code",
   "source": "A.ndim",
   "id": "d05346135390e4cd",
   "outputs": [
    {
     "data": {
      "text/plain": [
       "2"
      ]
     },
     "execution_count": 23,
     "metadata": {},
     "output_type": "execute_result"
    }
   ],
   "execution_count": 23
  },
  {
   "metadata": {},
   "cell_type": "markdown",
   "source": "### Range of values",
   "id": "f0553ef0d4168293"
  },
  {
   "metadata": {
    "ExecuteTime": {
     "end_time": "2025-04-18T10:59:55.199519Z",
     "start_time": "2025-04-18T10:59:55.194017Z"
    }
   },
   "cell_type": "code",
   "source": [
    "B = torch.arange(1, 11)\n",
    "B"
   ],
   "id": "9514784f10cf2802",
   "outputs": [
    {
     "data": {
      "text/plain": [
       "tensor([ 1,  2,  3,  4,  5,  6,  7,  8,  9, 10])"
      ]
     },
     "execution_count": 24,
     "metadata": {},
     "output_type": "execute_result"
    }
   ],
   "execution_count": 24
  },
  {
   "metadata": {
    "ExecuteTime": {
     "end_time": "2025-04-18T10:59:55.254016Z",
     "start_time": "2025-04-18T10:59:55.249017Z"
    }
   },
   "cell_type": "code",
   "source": [
    "C = torch.arange(start=0, end=1000, step=77)\n",
    "C"
   ],
   "id": "a9150434a506744c",
   "outputs": [
    {
     "data": {
      "text/plain": [
       "tensor([  0,  77, 154, 231, 308, 385, 462, 539, 616, 693, 770, 847, 924])"
      ]
     },
     "execution_count": 25,
     "metadata": {},
     "output_type": "execute_result"
    }
   ],
   "execution_count": 25
  },
  {
   "metadata": {},
   "cell_type": "markdown",
   "source": "### Generating tensors-like",
   "id": "8e241570f52ac778"
  },
  {
   "metadata": {
    "ExecuteTime": {
     "end_time": "2025-04-18T10:59:55.317020Z",
     "start_time": "2025-04-18T10:59:55.312016Z"
    }
   },
   "cell_type": "code",
   "source": [
    "D = torch.zeros_like(B)\n",
    "D"
   ],
   "id": "c21ab7e8757ca365",
   "outputs": [
    {
     "data": {
      "text/plain": [
       "tensor([0, 0, 0, 0, 0, 0, 0, 0, 0, 0])"
      ]
     },
     "execution_count": 26,
     "metadata": {},
     "output_type": "execute_result"
    }
   ],
   "execution_count": 26
  },
  {
   "metadata": {},
   "cell_type": "markdown",
   "source": "## Higher-rank tensors",
   "id": "9b567b9992f7eb2a"
  },
  {
   "metadata": {
    "ExecuteTime": {
     "end_time": "2025-04-18T10:59:55.378519Z",
     "start_time": "2025-04-18T10:59:55.373516Z"
    }
   },
   "cell_type": "code",
   "source": "images_pt = torch.zeros([32, 28, 28, 3])",
   "id": "52e51b1f30ac6375",
   "outputs": [],
   "execution_count": 27
  },
  {
   "metadata": {
    "ExecuteTime": {
     "end_time": "2025-04-18T10:59:55.424016Z",
     "start_time": "2025-04-18T10:59:55.419519Z"
    }
   },
   "cell_type": "code",
   "source": "images_pt.shape",
   "id": "120de0d08b9ec1a0",
   "outputs": [
    {
     "data": {
      "text/plain": [
       "torch.Size([32, 28, 28, 3])"
      ]
     },
     "execution_count": 28,
     "metadata": {},
     "output_type": "execute_result"
    }
   ],
   "execution_count": 28
  },
  {
   "metadata": {
    "ExecuteTime": {
     "end_time": "2025-04-18T10:59:55.460020Z",
     "start_time": "2025-04-18T10:59:55.455520Z"
    }
   },
   "cell_type": "code",
   "source": "images_pt.ndim",
   "id": "dbdf2d9973c04475",
   "outputs": [
    {
     "data": {
      "text/plain": [
       "4"
      ]
     },
     "execution_count": 29,
     "metadata": {},
     "output_type": "execute_result"
    }
   ],
   "execution_count": 29
  },
  {
   "metadata": {
    "ExecuteTime": {
     "end_time": "2025-04-18T10:59:55.502517Z",
     "start_time": "2025-04-18T10:59:55.497518Z"
    }
   },
   "cell_type": "code",
   "source": "images_tf = tf.zeros([32, 28, 28, 3])",
   "id": "aadfe2254c26bff0",
   "outputs": [],
   "execution_count": 30
  },
  {
   "metadata": {
    "ExecuteTime": {
     "end_time": "2025-04-18T10:59:55.539017Z",
     "start_time": "2025-04-18T10:59:55.533517Z"
    }
   },
   "cell_type": "code",
   "source": "images_tf.shape",
   "id": "2fb77c5d4e23790d",
   "outputs": [
    {
     "data": {
      "text/plain": [
       "TensorShape([32, 28, 28, 3])"
      ]
     },
     "execution_count": 31,
     "metadata": {},
     "output_type": "execute_result"
    }
   ],
   "execution_count": 31
  },
  {
   "metadata": {
    "ExecuteTime": {
     "end_time": "2025-04-18T10:59:55.571517Z",
     "start_time": "2025-04-18T10:59:55.567017Z"
    }
   },
   "cell_type": "code",
   "source": "images_tf.ndim",
   "id": "5752d48e4b1f6d6b",
   "outputs": [
    {
     "data": {
      "text/plain": [
       "4"
      ]
     },
     "execution_count": 32,
     "metadata": {},
     "output_type": "execute_result"
    }
   ],
   "execution_count": 32
  },
  {
   "metadata": {},
   "cell_type": "markdown",
   "source": "## Tensor Data Types",
   "id": "68417cf9840aa0ae"
  },
  {
   "metadata": {
    "ExecuteTime": {
     "end_time": "2025-04-18T10:59:55.602018Z",
     "start_time": "2025-04-18T10:59:55.596519Z"
    }
   },
   "cell_type": "code",
   "source": [
    "E = torch.tensor([3.0, 6.0, 9.0])\n",
    "E"
   ],
   "id": "6ace4e5e26d5bb7d",
   "outputs": [
    {
     "data": {
      "text/plain": [
       "tensor([3., 6., 9.])"
      ]
     },
     "execution_count": 33,
     "metadata": {},
     "output_type": "execute_result"
    }
   ],
   "execution_count": 33
  },
  {
   "metadata": {
    "ExecuteTime": {
     "end_time": "2025-04-18T10:59:55.639518Z",
     "start_time": "2025-04-18T10:59:55.635020Z"
    }
   },
   "cell_type": "code",
   "source": "E.dtype",
   "id": "d51949c7a212c5ff",
   "outputs": [
    {
     "data": {
      "text/plain": [
       "torch.float32"
      ]
     },
     "execution_count": 34,
     "metadata": {},
     "output_type": "execute_result"
    }
   ],
   "execution_count": 34
  },
  {
   "metadata": {
    "ExecuteTime": {
     "end_time": "2025-04-18T10:59:55.666517Z",
     "start_time": "2025-04-18T10:59:55.660519Z"
    }
   },
   "cell_type": "code",
   "source": [
    "F = torch.tensor([3.0, 6.0, 9.0],\n",
    "                 dtype=None, # specify the data type\n",
    "                 device=None, # specify the device used for computation\n",
    "                 requires_grad=False # specify if gradients are required\n",
    "                 )\n",
    "F"
   ],
   "id": "187641910f948f25",
   "outputs": [
    {
     "data": {
      "text/plain": [
       "tensor([3., 6., 9.])"
      ]
     },
     "execution_count": 35,
     "metadata": {},
     "output_type": "execute_result"
    }
   ],
   "execution_count": 35
  },
  {
   "metadata": {},
   "cell_type": "markdown",
   "source": [
    "It is important to note that operations between tensors may throw an error if:\n",
    "\n",
    "- the tensors are not of the same data type\n",
    "- the tensors are not of the same shape\n",
    "- the tensors are not on the same device"
   ],
   "id": "35ed69286abba2d5"
  },
  {
   "metadata": {
    "ExecuteTime": {
     "end_time": "2025-04-18T10:59:55.700016Z",
     "start_time": "2025-04-18T10:59:55.694517Z"
    }
   },
   "cell_type": "code",
   "source": [
    "G = F.type(torch.float16)\n",
    "G"
   ],
   "id": "ce2fdc0455d11196",
   "outputs": [
    {
     "data": {
      "text/plain": [
       "tensor([3., 6., 9.], dtype=torch.float16)"
      ]
     },
     "execution_count": 36,
     "metadata": {},
     "output_type": "execute_result"
    }
   ],
   "execution_count": 36
  },
  {
   "metadata": {
    "ExecuteTime": {
     "end_time": "2025-04-18T10:59:55.728518Z",
     "start_time": "2025-04-18T10:59:55.724017Z"
    }
   },
   "cell_type": "code",
   "source": "G.dtype",
   "id": "bd0c9e7b29bd37f7",
   "outputs": [
    {
     "data": {
      "text/plain": [
       "torch.float16"
      ]
     },
     "execution_count": 37,
     "metadata": {},
     "output_type": "execute_result"
    }
   ],
   "execution_count": 37
  },
  {
   "metadata": {
    "ExecuteTime": {
     "end_time": "2025-04-18T10:59:55.762519Z",
     "start_time": "2025-04-18T10:59:55.758518Z"
    }
   },
   "cell_type": "code",
   "source": "G.device",
   "id": "db1a3ed4c4a14c54",
   "outputs": [
    {
     "data": {
      "text/plain": [
       "device(type='cpu')"
      ]
     },
     "execution_count": 38,
     "metadata": {},
     "output_type": "execute_result"
    }
   ],
   "execution_count": 38
  }
 ],
 "metadata": {
  "kernelspec": {
   "display_name": "Python 3",
   "language": "python",
   "name": "python3"
  },
  "language_info": {
   "codemirror_mode": {
    "name": "ipython",
    "version": 2
   },
   "file_extension": ".py",
   "mimetype": "text/x-python",
   "name": "python",
   "nbconvert_exporter": "python",
   "pygments_lexer": "ipython2",
   "version": "2.7.6"
  }
 },
 "nbformat": 4,
 "nbformat_minor": 5
}
