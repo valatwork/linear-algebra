{
 "cells": [
  {
   "metadata": {},
   "cell_type": "markdown",
   "source": "# Generic tensor notation",
   "id": "1d77a16a7987e65"
  },
  {
   "metadata": {},
   "cell_type": "markdown",
   "source": [
    "Characteristics of the generic tensor notation:\n",
    "\n",
    "- Denoted in uppercase, bold, italics, sans-serif $\\boldsymbol{\\mathsfit{X}}$\n",
    "- In a $4$-tensor $\\boldsymbol{\\mathsfit{X}}$, the element at position $(i,j,k,l)$ is denoted as $\\boldsymbol{\\mathsfit{X}}_{i,j,k,l}$\n"
   ],
   "id": "c0c88261a52882c1"
  },
  {
   "metadata": {},
   "cell_type": "markdown",
   "source": "## Generating tensors",
   "id": "fe6e43586868ebfc"
  },
  {
   "metadata": {
    "ExecuteTime": {
     "end_time": "2025-04-18T10:15:08.941900Z",
     "start_time": "2025-04-18T10:14:44.675815Z"
    }
   },
   "cell_type": "code",
   "source": [
    "import torch\n",
    "import tensorflow as tf"
   ],
   "id": "59bcdf42da429d9f",
   "outputs": [],
   "execution_count": 1
  },
  {
   "metadata": {},
   "cell_type": "markdown",
   "source": "### Random tensors",
   "id": "9817bc15558be0e1"
  },
  {
   "metadata": {},
   "cell_type": "markdown",
   "source": "Random tensors are important because the way many neural networks learn is that they start with tensors full of random numbers and then adjust those random numbers to better represent the data.",
   "id": "c90cb3accf8b937b"
  },
  {
   "metadata": {
    "ExecuteTime": {
     "end_time": "2025-04-18T10:15:30.124304Z",
     "start_time": "2025-04-18T10:15:30.118804Z"
    }
   },
   "cell_type": "code",
   "source": "A = torch.rand(3, 4)",
   "id": "e9da2820f8dedcf1",
   "outputs": [],
   "execution_count": 2
  },
  {
   "metadata": {
    "ExecuteTime": {
     "end_time": "2025-04-18T10:15:30.634799Z",
     "start_time": "2025-04-18T10:15:30.627300Z"
    }
   },
   "cell_type": "code",
   "source": "A",
   "id": "bff98223030a399f",
   "outputs": [
    {
     "data": {
      "text/plain": [
       "tensor([[0.9053, 0.9714, 0.6249, 0.0310],\n",
       "        [0.5595, 0.6462, 0.7218, 0.5175],\n",
       "        [0.9860, 0.2825, 0.4533, 0.9609]])"
      ]
     },
     "execution_count": 3,
     "metadata": {},
     "output_type": "execute_result"
    }
   ],
   "execution_count": 3
  },
  {
   "metadata": {
    "ExecuteTime": {
     "end_time": "2025-04-18T10:15:31.096300Z",
     "start_time": "2025-04-18T10:15:31.091801Z"
    }
   },
   "cell_type": "code",
   "source": "A.ndim",
   "id": "d05346135390e4cd",
   "outputs": [
    {
     "data": {
      "text/plain": [
       "2"
      ]
     },
     "execution_count": 4,
     "metadata": {},
     "output_type": "execute_result"
    }
   ],
   "execution_count": 4
  },
  {
   "metadata": {},
   "cell_type": "markdown",
   "source": "### Range of values",
   "id": "f0553ef0d4168293"
  },
  {
   "metadata": {
    "ExecuteTime": {
     "end_time": "2025-04-18T10:15:31.968452Z",
     "start_time": "2025-04-18T10:15:31.962951Z"
    }
   },
   "cell_type": "code",
   "source": [
    "B = torch.arange(1, 11)\n",
    "B"
   ],
   "id": "9514784f10cf2802",
   "outputs": [
    {
     "data": {
      "text/plain": [
       "tensor([ 1,  2,  3,  4,  5,  6,  7,  8,  9, 10])"
      ]
     },
     "execution_count": 5,
     "metadata": {},
     "output_type": "execute_result"
    }
   ],
   "execution_count": 5
  },
  {
   "metadata": {
    "ExecuteTime": {
     "end_time": "2025-04-18T10:15:32.168951Z",
     "start_time": "2025-04-18T10:15:32.162951Z"
    }
   },
   "cell_type": "code",
   "source": [
    "C = torch.arange(start=0, end=1000, step=77)\n",
    "C"
   ],
   "id": "a9150434a506744c",
   "outputs": [
    {
     "data": {
      "text/plain": [
       "tensor([  0,  77, 154, 231, 308, 385, 462, 539, 616, 693, 770, 847, 924])"
      ]
     },
     "execution_count": 6,
     "metadata": {},
     "output_type": "execute_result"
    }
   ],
   "execution_count": 6
  },
  {
   "metadata": {},
   "cell_type": "markdown",
   "source": "### Generating tensors-like",
   "id": "8e241570f52ac778"
  },
  {
   "metadata": {
    "ExecuteTime": {
     "end_time": "2025-04-18T10:15:32.519866Z",
     "start_time": "2025-04-18T10:15:32.515363Z"
    }
   },
   "cell_type": "code",
   "source": [
    "D = torch.zeros_like(B)\n",
    "D"
   ],
   "id": "c21ab7e8757ca365",
   "outputs": [
    {
     "data": {
      "text/plain": [
       "tensor([0, 0, 0, 0, 0, 0, 0, 0, 0, 0])"
      ]
     },
     "execution_count": 7,
     "metadata": {},
     "output_type": "execute_result"
    }
   ],
   "execution_count": 7
  },
  {
   "metadata": {},
   "cell_type": "markdown",
   "source": "## Higher-rank tensors",
   "id": "9b567b9992f7eb2a"
  },
  {
   "metadata": {
    "ExecuteTime": {
     "end_time": "2025-04-18T10:15:32.821864Z",
     "start_time": "2025-04-18T10:15:32.815865Z"
    }
   },
   "cell_type": "code",
   "source": "images_pt = torch.zeros([32, 28, 28, 3])",
   "id": "52e51b1f30ac6375",
   "outputs": [],
   "execution_count": 8
  },
  {
   "metadata": {
    "ExecuteTime": {
     "end_time": "2025-04-18T10:15:37.468214Z",
     "start_time": "2025-04-18T10:15:37.462713Z"
    }
   },
   "cell_type": "code",
   "source": "images_pt.shape",
   "id": "120de0d08b9ec1a0",
   "outputs": [
    {
     "data": {
      "text/plain": [
       "torch.Size([32, 28, 28, 3])"
      ]
     },
     "execution_count": 9,
     "metadata": {},
     "output_type": "execute_result"
    }
   ],
   "execution_count": 9
  },
  {
   "metadata": {
    "ExecuteTime": {
     "end_time": "2025-04-18T10:15:37.651214Z",
     "start_time": "2025-04-18T10:15:37.646214Z"
    }
   },
   "cell_type": "code",
   "source": "images_pt.ndim",
   "id": "dbdf2d9973c04475",
   "outputs": [
    {
     "data": {
      "text/plain": [
       "4"
      ]
     },
     "execution_count": 10,
     "metadata": {},
     "output_type": "execute_result"
    }
   ],
   "execution_count": 10
  },
  {
   "metadata": {
    "ExecuteTime": {
     "end_time": "2025-04-18T10:15:37.856715Z",
     "start_time": "2025-04-18T10:15:37.818714Z"
    }
   },
   "cell_type": "code",
   "source": "images_tf = tf.zeros([32, 28, 28, 3])",
   "id": "aadfe2254c26bff0",
   "outputs": [],
   "execution_count": 11
  },
  {
   "metadata": {
    "ExecuteTime": {
     "end_time": "2025-04-18T10:15:37.996214Z",
     "start_time": "2025-04-18T10:15:37.991214Z"
    }
   },
   "cell_type": "code",
   "source": "images_tf.shape",
   "id": "2fb77c5d4e23790d",
   "outputs": [
    {
     "data": {
      "text/plain": [
       "TensorShape([32, 28, 28, 3])"
      ]
     },
     "execution_count": 12,
     "metadata": {},
     "output_type": "execute_result"
    }
   ],
   "execution_count": 12
  },
  {
   "metadata": {
    "ExecuteTime": {
     "end_time": "2025-04-18T10:15:38.164714Z",
     "start_time": "2025-04-18T10:15:38.159214Z"
    }
   },
   "cell_type": "code",
   "source": "images_tf.ndim",
   "id": "5752d48e4b1f6d6b",
   "outputs": [
    {
     "data": {
      "text/plain": [
       "4"
      ]
     },
     "execution_count": 13,
     "metadata": {},
     "output_type": "execute_result"
    }
   ],
   "execution_count": 13
  },
  {
   "metadata": {},
   "cell_type": "markdown",
   "source": "## Tensor Data Types",
   "id": "68417cf9840aa0ae"
  },
  {
   "metadata": {
    "ExecuteTime": {
     "end_time": "2025-04-18T10:15:38.513714Z",
     "start_time": "2025-04-18T10:15:38.507715Z"
    }
   },
   "cell_type": "code",
   "source": [
    "E = torch.tensor([3.0, 6.0, 9.0])\n",
    "E"
   ],
   "id": "6ace4e5e26d5bb7d",
   "outputs": [
    {
     "data": {
      "text/plain": [
       "tensor([3., 6., 9.])"
      ]
     },
     "execution_count": 14,
     "metadata": {},
     "output_type": "execute_result"
    }
   ],
   "execution_count": 14
  },
  {
   "metadata": {
    "ExecuteTime": {
     "end_time": "2025-04-18T10:15:38.685214Z",
     "start_time": "2025-04-18T10:15:38.680215Z"
    }
   },
   "cell_type": "code",
   "source": "E.dtype",
   "id": "d51949c7a212c5ff",
   "outputs": [
    {
     "data": {
      "text/plain": [
       "torch.float32"
      ]
     },
     "execution_count": 15,
     "metadata": {},
     "output_type": "execute_result"
    }
   ],
   "execution_count": 15
  },
  {
   "metadata": {
    "ExecuteTime": {
     "end_time": "2025-04-18T10:15:38.861713Z",
     "start_time": "2025-04-18T10:15:38.855213Z"
    }
   },
   "cell_type": "code",
   "source": [
    "F = torch.tensor([3.0, 6.0, 9.0],\n",
    "                 dtype=None, # specify the data type\n",
    "                 device=None, # specify the device used for computation\n",
    "                 requires_grad=False # specify if gradients are required\n",
    "                 )\n",
    "F"
   ],
   "id": "187641910f948f25",
   "outputs": [
    {
     "data": {
      "text/plain": [
       "tensor([3., 6., 9.])"
      ]
     },
     "execution_count": 16,
     "metadata": {},
     "output_type": "execute_result"
    }
   ],
   "execution_count": 16
  },
  {
   "metadata": {},
   "cell_type": "markdown",
   "source": [
    "It is important to note that operations between tensors may throw an error if:\n",
    "\n",
    "- the tensors are not of the same data type\n",
    "- the tensors are not of the same shape\n",
    "- the tensors are not on the same device"
   ],
   "id": "35ed69286abba2d5"
  },
  {
   "metadata": {
    "ExecuteTime": {
     "end_time": "2025-04-18T10:15:39.208222Z",
     "start_time": "2025-04-18T10:15:39.202724Z"
    }
   },
   "cell_type": "code",
   "source": [
    "G = F.type(torch.float16)\n",
    "G"
   ],
   "id": "ce2fdc0455d11196",
   "outputs": [
    {
     "data": {
      "text/plain": [
       "tensor([3., 6., 9.], dtype=torch.float16)"
      ]
     },
     "execution_count": 17,
     "metadata": {},
     "output_type": "execute_result"
    }
   ],
   "execution_count": 17
  },
  {
   "metadata": {
    "ExecuteTime": {
     "end_time": "2025-04-18T10:15:39.430223Z",
     "start_time": "2025-04-18T10:15:39.424722Z"
    }
   },
   "cell_type": "code",
   "source": "G.dtype",
   "id": "bd0c9e7b29bd37f7",
   "outputs": [
    {
     "data": {
      "text/plain": [
       "torch.float16"
      ]
     },
     "execution_count": 18,
     "metadata": {},
     "output_type": "execute_result"
    }
   ],
   "execution_count": 18
  },
  {
   "metadata": {
    "ExecuteTime": {
     "end_time": "2025-04-18T10:23:45.000765Z",
     "start_time": "2025-04-18T10:23:44.994264Z"
    }
   },
   "cell_type": "code",
   "source": "G.device",
   "id": "db1a3ed4c4a14c54",
   "outputs": [
    {
     "data": {
      "text/plain": [
       "device(type='cpu')"
      ]
     },
     "execution_count": 19,
     "metadata": {},
     "output_type": "execute_result"
    }
   ],
   "execution_count": 19
  }
 ],
 "metadata": {
  "kernelspec": {
   "display_name": "Python 3",
   "language": "python",
   "name": "python3"
  },
  "language_info": {
   "codemirror_mode": {
    "name": "ipython",
    "version": 2
   },
   "file_extension": ".py",
   "mimetype": "text/x-python",
   "name": "python",
   "nbconvert_exporter": "python",
   "pygments_lexer": "ipython2",
   "version": "2.7.6"
  }
 },
 "nbformat": 4,
 "nbformat_minor": 5
}
