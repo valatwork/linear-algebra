{
 "cells": [
  {
   "metadata": {},
   "cell_type": "markdown",
   "source": "# Generic tensor notation",
   "id": "1d77a16a7987e65"
  },
  {
   "metadata": {},
   "cell_type": "markdown",
   "source": [
    "Characteristics of the generic tensor notation:\n",
    "\n",
    "- Denoted in uppercase, bold, italics, sans-serif $\\boldsymbol{\\mathsfit{X}}$\n",
    "- In a $4$-tensor $\\boldsymbol{\\mathsfit{X}}$, the element at position $(i,j,k,l)$ is denoted as $\\boldsymbol{\\mathsfit{X}}_{i,j,k,l}$\n"
   ],
   "id": "c0c88261a52882c1"
  },
  {
   "metadata": {},
   "cell_type": "markdown",
   "source": "## Generating tensors",
   "id": "fe6e43586868ebfc"
  },
  {
   "metadata": {},
   "cell_type": "code",
   "outputs": [],
   "execution_count": 31,
   "source": [
    "import torch\n",
    "import tensorflow as tf"
   ],
   "id": "59bcdf42da429d9f"
  },
  {
   "metadata": {},
   "cell_type": "markdown",
   "source": "### Random tensors",
   "id": "9817bc15558be0e1"
  },
  {
   "metadata": {},
   "cell_type": "markdown",
   "source": "Random tensors are important because the way many neural networks learn is that they start with tensors full of random numbers, and then adjust those random numbers to better represent the data.",
   "id": "c90cb3accf8b937b"
  },
  {
   "metadata": {
    "ExecuteTime": {
     "end_time": "2025-04-17T14:55:15.021765Z",
     "start_time": "2025-04-17T14:55:15.018266Z"
    }
   },
   "cell_type": "code",
   "source": "A = torch.rand(3, 4)",
   "id": "e9da2820f8dedcf1",
   "outputs": [],
   "execution_count": 42
  },
  {
   "metadata": {
    "ExecuteTime": {
     "end_time": "2025-04-17T14:55:24.161533Z",
     "start_time": "2025-04-17T14:55:24.156530Z"
    }
   },
   "cell_type": "code",
   "source": "A",
   "id": "bff98223030a399f",
   "outputs": [
    {
     "data": {
      "text/plain": [
       "tensor([[0.5425, 0.4444, 0.1210, 0.5169],\n",
       "        [0.6543, 0.2255, 0.5472, 0.6732],\n",
       "        [0.4354, 0.8666, 0.2199, 0.2733]])"
      ]
     },
     "execution_count": 43,
     "metadata": {},
     "output_type": "execute_result"
    }
   ],
   "execution_count": 43
  },
  {
   "metadata": {
    "ExecuteTime": {
     "end_time": "2025-04-17T14:55:28.175221Z",
     "start_time": "2025-04-17T14:55:28.170723Z"
    }
   },
   "cell_type": "code",
   "source": "A.ndim",
   "id": "d05346135390e4cd",
   "outputs": [
    {
     "data": {
      "text/plain": [
       "2"
      ]
     },
     "execution_count": 44,
     "metadata": {},
     "output_type": "execute_result"
    }
   ],
   "execution_count": 44
  },
  {
   "metadata": {},
   "cell_type": "markdown",
   "source": "### Range of values",
   "id": "f0553ef0d4168293"
  },
  {
   "metadata": {
    "ExecuteTime": {
     "end_time": "2025-04-17T14:55:35.629927Z",
     "start_time": "2025-04-17T14:55:35.625427Z"
    }
   },
   "cell_type": "code",
   "source": [
    "B = torch.arange(1, 11)\n",
    "B"
   ],
   "id": "9514784f10cf2802",
   "outputs": [
    {
     "data": {
      "text/plain": [
       "tensor([ 1,  2,  3,  4,  5,  6,  7,  8,  9, 10])"
      ]
     },
     "execution_count": 45,
     "metadata": {},
     "output_type": "execute_result"
    }
   ],
   "execution_count": 45
  },
  {
   "metadata": {
    "ExecuteTime": {
     "end_time": "2025-04-17T14:56:17.304761Z",
     "start_time": "2025-04-17T14:56:17.298763Z"
    }
   },
   "cell_type": "code",
   "source": [
    "C = torch.arange(start=0, end=1000, step=77)\n",
    "C"
   ],
   "id": "a9150434a506744c",
   "outputs": [
    {
     "data": {
      "text/plain": [
       "tensor([  0,  77, 154, 231, 308, 385, 462, 539, 616, 693, 770, 847, 924])"
      ]
     },
     "execution_count": 46,
     "metadata": {},
     "output_type": "execute_result"
    }
   ],
   "execution_count": 46
  },
  {
   "metadata": {},
   "cell_type": "markdown",
   "source": "### Generating tensors-like",
   "id": "8e241570f52ac778"
  },
  {
   "metadata": {
    "ExecuteTime": {
     "end_time": "2025-04-17T14:58:15.419894Z",
     "start_time": "2025-04-17T14:58:15.415394Z"
    }
   },
   "cell_type": "code",
   "source": [
    "D = torch.zeros_like(B)\n",
    "D"
   ],
   "id": "c21ab7e8757ca365",
   "outputs": [
    {
     "data": {
      "text/plain": [
       "tensor([0, 0, 0, 0, 0, 0, 0, 0, 0, 0])"
      ]
     },
     "execution_count": 48,
     "metadata": {},
     "output_type": "execute_result"
    }
   ],
   "execution_count": 48
  },
  {
   "metadata": {},
   "cell_type": "markdown",
   "source": "## Higher-rank tensors",
   "id": "9b567b9992f7eb2a"
  },
  {
   "metadata": {
    "ExecuteTime": {
     "end_time": "2025-04-17T14:45:00.448618Z",
     "start_time": "2025-04-17T14:45:00.445615Z"
    }
   },
   "cell_type": "code",
   "source": "images_pt = torch.zeros([32, 28, 28, 3])",
   "id": "52e51b1f30ac6375",
   "outputs": [],
   "execution_count": 36
  },
  {
   "metadata": {
    "ExecuteTime": {
     "end_time": "2025-04-17T14:45:00.877778Z",
     "start_time": "2025-04-17T14:45:00.873279Z"
    }
   },
   "cell_type": "code",
   "source": "images_pt.shape",
   "id": "120de0d08b9ec1a0",
   "outputs": [
    {
     "data": {
      "text/plain": [
       "torch.Size([32, 28, 28, 3])"
      ]
     },
     "execution_count": 37,
     "metadata": {},
     "output_type": "execute_result"
    }
   ],
   "execution_count": 37
  },
  {
   "metadata": {
    "ExecuteTime": {
     "end_time": "2025-04-17T14:45:01.310278Z",
     "start_time": "2025-04-17T14:45:01.305278Z"
    }
   },
   "cell_type": "code",
   "source": "images_pt.ndim",
   "id": "dbdf2d9973c04475",
   "outputs": [
    {
     "data": {
      "text/plain": [
       "4"
      ]
     },
     "execution_count": 38,
     "metadata": {},
     "output_type": "execute_result"
    }
   ],
   "execution_count": 38
  },
  {
   "metadata": {},
   "cell_type": "code",
   "outputs": [],
   "execution_count": 4,
   "source": "images_tf = tf.zeros([32, 28, 28, 3])",
   "id": "aadfe2254c26bff0"
  },
  {
   "metadata": {
    "ExecuteTime": {
     "end_time": "2025-04-17T14:45:19.881790Z",
     "start_time": "2025-04-17T14:45:19.876790Z"
    }
   },
   "cell_type": "code",
   "source": "images_tf.shape",
   "id": "2fb77c5d4e23790d",
   "outputs": [
    {
     "data": {
      "text/plain": [
       "TensorShape([32, 28, 28, 3])"
      ]
     },
     "execution_count": 39,
     "metadata": {},
     "output_type": "execute_result"
    }
   ],
   "execution_count": 39
  },
  {
   "metadata": {
    "ExecuteTime": {
     "end_time": "2025-04-17T14:45:22.291791Z",
     "start_time": "2025-04-17T14:45:22.286792Z"
    }
   },
   "cell_type": "code",
   "source": "images_tf.ndim",
   "id": "5752d48e4b1f6d6b",
   "outputs": [
    {
     "data": {
      "text/plain": [
       "4"
      ]
     },
     "execution_count": 40,
     "metadata": {},
     "output_type": "execute_result"
    }
   ],
   "execution_count": 40
  },
  {
   "metadata": {},
   "cell_type": "markdown",
   "source": "## Tensor Data Types",
   "id": "68417cf9840aa0ae"
  },
  {
   "metadata": {
    "ExecuteTime": {
     "end_time": "2025-04-17T15:03:06.221343Z",
     "start_time": "2025-04-17T15:03:06.215841Z"
    }
   },
   "cell_type": "code",
   "source": [
    "E = torch.tensor([3.0, 6.0, 9.0])\n",
    "E"
   ],
   "id": "6ace4e5e26d5bb7d",
   "outputs": [
    {
     "data": {
      "text/plain": [
       "tensor([3., 6., 9.])"
      ]
     },
     "execution_count": 53,
     "metadata": {},
     "output_type": "execute_result"
    }
   ],
   "execution_count": 53
  },
  {
   "metadata": {
    "ExecuteTime": {
     "end_time": "2025-04-17T15:03:11.305461Z",
     "start_time": "2025-04-17T15:03:11.300462Z"
    }
   },
   "cell_type": "code",
   "source": "E.dtype",
   "id": "d51949c7a212c5ff",
   "outputs": [
    {
     "data": {
      "text/plain": [
       "torch.float32"
      ]
     },
     "execution_count": 54,
     "metadata": {},
     "output_type": "execute_result"
    }
   ],
   "execution_count": 54
  },
  {
   "metadata": {
    "ExecuteTime": {
     "end_time": "2025-04-17T15:09:57.746913Z",
     "start_time": "2025-04-17T15:09:57.740415Z"
    }
   },
   "cell_type": "code",
   "source": [
    "F = torch.tensor([3.0, 6.0, 9.0],\n",
    "                 dtype=None, # specify the data type\n",
    "                 device=None, # specify the device used for computation\n",
    "                 requires_grad=False # specify if gradients are required\n",
    "                 )\n",
    "F"
   ],
   "id": "187641910f948f25",
   "outputs": [
    {
     "data": {
      "text/plain": [
       "tensor([3., 6., 9.])"
      ]
     },
     "execution_count": 61,
     "metadata": {},
     "output_type": "execute_result"
    }
   ],
   "execution_count": 61
  },
  {
   "metadata": {},
   "cell_type": "markdown",
   "source": [
    "It is important to note that operations between tensors may throw an error if:\n",
    "\n",
    "- the tensors are not of the same data type\n",
    "- the tensors are not of the same shape\n",
    "- the tensors are not on the same device"
   ],
   "id": "35ed69286abba2d5"
  },
  {
   "metadata": {
    "ExecuteTime": {
     "end_time": "2025-04-17T15:10:37.913394Z",
     "start_time": "2025-04-17T15:10:37.907394Z"
    }
   },
   "cell_type": "code",
   "source": [
    "G = F.type(torch.float16)\n",
    "G"
   ],
   "id": "ce2fdc0455d11196",
   "outputs": [
    {
     "data": {
      "text/plain": [
       "tensor([3., 6., 9.], dtype=torch.float16)"
      ]
     },
     "execution_count": 62,
     "metadata": {},
     "output_type": "execute_result"
    }
   ],
   "execution_count": 62
  },
  {
   "metadata": {
    "ExecuteTime": {
     "end_time": "2025-04-17T15:11:01.372857Z",
     "start_time": "2025-04-17T15:11:01.368356Z"
    }
   },
   "cell_type": "code",
   "source": "G.dtype",
   "id": "bd0c9e7b29bd37f7",
   "outputs": [
    {
     "data": {
      "text/plain": [
       "torch.float16"
      ]
     },
     "execution_count": 63,
     "metadata": {},
     "output_type": "execute_result"
    }
   ],
   "execution_count": 63
  }
 ],
 "metadata": {
  "kernelspec": {
   "display_name": "Python 3",
   "language": "python",
   "name": "python3"
  },
  "language_info": {
   "codemirror_mode": {
    "name": "ipython",
    "version": 2
   },
   "file_extension": ".py",
   "mimetype": "text/x-python",
   "name": "python",
   "nbconvert_exporter": "python",
   "pygments_lexer": "ipython2",
   "version": "2.7.6"
  }
 },
 "nbformat": 4,
 "nbformat_minor": 5
}
