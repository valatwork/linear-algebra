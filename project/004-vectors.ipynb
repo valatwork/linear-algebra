{
 "cells": [
  {
   "metadata": {},
   "cell_type": "markdown",
   "source": "# Vectors (Rank 1 Tensors)",
   "id": "b9313e5df8fc9d33"
  },
  {
   "metadata": {},
   "cell_type": "markdown",
   "source": [
    "Characteristics of Vectors:\n",
    "\n",
    "- One-dimensional array of numbers\n",
    "- Denoted in lowercase bold italics $\\boldsymbol{x}$\n",
    "- Arranged in an order so then elements can be accessed by their index\n",
    "    - Each element of a vector is a scalar, e.g. the second element of vector $\\boldsymbol{x}$ is $x_2$\n",
    "- Vectors represent a point in space\n",
    "    - A vector of length $n$ represents a point in $n$-dimensional space\n",
    "- Vectors represent a magnitude and direction from the origin"
   ],
   "id": "c83c2763e9fab4e1"
  },
  {
   "metadata": {},
   "cell_type": "markdown",
   "source": "## Vector transposition",
   "id": "4a3106c4eb811b8a"
  },
  {
   "metadata": {},
   "cell_type": "markdown",
   "source": [
    "Transposition is denoted by a superscript $T$ on a vector. Transposition transforms a column vector into a row vector and vice versa.\n",
    "\n",
    "For example:\n",
    "\n",
    "$$[x_1, x_2, x_3]^T = \\begin{bmatrix} x_1 \\\\ x_2 \\\\ x_3 \\end{bmatrix}$$\n",
    "\n",
    "The shape of the row vector is $(1, 3)$ and the shape of the column vector is $(3, 1)$."
   ],
   "id": "b40df98f38ab6b86"
  },
  {
   "metadata": {},
   "cell_type": "markdown",
   "source": "## Vectors with Python",
   "id": "8d4a5dd21ae5f2c7"
  },
  {
   "metadata": {},
   "cell_type": "markdown",
   "source": "### Creating vectors",
   "id": "85f8ee15beb29def"
  },
  {
   "metadata": {
    "ExecuteTime": {
     "end_time": "2025-03-28T10:21:59.889575Z",
     "start_time": "2025-03-28T10:21:58.118122Z"
    }
   },
   "cell_type": "code",
   "source": [
    "import numpy as np\n",
    "import torch\n",
    "import tensorflow as tf\n",
    "import matplotlib.pyplot as plt\n",
    "import seaborn as sns"
   ],
   "id": "21920d6feee7d032",
   "outputs": [],
   "execution_count": 46
  },
  {
   "metadata": {},
   "cell_type": "markdown",
   "source": "#### Creating vectors NumPy",
   "id": "e5a0f677c7917799"
  },
  {
   "metadata": {
    "ExecuteTime": {
     "end_time": "2025-03-28T10:01:15.787842Z",
     "start_time": "2025-03-28T10:01:15.780842Z"
    }
   },
   "cell_type": "code",
   "source": [
    "x = np.array([25, 2, 5])\n",
    "x"
   ],
   "id": "91c9468ff1fd2498",
   "outputs": [
    {
     "data": {
      "text/plain": [
       "array([25,  2,  5])"
      ]
     },
     "execution_count": 2,
     "metadata": {},
     "output_type": "execute_result"
    }
   ],
   "execution_count": 2
  },
  {
   "metadata": {
    "ExecuteTime": {
     "end_time": "2025-03-28T10:01:26.729708Z",
     "start_time": "2025-03-28T10:01:26.724714Z"
    }
   },
   "cell_type": "code",
   "source": "len(x)",
   "id": "962cd4c8e268ffaf",
   "outputs": [
    {
     "data": {
      "text/plain": [
       "3"
      ]
     },
     "execution_count": 3,
     "metadata": {},
     "output_type": "execute_result"
    }
   ],
   "execution_count": 3
  },
  {
   "metadata": {
    "ExecuteTime": {
     "end_time": "2025-03-28T10:01:29.791783Z",
     "start_time": "2025-03-28T10:01:29.786782Z"
    }
   },
   "cell_type": "code",
   "source": "x.shape",
   "id": "ba13c17657703031",
   "outputs": [
    {
     "data": {
      "text/plain": [
       "(3,)"
      ]
     },
     "execution_count": 4,
     "metadata": {},
     "output_type": "execute_result"
    }
   ],
   "execution_count": 4
  },
  {
   "metadata": {
    "ExecuteTime": {
     "end_time": "2025-03-28T10:01:32.540155Z",
     "start_time": "2025-03-28T10:01:32.534655Z"
    }
   },
   "cell_type": "code",
   "source": "type(x)",
   "id": "b61e6445aadcd85a",
   "outputs": [
    {
     "data": {
      "text/plain": [
       "numpy.ndarray"
      ]
     },
     "execution_count": 5,
     "metadata": {},
     "output_type": "execute_result"
    }
   ],
   "execution_count": 5
  },
  {
   "metadata": {
    "ExecuteTime": {
     "end_time": "2025-03-28T10:01:40.036438Z",
     "start_time": "2025-03-28T10:01:40.030998Z"
    }
   },
   "cell_type": "code",
   "source": "x[0]",
   "id": "e6707e01b8c070d0",
   "outputs": [
    {
     "data": {
      "text/plain": [
       "25"
      ]
     },
     "execution_count": 6,
     "metadata": {},
     "output_type": "execute_result"
    }
   ],
   "execution_count": 6
  },
  {
   "metadata": {
    "ExecuteTime": {
     "end_time": "2025-03-28T10:02:06.703758Z",
     "start_time": "2025-03-28T10:02:06.699257Z"
    }
   },
   "cell_type": "code",
   "source": "type(x[0])",
   "id": "9b2cc6205ca76fbe",
   "outputs": [
    {
     "data": {
      "text/plain": [
       "numpy.int32"
      ]
     },
     "execution_count": 7,
     "metadata": {},
     "output_type": "execute_result"
    }
   ],
   "execution_count": 7
  },
  {
   "metadata": {},
   "cell_type": "markdown",
   "source": "##### Vector transposition",
   "id": "16176ae0094442b0"
  },
  {
   "metadata": {},
   "cell_type": "markdown",
   "source": [
    "With NumPy, we can transpose a vector using the `T` attribute.\n",
    "\n",
    "However, transposing a 1-D array will not change its shape:"
   ],
   "id": "9532dfa274088719"
  },
  {
   "metadata": {
    "ExecuteTime": {
     "end_time": "2025-03-28T10:08:29.880507Z",
     "start_time": "2025-03-28T10:08:29.875507Z"
    }
   },
   "cell_type": "code",
   "source": [
    "x_t = x.T\n",
    "x_t"
   ],
   "id": "6f5762913d45ef56",
   "outputs": [
    {
     "data": {
      "text/plain": [
       "array([25,  2,  5])"
      ]
     },
     "execution_count": 23,
     "metadata": {},
     "output_type": "execute_result"
    }
   ],
   "execution_count": 23
  },
  {
   "metadata": {
    "ExecuteTime": {
     "end_time": "2025-03-28T10:08:30.215181Z",
     "start_time": "2025-03-28T10:08:30.210181Z"
    }
   },
   "cell_type": "code",
   "source": "x_t.shape",
   "id": "5f5f6cd03ba1f75c",
   "outputs": [
    {
     "data": {
      "text/plain": [
       "(3,)"
      ]
     },
     "execution_count": 24,
     "metadata": {},
     "output_type": "execute_result"
    }
   ],
   "execution_count": 24
  },
  {
   "metadata": {},
   "cell_type": "markdown",
   "source": "Using the nested square brackets, instead:",
   "id": "b4b92fd53ef8f56a"
  },
  {
   "metadata": {
    "ExecuteTime": {
     "end_time": "2025-03-28T10:08:30.947796Z",
     "start_time": "2025-03-28T10:08:30.942795Z"
    }
   },
   "cell_type": "code",
   "source": [
    "y = np.array([[25, 2, 5]])\n",
    "y"
   ],
   "id": "c286e8c52450ab3d",
   "outputs": [
    {
     "data": {
      "text/plain": [
       "array([[25,  2,  5]])"
      ]
     },
     "execution_count": 25,
     "metadata": {},
     "output_type": "execute_result"
    }
   ],
   "execution_count": 25
  },
  {
   "metadata": {
    "ExecuteTime": {
     "end_time": "2025-03-28T10:08:31.273295Z",
     "start_time": "2025-03-28T10:08:31.268796Z"
    }
   },
   "cell_type": "code",
   "source": "y.shape",
   "id": "91fe94185126284f",
   "outputs": [
    {
     "data": {
      "text/plain": [
       "(1, 3)"
      ]
     },
     "execution_count": 26,
     "metadata": {},
     "output_type": "execute_result"
    }
   ],
   "execution_count": 26
  },
  {
   "metadata": {
    "ExecuteTime": {
     "end_time": "2025-03-28T10:08:31.624297Z",
     "start_time": "2025-03-28T10:08:31.618795Z"
    }
   },
   "cell_type": "code",
   "source": [
    "y_t = y.T\n",
    "y_t"
   ],
   "id": "a498e790e9316303",
   "outputs": [
    {
     "data": {
      "text/plain": [
       "array([[25],\n",
       "       [ 2],\n",
       "       [ 5]])"
      ]
     },
     "execution_count": 27,
     "metadata": {},
     "output_type": "execute_result"
    }
   ],
   "execution_count": 27
  },
  {
   "metadata": {
    "ExecuteTime": {
     "end_time": "2025-03-28T10:08:32.146233Z",
     "start_time": "2025-03-28T10:08:32.141234Z"
    }
   },
   "cell_type": "code",
   "source": "y_t.shape",
   "id": "92c4ac32f35344c",
   "outputs": [
    {
     "data": {
      "text/plain": [
       "(3, 1)"
      ]
     },
     "execution_count": 28,
     "metadata": {},
     "output_type": "execute_result"
    }
   ],
   "execution_count": 28
  },
  {
   "metadata": {},
   "cell_type": "markdown",
   "source": "And it can be transposed back to a row vector:",
   "id": "a1de33091b0fe3dc"
  },
  {
   "metadata": {
    "ExecuteTime": {
     "end_time": "2025-03-28T10:08:33.236900Z",
     "start_time": "2025-03-28T10:08:33.232399Z"
    }
   },
   "cell_type": "code",
   "source": [
    "y_t_t = y_t.T\n",
    "y_t_t"
   ],
   "id": "245ff00e505a252b",
   "outputs": [
    {
     "data": {
      "text/plain": [
       "array([[25,  2,  5]])"
      ]
     },
     "execution_count": 29,
     "metadata": {},
     "output_type": "execute_result"
    }
   ],
   "execution_count": 29
  },
  {
   "metadata": {
    "ExecuteTime": {
     "end_time": "2025-03-28T10:08:33.867035Z",
     "start_time": "2025-03-28T10:08:33.862531Z"
    }
   },
   "cell_type": "code",
   "source": "y_t_t.shape",
   "id": "d87ba9995a370ec4",
   "outputs": [
    {
     "data": {
      "text/plain": [
       "(1, 3)"
      ]
     },
     "execution_count": 30,
     "metadata": {},
     "output_type": "execute_result"
    }
   ],
   "execution_count": 30
  },
  {
   "metadata": {},
   "cell_type": "markdown",
   "source": "##### Zero vectors",
   "id": "9984d8a9bb4586e6"
  },
  {
   "metadata": {},
   "cell_type": "markdown",
   "source": [
    "Zero vectors are vectors with all elements equal to zero.\n",
    "\n",
    "They have no effect if added to another vector."
   ],
   "id": "a950405763f0fa93"
  },
  {
   "metadata": {
    "ExecuteTime": {
     "end_time": "2025-03-28T10:09:54.017638Z",
     "start_time": "2025-03-28T10:09:54.012637Z"
    }
   },
   "cell_type": "code",
   "source": [
    "z = np.zeros(3)\n",
    "z"
   ],
   "id": "8918256b5512d6",
   "outputs": [
    {
     "data": {
      "text/plain": [
       "array([0., 0., 0.])"
      ]
     },
     "execution_count": 32,
     "metadata": {},
     "output_type": "execute_result"
    }
   ],
   "execution_count": 32
  },
  {
   "metadata": {},
   "cell_type": "markdown",
   "source": "#### Creating vectors with PyTorch",
   "id": "9c694870be2dad58"
  },
  {
   "metadata": {
    "ExecuteTime": {
     "end_time": "2025-03-28T10:11:09.004710Z",
     "start_time": "2025-03-28T10:11:08.998710Z"
    }
   },
   "cell_type": "code",
   "source": [
    "x_pt = torch.tensor([25, 2, 5])\n",
    "x_pt"
   ],
   "id": "49386a0dc9796a96",
   "outputs": [
    {
     "data": {
      "text/plain": [
       "tensor([25,  2,  5])"
      ]
     },
     "execution_count": 33,
     "metadata": {},
     "output_type": "execute_result"
    }
   ],
   "execution_count": 33
  },
  {
   "metadata": {},
   "cell_type": "markdown",
   "source": "#### Creating vectors with TensorFlow",
   "id": "5b1282559ab8785e"
  },
  {
   "metadata": {
    "ExecuteTime": {
     "end_time": "2025-03-28T10:14:10.079107Z",
     "start_time": "2025-03-28T10:14:10.056606Z"
    }
   },
   "cell_type": "code",
   "source": [
    "x_tf = tf.Variable([25, 2, 5])\n",
    "x_tf"
   ],
   "id": "6dcaaf8d2b092691",
   "outputs": [
    {
     "data": {
      "text/plain": [
       "<tf.Variable 'Variable:0' shape=(3,) dtype=int32, numpy=array([25,  2,  5])>"
      ]
     },
     "execution_count": 35,
     "metadata": {},
     "output_type": "execute_result"
    }
   ],
   "execution_count": 35
  },
  {
   "metadata": {},
   "cell_type": "markdown",
   "source": "## Norms",
   "id": "ac8a288739b0ce39"
  },
  {
   "metadata": {},
   "cell_type": "markdown",
   "source": "Norms are functions that quantify the vector magnitude.",
   "id": "2779e370fb476c34"
  },
  {
   "metadata": {
    "ExecuteTime": {
     "end_time": "2025-03-28T10:25:18.100157Z",
     "start_time": "2025-03-28T10:25:18.018656Z"
    }
   },
   "cell_type": "code",
   "source": [
    "# plot of the vector [x1, x2] = [12, 4]\n",
    "plt.quiver(0, 0, 12, 4, angles='xy', scale_units='xy', scale=1)\n",
    "plt.xlim(0, 13)\n",
    "plt.ylim(0, 10)\n",
    "sns.despine()\n",
    "plt.title('Vector [12, 4]')\n",
    "plt.xlabel(r'$x_1$')\n",
    "plt.ylabel(r'$x_2$')\n",
    "plt.show()"
   ],
   "id": "d2b11398b01b4bc7",
   "outputs": [
    {
     "data": {
      "text/plain": [
       "<Figure size 640x480 with 1 Axes>"
      ],
      "image/png": "[encoded data removed]"
     },
     "metadata": {},
     "output_type": "display_data"
    }
   ],
   "execution_count": 54
  },
  {
   "metadata": {},
   "cell_type": "markdown",
   "source": "### $L^2$ norm",
   "id": "3d2993ad7dc11caa"
  },
  {
   "metadata": {},
   "cell_type": "markdown",
   "source": [
    "We can calculate the $L^2$ norm of a vector $\\boldsymbol{x}$ by taking the square of each element of the vector ($x_i^2$), summing them up ($\\sum_{i}$) and taking the square root of the result.\n",
    "\n",
    "In formula form:\n",
    "\n",
    "$$||\\boldsymbol{x}||_2= \\sqrt{\\sum_{i} x_i^2}$$\n",
    "\n",
    "$L^2$ norm is also known as the Euclidean norm, and it is used to measure the distance between two points in Euclidean space. It's the kind of distance we are used to in the real world.\n",
    "\n",
    "$L^2$ norm is the most common norm used in machine learning. It's so common it is often denoted as $||\\boldsymbol{x}||$ without the subscript, as the assumption is that we are using the $L^2$ norm unless otherwise specified."
   ],
   "id": "dc4ec192e70fe59d"
  },
  {
   "metadata": {},
   "cell_type": "markdown",
   "source": "#### $L^2$ norm with Python",
   "id": "16fce3bb2b7d748"
  },
  {
   "metadata": {
    "ExecuteTime": {
     "end_time": "2025-03-28T10:35:43.934537Z",
     "start_time": "2025-03-28T10:35:43.930038Z"
    }
   },
   "cell_type": "code",
   "source": "x",
   "id": "86368a48db597fa9",
   "outputs": [
    {
     "data": {
      "text/plain": [
       "array([25,  2,  5])"
      ]
     },
     "execution_count": 55,
     "metadata": {},
     "output_type": "execute_result"
    }
   ],
   "execution_count": 55
  },
  {
   "metadata": {},
   "cell_type": "markdown",
   "source": "Manually it can be calculated as:",
   "id": "479ddb0e2fd15d0c"
  },
  {
   "metadata": {
    "ExecuteTime": {
     "end_time": "2025-03-28T10:36:36.648104Z",
     "start_time": "2025-03-28T10:36:36.642605Z"
    }
   },
   "cell_type": "code",
   "source": "(25**2 + 2**2 + 5**2)**(1/2)",
   "id": "34c97f9fb609c7fe",
   "outputs": [
    {
     "data": {
      "text/plain": [
       "25.573423705088842"
      ]
     },
     "execution_count": 56,
     "metadata": {},
     "output_type": "execute_result"
    }
   ],
   "execution_count": 56
  },
  {
   "metadata": {},
   "cell_type": "markdown",
   "source": "With NumPy:",
   "id": "eee1c1d6be9c0384"
  },
  {
   "metadata": {
    "ExecuteTime": {
     "end_time": "2025-03-28T10:36:54.006669Z",
     "start_time": "2025-03-28T10:36:54.001669Z"
    }
   },
   "cell_type": "code",
   "source": "np.linalg.norm(x)",
   "id": "a31fc5885dc0a373",
   "outputs": [
    {
     "data": {
      "text/plain": [
       "25.573423705088842"
      ]
     },
     "execution_count": 57,
     "metadata": {},
     "output_type": "execute_result"
    }
   ],
   "execution_count": 57
  },
  {
   "metadata": {},
   "cell_type": "markdown",
   "source": "## Unit vectors",
   "id": "ba2e905352c8445"
  },
  {
   "metadata": {},
   "cell_type": "markdown",
   "source": [
    "A unit vector is a vector with a magnitude of 1.\n",
    "\n",
    "In more technical terms, $\\boldsymbol{x}$ is a unit vector with unit norm, i.e. $||\\boldsymbol{x}|| = 1$."
   ],
   "id": "2909a847cc6add12"
  },
  {
   "metadata": {
    "ExecuteTime": {
     "end_time": "2025-03-28T11:20:36.879058Z",
     "start_time": "2025-03-28T11:20:36.630057Z"
    }
   },
   "cell_type": "code",
   "source": [
    "fig, axes = plt.subplots(1, 2, figsize=(14, 5))\n",
    "\n",
    "# First plot - shows both vectors but scales properly to see the original vector\n",
    "axes[0].quiver(0, 0, 12, 4, angles='xy', scale_units='xy', scale=1, color='blue', label='Vector [12, 4]')\n",
    "axes[0].quiver(0, 0, 12/13, 4/13, angles='xy', scale_units='xy', scale=1, color='red', label='Unit vector')\n",
    "axes[0].set_xlim(-1, 13)\n",
    "axes[0].set_ylim(-1, 5)\n",
    "axes[0].grid(True, alpha=0.3)\n",
    "axes[0].set_title('Vector [12, 4] and its unit vector')\n",
    "axes[0].set_xlabel(r'$x_1$')\n",
    "axes[0].set_ylabel(r'$x_2$')\n",
    "axes[0].plot(0, 0, 'ko', markersize=5)  # Origin marker\n",
    "axes[0].legend()\n",
    "sns.despine(ax=axes[0])\n",
    "\n",
    "# Second plot - focused on the unit vector with appropriate scale\n",
    "axes[1].quiver(0, 0, 12/13, 4/13, angles='xy', scale_units='xy', scale=1, color='red',\n",
    "               label=f'Unit vector [12/13, 4/13] ≈ [{12/13:.3f}, {4/13:.3f}]')\n",
    "axes[1].set_xlim(-0.2, 1.2)\n",
    "axes[1].set_ylim(-0.2, 0.6)\n",
    "axes[1].grid(True, alpha=0.3)\n",
    "axes[1].set_title('Unit vector (normalized)')\n",
    "axes[1].set_xlabel(r'$x_1$')\n",
    "axes[1].set_ylabel(r'$x_2$')\n",
    "axes[1].plot(0, 0, 'ko', markersize=5)  # Origin marker\n",
    "# Add unit circle\n",
    "circle = plt.Circle((0, 0), 1, fill=False, color='green', linestyle='--', alpha=0.7)\n",
    "axes[1].add_artist(circle)\n",
    "axes[1].legend()\n",
    "sns.despine(ax=axes[1])\n",
    "\n",
    "plt.tight_layout()\n",
    "plt.show()\n",
    "\n",
    "# Print calculation explanation\n",
    "magnitude = np.sqrt(12**2 + 4**2)\n",
    "print(f\"Vector: [12, 4]\")\n",
    "print(f\"Magnitude: √(12² + 4²) = √({12**2} + {4**2}) = √{12**2 + 4**2} = {magnitude}\")\n",
    "print(f\"Unit vector: [12/{magnitude}, 4/{magnitude}] = [{12/magnitude:.3f}, {4/magnitude:.3f}]\")"
   ],
   "id": "2fc0685b9b564c5c",
   "outputs": [
    {
     "data": {
      "text/plain": [
       "<Figure size 1400x500 with 2 Axes>"
      ],
      "image/png": "[encoded data removed]"
     },
     "metadata": {},
     "output_type": "display_data"
    },
    {
     "name": "stdout",
     "output_type": "stream",
     "text": [
      "Vector: [12, 4]\n",
      "Magnitude: √(12² + 4²) = √(144 + 16) = √160 = 12.649110640673518\n",
      "Unit vector: [12/12.649110640673518, 4/12.649110640673518] = [0.949, 0.316]\n"
     ]
    }
   ],
   "execution_count": 85
  },
  {
   "metadata": {},
   "cell_type": "markdown",
   "source": "### $L^1$ norm",
   "id": "492002fa04cfeed4"
  },
  {
   "metadata": {},
   "cell_type": "markdown",
   "source": [
    "The absolute value of every element $|x_i|$ is summed up $\\sum_{i}$ to calculate the $L^1$ norm of the vector $\\boldsymbol{x}$.\n",
    "\n",
    "In formula form:\n",
    "\n",
    "$$||\\boldsymbol{x}||_1= \\sum_{i} |x_i|$$\n",
    "\n",
    "- Another commonly used norm in machine learning.\n",
    "- It varies linearly at all locations, whether near or far from the origin.\n",
    "- Used when the difference between zero and non-zero values is important."
   ],
   "id": "746e6018064738f9"
  },
  {
   "metadata": {},
   "cell_type": "markdown",
   "source": "#### $L^1$ norm with Python",
   "id": "8f975d5baef1cc1"
  },
  {
   "metadata": {
    "ExecuteTime": {
     "end_time": "2025-03-28T10:54:30.894632Z",
     "start_time": "2025-03-28T10:54:30.889133Z"
    }
   },
   "cell_type": "code",
   "source": "x",
   "id": "5a4f2cae462cb55f",
   "outputs": [
    {
     "data": {
      "text/plain": [
       "array([25,  2,  5])"
      ]
     },
     "execution_count": 61,
     "metadata": {},
     "output_type": "execute_result"
    }
   ],
   "execution_count": 61
  },
  {
   "metadata": {
    "ExecuteTime": {
     "end_time": "2025-03-28T10:54:46.405405Z",
     "start_time": "2025-03-28T10:54:46.400903Z"
    }
   },
   "cell_type": "code",
   "source": "np.abs(x).sum()",
   "id": "9f39fa36ba283584",
   "outputs": [
    {
     "data": {
      "text/plain": [
       "32"
      ]
     },
     "execution_count": 62,
     "metadata": {},
     "output_type": "execute_result"
    }
   ],
   "execution_count": 62
  },
  {
   "metadata": {},
   "cell_type": "markdown",
   "source": "### Squared $L^2$ norm",
   "id": "e6572111c990f2fb"
  },
  {
   "metadata": {},
   "cell_type": "markdown",
   "source": [
    "Each element of the vector is squared $x_i^2$ and summed up $\\sum_{i}$ to calculate the squared $L^2$ norm of the vector $\\boldsymbol{x}$.\n",
    "\n",
    "$$||\\boldsymbol{x}||^2_2= \\sum_{i} x_i^2$$\n",
    "\n",
    "- Computationally cheaper than $L^2$ norm:\n",
    "    - Squared $L^2$ equals to $\\boldsymbol{x}^T \\boldsymbol{x}$\n",
    "    - The derivative of the element $x_i$ requires that element alone, whereas $L^2$ norm requires the entire $\\boldsymbol{x}$ vector.\n",
    "- It grows slowly near the origin so can't be used if distinguishing between zero and non-zero values is important.\n"
   ],
   "id": "b7cec883d3a9c3d5"
  },
  {
   "metadata": {},
   "cell_type": "markdown",
   "source": "#### Squared $L^2$ norm with Python\n",
   "id": "494ecb5daf58cc1e"
  },
  {
   "metadata": {
    "ExecuteTime": {
     "end_time": "2025-03-28T11:02:18.598481Z",
     "start_time": "2025-03-28T11:02:18.593482Z"
    }
   },
   "cell_type": "code",
   "source": "x",
   "id": "37b7701293e8bf93",
   "outputs": [
    {
     "data": {
      "text/plain": [
       "array([25,  2,  5])"
      ]
     },
     "execution_count": 63,
     "metadata": {},
     "output_type": "execute_result"
    }
   ],
   "execution_count": 63
  },
  {
   "metadata": {
    "ExecuteTime": {
     "end_time": "2025-03-28T11:02:28.788660Z",
     "start_time": "2025-03-28T11:02:28.783661Z"
    }
   },
   "cell_type": "code",
   "source": "np.dot(x,x)",
   "id": "1bfe063b69bbda1",
   "outputs": [
    {
     "data": {
      "text/plain": [
       "654"
      ]
     },
     "execution_count": 64,
     "metadata": {},
     "output_type": "execute_result"
    }
   ],
   "execution_count": 64
  },
  {
   "metadata": {},
   "cell_type": "markdown",
   "source": "### Max norm ($L^\\infty$ norm)\n",
   "id": "f425f12dfb007bea"
  },
  {
   "metadata": {},
   "cell_type": "markdown",
   "source": [
    "It is the maximum absolute value of each the elements of the vector $\\boldsymbol{x}$.\n",
    "\n",
    "$$||\\boldsymbol{x}||_\\infty= \\max_i |x_i|$$\n",
    "\n",
    "- Not as commonly used as the other norms.\n",
    "- Returns the absolute value of the largest-magnitude element."
   ],
   "id": "9c846ca87bee7cb7"
  },
  {
   "metadata": {},
   "cell_type": "markdown",
   "source": "##### Max norm with Python",
   "id": "6411b7e45a150ae7"
  },
  {
   "metadata": {
    "ExecuteTime": {
     "end_time": "2025-03-28T11:06:10.970972Z",
     "start_time": "2025-03-28T11:06:10.966476Z"
    }
   },
   "cell_type": "code",
   "source": "x",
   "id": "c60b4fe9823c6fae",
   "outputs": [
    {
     "data": {
      "text/plain": [
       "array([25,  2,  5])"
      ]
     },
     "execution_count": 65,
     "metadata": {},
     "output_type": "execute_result"
    }
   ],
   "execution_count": 65
  },
  {
   "metadata": {
    "ExecuteTime": {
     "end_time": "2025-03-28T11:06:15.673356Z",
     "start_time": "2025-03-28T11:06:15.668354Z"
    }
   },
   "cell_type": "code",
   "source": "np.max(np.abs(x))",
   "id": "266254354794c2a6",
   "outputs": [
    {
     "data": {
      "text/plain": [
       "25"
      ]
     },
     "execution_count": 66,
     "metadata": {},
     "output_type": "execute_result"
    }
   ],
   "execution_count": 66
  },
  {
   "metadata": {},
   "cell_type": "markdown",
   "source": "### Generalized $L^p$ norm",
   "id": "9aed930c1d61100f"
  },
  {
   "metadata": {},
   "cell_type": "markdown",
   "source": [
    "- $p$ must be:\n",
    "    - a real number\n",
    "    - greater than or equal to one\n",
    "- Can derive the other norms from this generalized $L^p$ norm by setting $p$ to the desired value.\n",
    "- Norms, particularly $L^1$ and $L^2$, are used to regularize objective functions.\n",
    "\n",
    "$$||\\boldsymbol{x}||_p= \\left(\\sum_{i} |x_i|^p\\right)^{1/p}$$"
   ],
   "id": "de547bdbfa676bb0"
  },
  {
   "metadata": {},
   "cell_type": "markdown",
   "source": "## Basis vectors",
   "id": "b575e307241b737e"
  },
  {
   "metadata": {},
   "cell_type": "markdown",
   "source": [
    "Characteristics of basis vectors:\n",
    "\n",
    "- Can be scaled to represent any vector in a given vector space\n",
    "- Typically, use unit vectors along the axes of the vector space"
   ],
   "id": "d8beb530ed5e7a09"
  },
  {
   "metadata": {
    "ExecuteTime": {
     "end_time": "2025-03-28T11:23:20.597487Z",
     "start_time": "2025-03-28T11:23:20.485488Z"
    }
   },
   "cell_type": "code",
   "source": [
    "# plot of the basis vectors i = (1,0) and j = (0,1) with scaled vector v = 1.5i + 2j\n",
    "fig, ax = plt.subplots()\n",
    "# Basis vectors\n",
    "ax.quiver(0, 0, 1, 0, angles='xy', scale_units='xy', scale=1, color='blue', label='i (1,0)')\n",
    "ax.quiver(0, 0, 0, 1, angles='xy', scale_units='xy', scale=1, color='green', label='j (0,1)')\n",
    "# Scaled vector\n",
    "ax.quiver(0, 0, 1.5, 2, angles='xy', scale_units='xy', scale=1, color='red', label='v = 1.5i + 2j')\n",
    "ax.set_xlim(0, 2.2)\n",
    "ax.set_ylim(0, 2.2)\n",
    "ax.grid(True, alpha=0.3)\n",
    "ax.set_xlabel(r'$x_1$')\n",
    "ax.set_ylabel(r'$x_2$')\n",
    "ax.legend(loc='center right')\n",
    "sns.despine()\n",
    "plt.show()"
   ],
   "id": "72b9761b81198454",
   "outputs": [
    {
     "data": {
      "text/plain": [
       "<Figure size 640x480 with 1 Axes>"
      ],
      "image/png": "[encoded data removed]"
     },
     "metadata": {},
     "output_type": "display_data"
    }
   ],
   "execution_count": 88
  },
  {
   "metadata": {},
   "cell_type": "markdown",
   "source": "## Orthogonal vectors",
   "id": "f736de4e440bc771"
  },
  {
   "metadata": {},
   "cell_type": "markdown",
   "source": [
    "Characteristics of orthogonal vectors:\n",
    "\n",
    "- $\\boldsymbol{x}$ and $\\boldsymbol{y}$ are orthogonal if their dot product $\\boldsymbol{x}^T \\boldsymbol{y} = 0$\n",
    "- Assuming non-zero norms:\n",
    "    - they are at a 90° angle to each other\n",
    "    - the $n$-dimensional space can have at most $n$ mutually orthogonal vectors\n",
    "- *Orthonormal* vectors are orthogonal and all have unit norm (i.e., basis vectors)."
   ],
   "id": "43b68f1e1431aeb3"
  },
  {
   "metadata": {},
   "cell_type": "markdown",
   "source": "### Orthogonal vectors with Python",
   "id": "8d701943fb466bcd"
  },
  {
   "metadata": {
    "ExecuteTime": {
     "end_time": "2025-03-28T11:29:16.736645Z",
     "start_time": "2025-03-28T11:29:16.732645Z"
    }
   },
   "cell_type": "code",
   "source": "i = np.array([1, 0])",
   "id": "17445d59c2e6c31d",
   "outputs": [],
   "execution_count": 89
  },
  {
   "metadata": {
    "ExecuteTime": {
     "end_time": "2025-03-28T11:29:19.901962Z",
     "start_time": "2025-03-28T11:29:19.898461Z"
    }
   },
   "cell_type": "code",
   "source": "j = np.array([0, 1])",
   "id": "d1d40a850bf88b8e",
   "outputs": [],
   "execution_count": 90
  },
  {
   "metadata": {
    "ExecuteTime": {
     "end_time": "2025-03-28T11:29:25.447371Z",
     "start_time": "2025-03-28T11:29:25.442371Z"
    }
   },
   "cell_type": "code",
   "source": "np.dot(i, j)",
   "id": "f8808dbfb6f3473d",
   "outputs": [
    {
     "data": {
      "text/plain": [
       "0"
      ]
     },
     "execution_count": 91,
     "metadata": {},
     "output_type": "execute_result"
    }
   ],
   "execution_count": 91
  }
 ],
 "metadata": {
  "kernelspec": {
   "display_name": "Python 3",
   "language": "python",
   "name": "python3"
  },
  "language_info": {
   "codemirror_mode": {
    "name": "ipython",
    "version": 2
   },
   "file_extension": ".py",
   "mimetype": "text/x-python",
   "name": "python",
   "nbconvert_exporter": "python",
   "pygments_lexer": "ipython2",
   "version": "2.7.6"
  }
 },
 "nbformat": 4,
 "nbformat_minor": 5
}
