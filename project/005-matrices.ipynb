{
 "cells": [
  {
   "metadata": {},
   "cell_type": "markdown",
   "source": "# Matrices (Rank 2 tensors)",
   "id": "72a4d49ecb986946"
  },
  {
   "metadata": {},
   "cell_type": "markdown",
   "source": [
    "Characteristics of a matrix:\n",
    "\n",
    "- Two-dimensional array of numbers\n",
    "- Denoted in uppercase bold italics $\\boldsymbol{X}$\n",
    "- Arranged in a grid of rows and columns so that each element can be accessed by its row and column index\n",
    "- Height is given priority ahead of width in notation, e.g. if $\\boldsymbol{X}$ is a matrix with $m$ rows and $n$ columns, then the shape of $\\boldsymbol{X}$ is $(m, n)$\n",
    "- Individual elements of a matrix are denoted by uppercase, italic letters, e.g. the element in the $i$-th row and $j$-th column of matrix $\\boldsymbol{X}$ is denoted by $X_{ij}$\n",
    "- A colon represents *all elements* in a row or column, e.g. in the matrix $\\boldsymbol{X}$ with shape $(3,2)$ :\n",
    "    - the *left column* is denoted by $\\boldsymbol{X}_{:, 1}$\n",
    "    - the *middle row* is denoted by $\\boldsymbol{X}_{2, :}$\n",
    "\n",
    "$$\\begin{bmatrix} x_{1,1} & x_{1,2} \\\\ x_{2,1} & x_{2,2} \\\\ x_{3,1} & x_{3,2} \\end{bmatrix}$$"
   ],
   "id": "cfadd820384eef46"
  },
  {
   "metadata": {},
   "cell_type": "markdown",
   "source": "## Matrices with Python",
   "id": "5432958cbc080cb6"
  },
  {
   "metadata": {
    "ExecuteTime": {
     "end_time": "2025-03-28T11:42:13.560326Z",
     "start_time": "2025-03-28T11:42:03.345049Z"
    }
   },
   "cell_type": "code",
   "source": [
    "import numpy as np\n",
    "import torch\n",
    "import tensorflow as tf"
   ],
   "id": "3491bff335c06947",
   "outputs": [],
   "execution_count": 1
  },
  {
   "metadata": {},
   "cell_type": "markdown",
   "source": "### Matrices with NumPy",
   "id": "fe3d7c83dee9b5da"
  },
  {
   "metadata": {
    "ExecuteTime": {
     "end_time": "2025-03-28T11:42:46.502901Z",
     "start_time": "2025-03-28T11:42:46.495397Z"
    }
   },
   "cell_type": "code",
   "source": [
    "X = np.array([[25, 2], [5, 26], [3, 7]])\n",
    "X"
   ],
   "id": "986c60dcebffb428",
   "outputs": [
    {
     "data": {
      "text/plain": [
       "array([[25,  2],\n",
       "       [ 5, 26],\n",
       "       [ 3,  7]])"
      ]
     },
     "execution_count": 2,
     "metadata": {},
     "output_type": "execute_result"
    }
   ],
   "execution_count": 2
  },
  {
   "metadata": {
    "ExecuteTime": {
     "end_time": "2025-03-28T11:42:52.764767Z",
     "start_time": "2025-03-28T11:42:52.760764Z"
    }
   },
   "cell_type": "code",
   "source": "X.shape",
   "id": "9d1cb444575c4c3b",
   "outputs": [
    {
     "data": {
      "text/plain": [
       "(3, 2)"
      ]
     },
     "execution_count": 3,
     "metadata": {},
     "output_type": "execute_result"
    }
   ],
   "execution_count": 3
  },
  {
   "metadata": {
    "ExecuteTime": {
     "end_time": "2025-03-28T11:42:57.868521Z",
     "start_time": "2025-03-28T11:42:57.863521Z"
    }
   },
   "cell_type": "code",
   "source": "X.size",
   "id": "1c815bc1d14d1677",
   "outputs": [
    {
     "data": {
      "text/plain": [
       "6"
      ]
     },
     "execution_count": 4,
     "metadata": {},
     "output_type": "execute_result"
    }
   ],
   "execution_count": 4
  },
  {
   "metadata": {
    "ExecuteTime": {
     "end_time": "2025-03-28T11:43:30.932007Z",
     "start_time": "2025-03-28T11:43:30.927505Z"
    }
   },
   "cell_type": "code",
   "source": [
    "# Select left column of matrix X (zero-indexed)\n",
    "X[:,0]"
   ],
   "id": "d5f79d26b9ba7aa6",
   "outputs": [
    {
     "data": {
      "text/plain": [
       "array([25,  5,  3])"
      ]
     },
     "execution_count": 5,
     "metadata": {},
     "output_type": "execute_result"
    }
   ],
   "execution_count": 5
  },
  {
   "metadata": {
    "ExecuteTime": {
     "end_time": "2025-03-28T11:43:36.518871Z",
     "start_time": "2025-03-28T11:43:36.513372Z"
    }
   },
   "cell_type": "code",
   "source": [
    "# Select middle row of matrix X:\n",
    "X[1,:]"
   ],
   "id": "c9c8b8eabdaa123b",
   "outputs": [
    {
     "data": {
      "text/plain": [
       "array([ 5, 26])"
      ]
     },
     "execution_count": 6,
     "metadata": {},
     "output_type": "execute_result"
    }
   ],
   "execution_count": 6
  },
  {
   "metadata": {
    "ExecuteTime": {
     "end_time": "2025-03-28T11:43:43.684319Z",
     "start_time": "2025-03-28T11:43:43.679318Z"
    }
   },
   "cell_type": "code",
   "source": [
    "# Another slicing-by-index example:\n",
    "X[0:2, 0:2]"
   ],
   "id": "d0a482114bf647f6",
   "outputs": [
    {
     "data": {
      "text/plain": [
       "array([[25,  2],\n",
       "       [ 5, 26]])"
      ]
     },
     "execution_count": 7,
     "metadata": {},
     "output_type": "execute_result"
    }
   ],
   "execution_count": 7
  },
  {
   "metadata": {},
   "cell_type": "markdown",
   "source": "### Matrices with PyTorch",
   "id": "8c3dd5592bca63ec"
  },
  {
   "metadata": {
    "ExecuteTime": {
     "end_time": "2025-03-28T11:45:05.479295Z",
     "start_time": "2025-03-28T11:45:05.473294Z"
    }
   },
   "cell_type": "code",
   "source": [
    "X_pt = torch.tensor([[25, 2], [5, 26], [3, 7]])\n",
    "X_pt"
   ],
   "id": "bc4632d2f0455aeb",
   "outputs": [
    {
     "data": {
      "text/plain": [
       "tensor([[25,  2],\n",
       "        [ 5, 26],\n",
       "        [ 3,  7]])"
      ]
     },
     "execution_count": 8,
     "metadata": {},
     "output_type": "execute_result"
    }
   ],
   "execution_count": 8
  },
  {
   "metadata": {
    "ExecuteTime": {
     "end_time": "2025-03-28T11:45:31.380264Z",
     "start_time": "2025-03-28T11:45:31.375766Z"
    }
   },
   "cell_type": "code",
   "source": "X_pt.shape",
   "id": "9c0e5cd4ce4e09e9",
   "outputs": [
    {
     "data": {
      "text/plain": [
       "torch.Size([3, 2])"
      ]
     },
     "execution_count": 9,
     "metadata": {},
     "output_type": "execute_result"
    }
   ],
   "execution_count": 9
  },
  {
   "metadata": {},
   "cell_type": "markdown",
   "source": "Note that `.shape` and `size` are interchangeable in PyTorch:",
   "id": "7498d662d69d129a"
  },
  {
   "metadata": {
    "ExecuteTime": {
     "end_time": "2025-03-28T11:46:14.318517Z",
     "start_time": "2025-03-28T11:46:14.314016Z"
    }
   },
   "cell_type": "code",
   "source": "X_pt.size()",
   "id": "bf40287104edf277",
   "outputs": [
    {
     "data": {
      "text/plain": [
       "torch.Size([3, 2])"
      ]
     },
     "execution_count": 10,
     "metadata": {},
     "output_type": "execute_result"
    }
   ],
   "execution_count": 10
  },
  {
   "metadata": {
    "ExecuteTime": {
     "end_time": "2025-03-28T11:46:26.055620Z",
     "start_time": "2025-03-28T11:46:26.047618Z"
    }
   },
   "cell_type": "code",
   "source": "X_pt[:,0]",
   "id": "eccf1a3e3b24e461",
   "outputs": [
    {
     "data": {
      "text/plain": [
       "tensor([25,  5,  3])"
      ]
     },
     "execution_count": 11,
     "metadata": {},
     "output_type": "execute_result"
    }
   ],
   "execution_count": 11
  },
  {
   "metadata": {
    "ExecuteTime": {
     "end_time": "2025-03-28T11:46:32.852118Z",
     "start_time": "2025-03-28T11:46:32.847117Z"
    }
   },
   "cell_type": "code",
   "source": "X_pt[1,:]",
   "id": "592cb0e38d306eae",
   "outputs": [
    {
     "data": {
      "text/plain": [
       "tensor([ 5, 26])"
      ]
     },
     "execution_count": 12,
     "metadata": {},
     "output_type": "execute_result"
    }
   ],
   "execution_count": 12
  },
  {
   "metadata": {
    "ExecuteTime": {
     "end_time": "2025-03-28T11:46:37.501313Z",
     "start_time": "2025-03-28T11:46:37.496811Z"
    }
   },
   "cell_type": "code",
   "source": "X_pt[0:2, 0:2]",
   "id": "745300f7988efbcb",
   "outputs": [
    {
     "data": {
      "text/plain": [
       "tensor([[25,  2],\n",
       "        [ 5, 26]])"
      ]
     },
     "execution_count": 13,
     "metadata": {},
     "output_type": "execute_result"
    }
   ],
   "execution_count": 13
  },
  {
   "metadata": {},
   "cell_type": "markdown",
   "source": "### Matrices with TensorFlow",
   "id": "f3fceb3448621759"
  },
  {
   "metadata": {
    "ExecuteTime": {
     "end_time": "2025-03-28T11:48:20.747154Z",
     "start_time": "2025-03-28T11:48:20.722154Z"
    }
   },
   "cell_type": "code",
   "source": [
    "X_tf = tf.Variable([[25, 2], [5, 26], [3, 7]])\n",
    "X_tf"
   ],
   "id": "ccde1a866add7dee",
   "outputs": [
    {
     "data": {
      "text/plain": [
       "<tf.Variable 'Variable:0' shape=(3, 2) dtype=int32, numpy=\n",
       "array([[25,  2],\n",
       "       [ 5, 26],\n",
       "       [ 3,  7]])>"
      ]
     },
     "execution_count": 14,
     "metadata": {},
     "output_type": "execute_result"
    }
   ],
   "execution_count": 14
  },
  {
   "metadata": {
    "ExecuteTime": {
     "end_time": "2025-03-28T11:48:51.629818Z",
     "start_time": "2025-03-28T11:48:51.624820Z"
    }
   },
   "cell_type": "code",
   "source": "tf.rank(X_tf)",
   "id": "d5de6fc42eeb46cd",
   "outputs": [
    {
     "data": {
      "text/plain": [
       "<tf.Tensor: shape=(), dtype=int32, numpy=2>"
      ]
     },
     "execution_count": 15,
     "metadata": {},
     "output_type": "execute_result"
    }
   ],
   "execution_count": 15
  },
  {
   "metadata": {
    "ExecuteTime": {
     "end_time": "2025-03-28T11:49:05.648168Z",
     "start_time": "2025-03-28T11:49:05.640170Z"
    }
   },
   "cell_type": "code",
   "source": "tf.shape(X_tf)",
   "id": "adebdc5317b249ad",
   "outputs": [
    {
     "data": {
      "text/plain": [
       "<tf.Tensor: shape=(2,), dtype=int32, numpy=array([3, 2])>"
      ]
     },
     "execution_count": 16,
     "metadata": {},
     "output_type": "execute_result"
    }
   ],
   "execution_count": 16
  },
  {
   "metadata": {
    "ExecuteTime": {
     "end_time": "2025-03-28T11:49:12.868601Z",
     "start_time": "2025-03-28T11:49:12.863601Z"
    }
   },
   "cell_type": "code",
   "source": "tf.size(X_tf)",
   "id": "e3b25965a0e381d3",
   "outputs": [
    {
     "data": {
      "text/plain": [
       "<tf.Tensor: shape=(), dtype=int32, numpy=6>"
      ]
     },
     "execution_count": 17,
     "metadata": {},
     "output_type": "execute_result"
    }
   ],
   "execution_count": 17
  },
  {
   "metadata": {
    "ExecuteTime": {
     "end_time": "2025-03-28T11:49:24.133266Z",
     "start_time": "2025-03-28T11:49:24.121268Z"
    }
   },
   "cell_type": "code",
   "source": "X_tf[:,0]",
   "id": "5d2e9d8e14225437",
   "outputs": [
    {
     "data": {
      "text/plain": [
       "<tf.Tensor: shape=(3,), dtype=int32, numpy=array([25,  5,  3])>"
      ]
     },
     "execution_count": 18,
     "metadata": {},
     "output_type": "execute_result"
    }
   ],
   "execution_count": 18
  },
  {
   "metadata": {
    "ExecuteTime": {
     "end_time": "2025-03-28T11:49:28.329296Z",
     "start_time": "2025-03-28T11:49:28.322297Z"
    }
   },
   "cell_type": "code",
   "source": "X_tf[1,:]",
   "id": "2c7039c9b620d8e3",
   "outputs": [
    {
     "data": {
      "text/plain": [
       "<tf.Tensor: shape=(2,), dtype=int32, numpy=array([ 5, 26])>"
      ]
     },
     "execution_count": 19,
     "metadata": {},
     "output_type": "execute_result"
    }
   ],
   "execution_count": 19
  },
  {
   "metadata": {
    "ExecuteTime": {
     "end_time": "2025-03-28T11:49:30.944860Z",
     "start_time": "2025-03-28T11:49:30.937360Z"
    }
   },
   "cell_type": "code",
   "source": "X_tf[0:2, 0:2]",
   "id": "eb41f31cb49e29f8",
   "outputs": [
    {
     "data": {
      "text/plain": [
       "<tf.Tensor: shape=(2, 2), dtype=int32, numpy=\n",
       "array([[25,  2],\n",
       "       [ 5, 26]])>"
      ]
     },
     "execution_count": 20,
     "metadata": {},
     "output_type": "execute_result"
    }
   ],
   "execution_count": 20
  }
 ],
 "metadata": {
  "kernelspec": {
   "display_name": "Python 3",
   "language": "python",
   "name": "python3"
  },
  "language_info": {
   "codemirror_mode": {
    "name": "ipython",
    "version": 2
   },
   "file_extension": ".py",
   "mimetype": "text/x-python",
   "name": "python",
   "nbconvert_exporter": "python",
   "pygments_lexer": "ipython2",
   "version": "2.7.6"
  }
 },
 "nbformat": 4,
 "nbformat_minor": 5
}
