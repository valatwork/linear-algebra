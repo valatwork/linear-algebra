{
 "cells": [
  {
   "metadata": {},
   "cell_type": "markdown",
   "source": "# Tensor Operations",
   "id": "cf6444a3a048e1de"
  },
  {
   "metadata": {},
   "cell_type": "markdown",
   "source": "## Tensor Transposition",
   "id": "748f1cac63457e9"
  },
  {
   "metadata": {},
   "cell_type": "markdown",
   "source": [
    "- The transpose of a scalar is itself, e.g.: $x^T = x$\n",
    "- The transpose of a vector converts column to row, and vice versa\n",
    "- Scalar and vector transposition are special cases of **matrix transposition**:\n",
    "    - Flip of axes over the *main diagonal*: $(\\boldsymbol{X}^T)_{i,j} = \\boldsymbol{X}_{j,i}$\n",
    "\n",
    "   $$\\begin{bmatrix} x_{1,1} & x_{1,2} \\\\ x_{2,1} & x_{2,2} \\\\ x_{3,1} & x_{3,2} \\end{bmatrix}^T = \\begin{bmatrix} x_{1,1} & x_{2,1} & x_{3,1} \\\\ x_{1,2} & x_{2,2} & x_{3,2} \\end{bmatrix}$$"
   ],
   "id": "faa4b6944074c3fd"
  },
  {
   "metadata": {},
   "cell_type": "markdown",
   "source": "### Tensor Transposition with Python",
   "id": "3fb5d76e62ac684"
  },
  {
   "metadata": {
    "ExecuteTime": {
     "end_time": "2025-04-01T08:35:03.470254Z",
     "start_time": "2025-04-01T08:34:56.461324Z"
    }
   },
   "cell_type": "code",
   "source": [
    "import numpy as np\n",
    "import torch\n",
    "import tensorflow as tf"
   ],
   "id": "dc4bcba592478a42",
   "outputs": [],
   "execution_count": 1
  },
  {
   "metadata": {
    "ExecuteTime": {
     "end_time": "2025-04-01T08:35:05.353757Z",
     "start_time": "2025-04-01T08:35:05.304763Z"
    }
   },
   "cell_type": "code",
   "source": [
    "X = np.array([[25, 2], [5, 26], [3, 7]])\n",
    "X_tf = tf.Variable([[25, 2], [5, 26], [3, 7]])\n",
    "X_pt = torch.tensor([[25, 2], [5, 26], [3, 7]])"
   ],
   "id": "d9f73a970ae654",
   "outputs": [],
   "execution_count": 2
  },
  {
   "metadata": {},
   "cell_type": "markdown",
   "source": "##### Transposition with NumPy",
   "id": "49acbcd1f581efd0"
  },
  {
   "metadata": {
    "ExecuteTime": {
     "end_time": "2025-04-01T08:35:06.322646Z",
     "start_time": "2025-04-01T08:35:06.316646Z"
    }
   },
   "cell_type": "code",
   "source": "X.T",
   "id": "dac8ea1d798748d8",
   "outputs": [
    {
     "data": {
      "text/plain": [
       "array([[25,  5,  3],\n",
       "       [ 2, 26,  7]])"
      ]
     },
     "execution_count": 3,
     "metadata": {},
     "output_type": "execute_result"
    }
   ],
   "execution_count": 3
  },
  {
   "metadata": {},
   "cell_type": "markdown",
   "source": "##### Transposition with TensorFlow",
   "id": "c696ab9f5c9f462a"
  },
  {
   "metadata": {
    "ExecuteTime": {
     "end_time": "2025-04-01T08:35:07.155852Z",
     "start_time": "2025-04-01T08:35:07.144352Z"
    }
   },
   "cell_type": "code",
   "source": "tf.transpose(X_tf)",
   "id": "22b3b4b3c317d588",
   "outputs": [
    {
     "data": {
      "text/plain": [
       "<tf.Tensor: shape=(2, 3), dtype=int32, numpy=\n",
       "array([[25,  5,  3],\n",
       "       [ 2, 26,  7]])>"
      ]
     },
     "execution_count": 4,
     "metadata": {},
     "output_type": "execute_result"
    }
   ],
   "execution_count": 4
  },
  {
   "metadata": {},
   "cell_type": "markdown",
   "source": "### Transposition with PyTorch",
   "id": "58fe55380bcb36f7"
  },
  {
   "metadata": {
    "ExecuteTime": {
     "end_time": "2025-04-01T08:35:07.951612Z",
     "start_time": "2025-04-01T08:35:07.943610Z"
    }
   },
   "cell_type": "code",
   "source": "X_pt.T",
   "id": "98270d2f8ebaa475",
   "outputs": [
    {
     "data": {
      "text/plain": [
       "tensor([[25,  5,  3],\n",
       "        [ 2, 26,  7]])"
      ]
     },
     "execution_count": 5,
     "metadata": {},
     "output_type": "execute_result"
    }
   ],
   "execution_count": 5
  },
  {
   "metadata": {},
   "cell_type": "markdown",
   "source": "## Basic Tensor Arithmetic",
   "id": "593643bab09c4275"
  },
  {
   "metadata": {},
   "cell_type": "markdown",
   "source": "Adding or multiplying with scalar applies the operation to each element of the tensor and the tensor shape is retained:",
   "id": "d0e4eff569114cc0"
  },
  {
   "metadata": {
    "ExecuteTime": {
     "end_time": "2025-04-01T08:35:09.175548Z",
     "start_time": "2025-04-01T08:35:09.170547Z"
    }
   },
   "cell_type": "code",
   "source": "X * 2",
   "id": "f902e735a0d526bd",
   "outputs": [
    {
     "data": {
      "text/plain": [
       "array([[50,  4],\n",
       "       [10, 52],\n",
       "       [ 6, 14]])"
      ]
     },
     "execution_count": 6,
     "metadata": {},
     "output_type": "execute_result"
    }
   ],
   "execution_count": 6
  },
  {
   "metadata": {
    "ExecuteTime": {
     "end_time": "2025-04-01T08:35:09.749791Z",
     "start_time": "2025-04-01T08:35:09.745290Z"
    }
   },
   "cell_type": "code",
   "source": "X + 2",
   "id": "d45692057dc3c6b7",
   "outputs": [
    {
     "data": {
      "text/plain": [
       "array([[27,  4],\n",
       "       [ 7, 28],\n",
       "       [ 5,  9]])"
      ]
     },
     "execution_count": 7,
     "metadata": {},
     "output_type": "execute_result"
    }
   ],
   "execution_count": 7
  },
  {
   "metadata": {
    "ExecuteTime": {
     "end_time": "2025-04-01T08:35:10.201289Z",
     "start_time": "2025-04-01T08:35:10.196290Z"
    }
   },
   "cell_type": "code",
   "source": "X*2+2",
   "id": "4c19be19ad7b1044",
   "outputs": [
    {
     "data": {
      "text/plain": [
       "array([[52,  6],\n",
       "       [12, 54],\n",
       "       [ 8, 16]])"
      ]
     },
     "execution_count": 8,
     "metadata": {},
     "output_type": "execute_result"
    }
   ],
   "execution_count": 8
  },
  {
   "metadata": {},
   "cell_type": "markdown",
   "source": "With TensorFlow and PyTorch, there's the risk of operator overloading: operator overloading is when the same operator (e.g. `*`, `+`) has different meanings depending on the context. For example, in TensorFlow, `*` is element-wise multiplication, while in PyTorch, it can be matrix multiplication. To avoid confusion, it's better to use the explicit functions provided by the libraries:",
   "id": "173a84a2b21896a9"
  },
  {
   "metadata": {
    "ExecuteTime": {
     "end_time": "2025-04-01T08:35:11.442061Z",
     "start_time": "2025-04-01T08:35:11.436062Z"
    }
   },
   "cell_type": "code",
   "source": "torch.add(torch.mul(X_pt, 2), 2)",
   "id": "34d19f72a35884d0",
   "outputs": [
    {
     "data": {
      "text/plain": [
       "tensor([[52,  6],\n",
       "        [12, 54],\n",
       "        [ 8, 16]])"
      ]
     },
     "execution_count": 9,
     "metadata": {},
     "output_type": "execute_result"
    }
   ],
   "execution_count": 9
  },
  {
   "metadata": {
    "ExecuteTime": {
     "end_time": "2025-04-01T08:35:13.153667Z",
     "start_time": "2025-04-01T08:35:13.141666Z"
    }
   },
   "cell_type": "code",
   "source": "tf.add(tf.multiply(X_tf, 2), 2)",
   "id": "34199c597f50eece",
   "outputs": [
    {
     "data": {
      "text/plain": [
       "<tf.Tensor: shape=(3, 2), dtype=int32, numpy=\n",
       "array([[52,  6],\n",
       "       [12, 54],\n",
       "       [ 8, 16]])>"
      ]
     },
     "execution_count": 10,
     "metadata": {},
     "output_type": "execute_result"
    }
   ],
   "execution_count": 10
  },
  {
   "metadata": {},
   "cell_type": "markdown",
   "source": "#### Hadamard Product (or Element-wise Product)",
   "id": "d62e1809c72746e6"
  },
  {
   "metadata": {},
   "cell_type": "markdown",
   "source": "If two tensors have the same size, operations are often applied element-wise. This is called the **Hadamard product**. The Hadamard product of two tensors $\\boldsymbol{A}$ and $\\boldsymbol{X}$ is denoted as $\\boldsymbol{A} \\odot \\boldsymbol{X}$.",
   "id": "9594290838db2f08"
  },
  {
   "metadata": {
    "ExecuteTime": {
     "end_time": "2025-04-01T08:35:16.540167Z",
     "start_time": "2025-04-01T08:35:16.535170Z"
    }
   },
   "cell_type": "code",
   "source": "X",
   "id": "5edc3d032aa20a3a",
   "outputs": [
    {
     "data": {
      "text/plain": [
       "array([[25,  2],\n",
       "       [ 5, 26],\n",
       "       [ 3,  7]])"
      ]
     },
     "execution_count": 11,
     "metadata": {},
     "output_type": "execute_result"
    }
   ],
   "execution_count": 11
  },
  {
   "metadata": {
    "ExecuteTime": {
     "end_time": "2025-04-01T08:35:16.920245Z",
     "start_time": "2025-04-01T08:35:16.915246Z"
    }
   },
   "cell_type": "code",
   "source": [
    "A = X + 2\n",
    "A"
   ],
   "id": "a0bbc4adac49ed39",
   "outputs": [
    {
     "data": {
      "text/plain": [
       "array([[27,  4],\n",
       "       [ 7, 28],\n",
       "       [ 5,  9]])"
      ]
     },
     "execution_count": 12,
     "metadata": {},
     "output_type": "execute_result"
    }
   ],
   "execution_count": 12
  },
  {
   "metadata": {
    "ExecuteTime": {
     "end_time": "2025-04-01T08:35:17.573580Z",
     "start_time": "2025-04-01T08:35:17.569078Z"
    }
   },
   "cell_type": "code",
   "source": "A + X",
   "id": "c42cd8a993634e36",
   "outputs": [
    {
     "data": {
      "text/plain": [
       "array([[52,  6],\n",
       "       [12, 54],\n",
       "       [ 8, 16]])"
      ]
     },
     "execution_count": 13,
     "metadata": {},
     "output_type": "execute_result"
    }
   ],
   "execution_count": 13
  },
  {
   "metadata": {
    "ExecuteTime": {
     "end_time": "2025-04-01T08:35:18.223203Z",
     "start_time": "2025-04-01T08:35:18.218204Z"
    }
   },
   "cell_type": "code",
   "source": [
    "# the Hadamard product in NumPy\n",
    "A * X"
   ],
   "id": "11e193bcd38874f6",
   "outputs": [
    {
     "data": {
      "text/plain": [
       "array([[675,   8],\n",
       "       [ 35, 728],\n",
       "       [ 15,  63]])"
      ]
     },
     "execution_count": 14,
     "metadata": {},
     "output_type": "execute_result"
    }
   ],
   "execution_count": 14
  },
  {
   "metadata": {
    "ExecuteTime": {
     "end_time": "2025-04-01T08:35:18.614203Z",
     "start_time": "2025-04-01T08:35:18.610704Z"
    }
   },
   "cell_type": "code",
   "source": "A_pt = X_pt + 2",
   "id": "6084dd9d7162d7c6",
   "outputs": [],
   "execution_count": 15
  },
  {
   "metadata": {
    "ExecuteTime": {
     "end_time": "2025-04-01T08:35:19.307203Z",
     "start_time": "2025-04-01T08:35:19.301204Z"
    }
   },
   "cell_type": "code",
   "source": "A_pt + X_pt",
   "id": "5a28836459b18906",
   "outputs": [
    {
     "data": {
      "text/plain": [
       "tensor([[52,  6],\n",
       "        [12, 54],\n",
       "        [ 8, 16]])"
      ]
     },
     "execution_count": 16,
     "metadata": {},
     "output_type": "execute_result"
    }
   ],
   "execution_count": 16
  },
  {
   "metadata": {
    "ExecuteTime": {
     "end_time": "2025-04-01T08:35:21.134808Z",
     "start_time": "2025-04-01T08:35:21.129809Z"
    }
   },
   "cell_type": "code",
   "source": [
    "# the Hadamard product in PyTorch\n",
    "A_pt * X_pt"
   ],
   "id": "3440deb9e4163d4",
   "outputs": [
    {
     "data": {
      "text/plain": [
       "tensor([[675,   8],\n",
       "        [ 35, 728],\n",
       "        [ 15,  63]])"
      ]
     },
     "execution_count": 17,
     "metadata": {},
     "output_type": "execute_result"
    }
   ],
   "execution_count": 17
  },
  {
   "metadata": {
    "ExecuteTime": {
     "end_time": "2025-04-01T08:35:21.484601Z",
     "start_time": "2025-04-01T08:35:21.480602Z"
    }
   },
   "cell_type": "code",
   "source": "A_tf = X_tf + 2",
   "id": "d01c08da18a9a00d",
   "outputs": [],
   "execution_count": 18
  },
  {
   "metadata": {
    "ExecuteTime": {
     "end_time": "2025-04-01T08:35:21.931102Z",
     "start_time": "2025-04-01T08:35:21.925601Z"
    }
   },
   "cell_type": "code",
   "source": "A_tf + X_tf",
   "id": "74684887a0ad5322",
   "outputs": [
    {
     "data": {
      "text/plain": [
       "<tf.Tensor: shape=(3, 2), dtype=int32, numpy=\n",
       "array([[52,  6],\n",
       "       [12, 54],\n",
       "       [ 8, 16]])>"
      ]
     },
     "execution_count": 19,
     "metadata": {},
     "output_type": "execute_result"
    }
   ],
   "execution_count": 19
  },
  {
   "metadata": {
    "ExecuteTime": {
     "end_time": "2025-04-01T08:35:22.863439Z",
     "start_time": "2025-04-01T08:35:22.857939Z"
    }
   },
   "cell_type": "code",
   "source": [
    "# the Hadamard product in TensorFlow\n",
    "A_tf * X_tf"
   ],
   "id": "c81b43c8cb0057bd",
   "outputs": [
    {
     "data": {
      "text/plain": [
       "<tf.Tensor: shape=(3, 2), dtype=int32, numpy=\n",
       "array([[675,   8],\n",
       "       [ 35, 728],\n",
       "       [ 15,  63]])>"
      ]
     },
     "execution_count": 20,
     "metadata": {},
     "output_type": "execute_result"
    }
   ],
   "execution_count": 20
  },
  {
   "metadata": {},
   "cell_type": "markdown",
   "source": "### Tensor Reduction",
   "id": "fee8f9bce4ad30b8"
  },
  {
   "metadata": {},
   "cell_type": "markdown",
   "source": [
    "Calculating the sum across all elements of a tensor is a common operation. For example:\n",
    "\n",
    "- For vector $\\boldsymbol{x}$ of length $n$, we calculate $\\sum_{i=1}^{n} x_i$\n",
    "- For matrix $\\boldsymbol{X}$ with $m$ by $n$ dimensions, we calculate $\\sum_{i=1}^{m} \\sum_{j=1}^{n} X_{i,j}$\n"
   ],
   "id": "716854bf5da8cac0"
  },
  {
   "metadata": {
    "ExecuteTime": {
     "end_time": "2025-04-01T08:35:25.798505Z",
     "start_time": "2025-04-01T08:35:25.793508Z"
    }
   },
   "cell_type": "code",
   "source": "X",
   "id": "1e73d9a67306a5cd",
   "outputs": [
    {
     "data": {
      "text/plain": [
       "array([[25,  2],\n",
       "       [ 5, 26],\n",
       "       [ 3,  7]])"
      ]
     },
     "execution_count": 21,
     "metadata": {},
     "output_type": "execute_result"
    }
   ],
   "execution_count": 21
  },
  {
   "metadata": {
    "ExecuteTime": {
     "end_time": "2025-04-01T08:35:26.581564Z",
     "start_time": "2025-04-01T08:35:26.577063Z"
    }
   },
   "cell_type": "code",
   "source": "X.sum()",
   "id": "4208954ba8542e70",
   "outputs": [
    {
     "data": {
      "text/plain": [
       "68"
      ]
     },
     "execution_count": 22,
     "metadata": {},
     "output_type": "execute_result"
    }
   ],
   "execution_count": 22
  },
  {
   "metadata": {
    "ExecuteTime": {
     "end_time": "2025-04-01T08:35:27.033672Z",
     "start_time": "2025-04-01T08:35:27.028670Z"
    }
   },
   "cell_type": "code",
   "source": "torch.sum(X_pt)",
   "id": "5c0a3976dd3af52d",
   "outputs": [
    {
     "data": {
      "text/plain": [
       "tensor(68)"
      ]
     },
     "execution_count": 23,
     "metadata": {},
     "output_type": "execute_result"
    }
   ],
   "execution_count": 23
  },
  {
   "metadata": {
    "ExecuteTime": {
     "end_time": "2025-04-01T08:35:27.485419Z",
     "start_time": "2025-04-01T08:35:27.474416Z"
    }
   },
   "cell_type": "code",
   "source": "tf.reduce_sum(X_tf)",
   "id": "bcdaff79ed74e93b",
   "outputs": [
    {
     "data": {
      "text/plain": [
       "<tf.Tensor: shape=(), dtype=int32, numpy=68>"
      ]
     },
     "execution_count": 24,
     "metadata": {},
     "output_type": "execute_result"
    }
   ],
   "execution_count": 24
  },
  {
   "metadata": {},
   "cell_type": "markdown",
   "source": "It can also be done along a specific axis.",
   "id": "d0b696fc25fe0ee4"
  },
  {
   "metadata": {
    "ExecuteTime": {
     "end_time": "2025-04-01T08:35:28.536276Z",
     "start_time": "2025-04-01T08:35:28.531281Z"
    }
   },
   "cell_type": "code",
   "source": "X.sum(0)",
   "id": "d92eaf1afa77e509",
   "outputs": [
    {
     "data": {
      "text/plain": [
       "array([33, 35])"
      ]
     },
     "execution_count": 25,
     "metadata": {},
     "output_type": "execute_result"
    }
   ],
   "execution_count": 25
  },
  {
   "metadata": {
    "ExecuteTime": {
     "end_time": "2025-04-01T08:35:28.929079Z",
     "start_time": "2025-04-01T08:35:28.924578Z"
    }
   },
   "cell_type": "code",
   "source": "X.sum(1)",
   "id": "a26c7c8f6bb2c76e",
   "outputs": [
    {
     "data": {
      "text/plain": [
       "array([27, 31, 10])"
      ]
     },
     "execution_count": 26,
     "metadata": {},
     "output_type": "execute_result"
    }
   ],
   "execution_count": 26
  },
  {
   "metadata": {
    "ExecuteTime": {
     "end_time": "2025-04-01T08:35:29.360587Z",
     "start_time": "2025-04-01T08:35:29.355589Z"
    }
   },
   "cell_type": "code",
   "source": "torch.sum(X_pt, 0)",
   "id": "567126a9f3a43190",
   "outputs": [
    {
     "data": {
      "text/plain": [
       "tensor([33, 35])"
      ]
     },
     "execution_count": 27,
     "metadata": {},
     "output_type": "execute_result"
    }
   ],
   "execution_count": 27
  },
  {
   "metadata": {
    "ExecuteTime": {
     "end_time": "2025-04-01T08:35:30.896315Z",
     "start_time": "2025-04-01T08:35:30.889813Z"
    }
   },
   "cell_type": "code",
   "source": "tf.reduce_sum(X_tf, 1)",
   "id": "8007211fd8fd5b3c",
   "outputs": [
    {
     "data": {
      "text/plain": [
       "<tf.Tensor: shape=(3,), dtype=int32, numpy=array([27, 31, 10])>"
      ]
     },
     "execution_count": 28,
     "metadata": {},
     "output_type": "execute_result"
    }
   ],
   "execution_count": 28
  },
  {
   "metadata": {},
   "cell_type": "markdown",
   "source": [
    "Other operations that can be applied with reduction along all or a selection of axses include:\n",
    "\n",
    "- maximum\n",
    "- minimum\n",
    "- mean\n",
    "- product"
   ],
   "id": "cabf8a106e82dcba"
  },
  {
   "metadata": {},
   "cell_type": "markdown",
   "source": "## The Dot Product",
   "id": "830db2f3b364daa2"
  },
  {
   "metadata": {},
   "cell_type": "markdown",
   "source": [
    "If we have two vectors $\\boldsymbol{x}$ and $\\boldsymbol{y}$ of the same length $n$, we can calculate the dot product between them.\n",
    "\n",
    "The dot product is annotated in different ways:\n",
    "\n",
    "- $\\boldsymbol{x} \\cdot \\boldsymbol{y}$\n",
    "- $\\boldsymbol{x}^T \\boldsymbol{y}$\n",
    "- $\\langle \\boldsymbol{x} , \\boldsymbol{y}\\rangle$\n",
    "\n",
    "Regardless of the notation, the dot product is calculated as follows: first, the products are calculated in an element-wise fashion, and then the results are summed reductively across the products to a scalar value/\n",
    "\n",
    "$$\\boldsymbol{x} \\cdot \\boldsymbol{y} = \\sum_{i=1}^{s} x_i y_i$$"
   ],
   "id": "ad5b3163eae39f1c"
  },
  {
   "metadata": {
    "ExecuteTime": {
     "end_time": "2025-04-01T08:35:33.391257Z",
     "start_time": "2025-04-01T08:35:33.384758Z"
    }
   },
   "cell_type": "code",
   "source": [
    "x = np.array([25, 2, 5])\n",
    "x_pt = torch.tensor([25, 2, 5])\n",
    "x_tf = tf.Variable([25, 2, 5])\n",
    "y = np.array([0, 1, 2])\n",
    "y_pt = torch.tensor([0, 1, 2])\n",
    "y_tf = tf.Variable([0, 1, 2])"
   ],
   "id": "3816f63b0078f28b",
   "outputs": [],
   "execution_count": 29
  },
  {
   "metadata": {
    "ExecuteTime": {
     "end_time": "2025-04-01T08:35:34.057125Z",
     "start_time": "2025-04-01T08:35:34.052125Z"
    }
   },
   "cell_type": "code",
   "source": "np.dot(x, y)",
   "id": "a6a66aa81526dec",
   "outputs": [
    {
     "data": {
      "text/plain": [
       "12"
      ]
     },
     "execution_count": 30,
     "metadata": {},
     "output_type": "execute_result"
    }
   ],
   "execution_count": 30
  },
  {
   "metadata": {
    "ExecuteTime": {
     "end_time": "2025-04-01T08:35:35.767713Z",
     "start_time": "2025-04-01T08:35:35.762714Z"
    }
   },
   "cell_type": "code",
   "source": "np.dot(x_pt, y_pt)",
   "id": "8a364a8acaead353",
   "outputs": [
    {
     "data": {
      "text/plain": [
       "12"
      ]
     },
     "execution_count": 31,
     "metadata": {},
     "output_type": "execute_result"
    }
   ],
   "execution_count": 31
  },
  {
   "metadata": {
    "ExecuteTime": {
     "end_time": "2025-04-01T08:36:31.673729Z",
     "start_time": "2025-04-01T08:36:31.667729Z"
    }
   },
   "cell_type": "code",
   "source": "torch.dot(x_pt, y_pt)",
   "id": "d35d2e9c50d9049f",
   "outputs": [
    {
     "data": {
      "text/plain": [
       "tensor(12)"
      ]
     },
     "execution_count": 32,
     "metadata": {},
     "output_type": "execute_result"
    }
   ],
   "execution_count": 32
  },
  {
   "metadata": {
    "ExecuteTime": {
     "end_time": "2025-04-01T08:36:36.129227Z",
     "start_time": "2025-04-01T08:36:36.124188Z"
    }
   },
   "cell_type": "code",
   "source": "tf.reduce_sum(tf.multiply(x_tf, y_tf))",
   "id": "7d26e46925461e22",
   "outputs": [
    {
     "data": {
      "text/plain": [
       "<tf.Tensor: shape=(), dtype=int32, numpy=12>"
      ]
     },
     "execution_count": 33,
     "metadata": {},
     "output_type": "execute_result"
    }
   ],
   "execution_count": 33
  },
  {
   "metadata": {
    "ExecuteTime": {
     "end_time": "2025-04-01T08:36:39.263705Z",
     "start_time": "2025-04-01T08:36:39.258705Z"
    }
   },
   "cell_type": "code",
   "source": [
    "A = np.array([[1,2,3],[4,5,6]])\n",
    "B = np.array([[7,8],[9,10],[11,12]])\n",
    "np.dot(A, B)"
   ],
   "id": "e86aa5257a3d7138",
   "outputs": [
    {
     "data": {
      "text/plain": [
       "array([[ 58,  64],\n",
       "       [139, 154]])"
      ]
     },
     "execution_count": 34,
     "metadata": {},
     "output_type": "execute_result"
    }
   ],
   "execution_count": 34
  },
  {
   "metadata": {},
   "cell_type": "markdown",
   "source": "## Exercises",
   "id": "96907edaa058b01"
  },
  {
   "metadata": {},
   "cell_type": "markdown",
   "source": [
    "1. What is $\\boldsymbol{Y}^T$ for the following matrix:\n",
    "\n",
    "$$\\boldsymbol{Y} = \\begin{bmatrix} 42 & 4 & 7 & 99 \\\\ -99 & -3 & 17 & 22 \\end{bmatrix}$$"
   ],
   "id": "bc24ae61d4f57ed3"
  },
  {
   "metadata": {
    "ExecuteTime": {
     "end_time": "2025-04-01T08:36:44.262215Z",
     "start_time": "2025-04-01T08:36:44.258218Z"
    }
   },
   "cell_type": "code",
   "source": [
    "y = np.array([[42, 4, 7, 99],[-99, -3, 17, 22]])\n",
    "y"
   ],
   "id": "7b0725e81c815ffe",
   "outputs": [
    {
     "data": {
      "text/plain": [
       "array([[ 42,   4,   7,  99],\n",
       "       [-99,  -3,  17,  22]])"
      ]
     },
     "execution_count": 35,
     "metadata": {},
     "output_type": "execute_result"
    }
   ],
   "execution_count": 35
  },
  {
   "metadata": {
    "ExecuteTime": {
     "end_time": "2025-04-01T08:36:45.230829Z",
     "start_time": "2025-04-01T08:36:45.225330Z"
    }
   },
   "cell_type": "code",
   "source": "y.T",
   "id": "46458dd5a8367797",
   "outputs": [
    {
     "data": {
      "text/plain": [
       "array([[ 42, -99],\n",
       "       [  4,  -3],\n",
       "       [  7,  17],\n",
       "       [ 99,  22]])"
      ]
     },
     "execution_count": 36,
     "metadata": {},
     "output_type": "execute_result"
    }
   ],
   "execution_count": 36
  },
  {
   "metadata": {},
   "cell_type": "markdown",
   "source": [
    "2. What is the Hadamard product of the following matrices:\n",
    "\n",
    "$$\\begin{bmatrix} 25 & 10 \\\\ -2 & 1 \\end{bmatrix} \\odot \\begin{bmatrix} -1 & 7 \\\\ 10 & 8 \\end{bmatrix}$$"
   ],
   "id": "254e3a7ab7cd712b"
  },
  {
   "metadata": {
    "ExecuteTime": {
     "end_time": "2025-04-01T08:36:46.767102Z",
     "start_time": "2025-04-01T08:36:46.761604Z"
    }
   },
   "cell_type": "code",
   "source": [
    "A = np.array([[25,10],[-2,1]])\n",
    "B = np.array([[-1,7],[10,8]])\n",
    "A * B"
   ],
   "id": "81e11854ac4ba788",
   "outputs": [
    {
     "data": {
      "text/plain": [
       "array([[-25,  70],\n",
       "       [-20,   8]])"
      ]
     },
     "execution_count": 37,
     "metadata": {},
     "output_type": "execute_result"
    }
   ],
   "execution_count": 37
  },
  {
   "metadata": {},
   "cell_type": "markdown",
   "source": [
    "3. What is the dot product of the following vectors:\n",
    "\n",
    "$$\\boldsymbol{w} = [-1 \\quad 2 \\quad -2]$$\n",
    "$$\\boldsymbol{z} = [5 \\quad 10 \\quad 0]$$"
   ],
   "id": "a26131f343f29779"
  },
  {
   "metadata": {
    "ExecuteTime": {
     "end_time": "2025-04-01T08:36:49.113954Z",
     "start_time": "2025-04-01T08:36:49.108955Z"
    }
   },
   "cell_type": "code",
   "source": [
    "w = np.array([-1, 2, -2])\n",
    "z = np.array([5, 10, 0])\n",
    "np.dot(w, z)"
   ],
   "id": "e7fc6b1003fd3cfa",
   "outputs": [
    {
     "data": {
      "text/plain": [
       "15"
      ]
     },
     "execution_count": 38,
     "metadata": {},
     "output_type": "execute_result"
    }
   ],
   "execution_count": 38
  }
 ],
 "metadata": {
  "kernelspec": {
   "display_name": "Python 3",
   "language": "python",
   "name": "python3"
  },
  "language_info": {
   "codemirror_mode": {
    "name": "ipython",
    "version": 2
   },
   "file_extension": ".py",
   "mimetype": "text/x-python",
   "name": "python",
   "nbconvert_exporter": "python",
   "pygments_lexer": "ipython2",
   "version": "2.7.6"
  }
 },
 "nbformat": 4,
 "nbformat_minor": 5
}
