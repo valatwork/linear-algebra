{
 "cells": [
  {
   "metadata": {},
   "cell_type": "markdown",
   "source": "# Tensor Operations",
   "id": "cf6444a3a048e1de"
  },
  {
   "metadata": {},
   "cell_type": "markdown",
   "source": "## Tensor Transposition",
   "id": "748f1cac63457e9"
  },
  {
   "metadata": {},
   "cell_type": "markdown",
   "source": [
    "- The transpose of a scalar is itself, e.g.: $x^T = x$\n",
    "- The transpose of a vector converts column to row, and vice versa\n",
    "- Scalar and vector transposition are special cases of **matrix transposition**:\n",
    "    - Flip of axes over the *main diagonal*: $(\\boldsymbol{X}^T)_{i,j} = \\boldsymbol{X}_{j,i}$\n",
    "\n",
    "   $$\\begin{bmatrix} x_{1,1} & x_{1,2} \\\\ x_{2,1} & x_{2,2} \\\\ x_{3,1} & x_{3,2} \\end{bmatrix}^T = \\begin{bmatrix} x_{1,1} & x_{2,1} & x_{3,1} \\\\ x_{1,2} & x_{2,2} & x_{3,2} \\end{bmatrix}$$"
   ],
   "id": "faa4b6944074c3fd"
  },
  {
   "metadata": {},
   "cell_type": "markdown",
   "source": "### Tensor Transposition with Python",
   "id": "3fb5d76e62ac684"
  },
  {
   "metadata": {
    "ExecuteTime": {
     "end_time": "2025-04-18T11:02:49.550222Z",
     "start_time": "2025-04-18T11:02:49.546722Z"
    }
   },
   "cell_type": "code",
   "source": [
    "import numpy as np\n",
    "import torch\n",
    "import tensorflow as tf"
   ],
   "id": "dc4bcba592478a42",
   "outputs": [],
   "execution_count": 46
  },
  {
   "metadata": {
    "ExecuteTime": {
     "end_time": "2025-04-18T11:02:49.576220Z",
     "start_time": "2025-04-18T11:02:49.570721Z"
    }
   },
   "cell_type": "code",
   "source": [
    "X = np.array([[25, 2], [5, 26], [3, 7]])\n",
    "X_tf = tf.Variable([[25, 2], [5, 26], [3, 7]])\n",
    "X_pt = torch.tensor([[25, 2], [5, 26], [3, 7]])"
   ],
   "id": "d9f73a970ae654",
   "outputs": [],
   "execution_count": 47
  },
  {
   "metadata": {},
   "cell_type": "markdown",
   "source": "##### Transposition with NumPy",
   "id": "49acbcd1f581efd0"
  },
  {
   "metadata": {
    "ExecuteTime": {
     "end_time": "2025-04-18T11:02:49.595721Z",
     "start_time": "2025-04-18T11:02:49.591222Z"
    }
   },
   "cell_type": "code",
   "source": "X.T",
   "id": "dac8ea1d798748d8",
   "outputs": [
    {
     "data": {
      "text/plain": [
       "array([[25,  5,  3],\n",
       "       [ 2, 26,  7]])"
      ]
     },
     "execution_count": 48,
     "metadata": {},
     "output_type": "execute_result"
    }
   ],
   "execution_count": 48
  },
  {
   "metadata": {},
   "cell_type": "markdown",
   "source": "##### Transposition with TensorFlow",
   "id": "c696ab9f5c9f462a"
  },
  {
   "metadata": {
    "ExecuteTime": {
     "end_time": "2025-04-18T11:02:49.661722Z",
     "start_time": "2025-04-18T11:02:49.657221Z"
    }
   },
   "cell_type": "code",
   "source": "tf.transpose(X_tf)",
   "id": "22b3b4b3c317d588",
   "outputs": [
    {
     "data": {
      "text/plain": [
       "<tf.Tensor: shape=(2, 3), dtype=int32, numpy=\n",
       "array([[25,  5,  3],\n",
       "       [ 2, 26,  7]])>"
      ]
     },
     "execution_count": 49,
     "metadata": {},
     "output_type": "execute_result"
    }
   ],
   "execution_count": 49
  },
  {
   "metadata": {},
   "cell_type": "markdown",
   "source": "### Transposition with PyTorch",
   "id": "58fe55380bcb36f7"
  },
  {
   "metadata": {
    "ExecuteTime": {
     "end_time": "2025-04-18T11:02:49.770221Z",
     "start_time": "2025-04-18T11:02:49.765221Z"
    }
   },
   "cell_type": "code",
   "source": "X_pt.T",
   "id": "98270d2f8ebaa475",
   "outputs": [
    {
     "data": {
      "text/plain": [
       "tensor([[25,  5,  3],\n",
       "        [ 2, 26,  7]])"
      ]
     },
     "execution_count": 50,
     "metadata": {},
     "output_type": "execute_result"
    }
   ],
   "execution_count": 50
  },
  {
   "metadata": {},
   "cell_type": "markdown",
   "source": "## Basic Tensor Arithmetic",
   "id": "593643bab09c4275"
  },
  {
   "metadata": {},
   "cell_type": "markdown",
   "source": "Adding or multiplying with scalar applies the operation to each element of the tensor and the tensor shape is retained:",
   "id": "d0e4eff569114cc0"
  },
  {
   "metadata": {
    "ExecuteTime": {
     "end_time": "2025-04-18T11:02:49.865222Z",
     "start_time": "2025-04-18T11:02:49.860723Z"
    }
   },
   "cell_type": "code",
   "source": "X * 2",
   "id": "f902e735a0d526bd",
   "outputs": [
    {
     "data": {
      "text/plain": [
       "array([[50,  4],\n",
       "       [10, 52],\n",
       "       [ 6, 14]])"
      ]
     },
     "execution_count": 51,
     "metadata": {},
     "output_type": "execute_result"
    }
   ],
   "execution_count": 51
  },
  {
   "metadata": {
    "ExecuteTime": {
     "end_time": "2025-04-18T11:02:49.978723Z",
     "start_time": "2025-04-18T11:02:49.974221Z"
    }
   },
   "cell_type": "code",
   "source": "X + 2",
   "id": "d45692057dc3c6b7",
   "outputs": [
    {
     "data": {
      "text/plain": [
       "array([[27,  4],\n",
       "       [ 7, 28],\n",
       "       [ 5,  9]])"
      ]
     },
     "execution_count": 52,
     "metadata": {},
     "output_type": "execute_result"
    }
   ],
   "execution_count": 52
  },
  {
   "metadata": {
    "ExecuteTime": {
     "end_time": "2025-04-18T11:02:50.107222Z",
     "start_time": "2025-04-18T11:02:50.101222Z"
    }
   },
   "cell_type": "code",
   "source": "X*2+2",
   "id": "4c19be19ad7b1044",
   "outputs": [
    {
     "data": {
      "text/plain": [
       "array([[52,  6],\n",
       "       [12, 54],\n",
       "       [ 8, 16]])"
      ]
     },
     "execution_count": 53,
     "metadata": {},
     "output_type": "execute_result"
    }
   ],
   "execution_count": 53
  },
  {
   "metadata": {},
   "cell_type": "markdown",
   "source": "With TensorFlow and PyTorch, there's the risk of operator overloading: operator overloading is when the same operator (e.g. `*`, `+`) has different meanings depending on the context. For example, in TensorFlow, `*` is element-wise multiplication, while in PyTorch, it can be matrix multiplication. To avoid confusion, it's better to use the explicit functions provided by the libraries:",
   "id": "173a84a2b21896a9"
  },
  {
   "metadata": {
    "ExecuteTime": {
     "end_time": "2025-04-18T11:02:50.235722Z",
     "start_time": "2025-04-18T11:02:50.231221Z"
    }
   },
   "cell_type": "code",
   "source": "torch.add(torch.mul(X_pt, 2), 2)",
   "id": "34d19f72a35884d0",
   "outputs": [
    {
     "data": {
      "text/plain": [
       "tensor([[52,  6],\n",
       "        [12, 54],\n",
       "        [ 8, 16]])"
      ]
     },
     "execution_count": 54,
     "metadata": {},
     "output_type": "execute_result"
    }
   ],
   "execution_count": 54
  },
  {
   "metadata": {
    "ExecuteTime": {
     "end_time": "2025-04-18T11:02:50.341221Z",
     "start_time": "2025-04-18T11:02:50.335222Z"
    }
   },
   "cell_type": "code",
   "source": "tf.add(tf.multiply(X_tf, 2), 2)",
   "id": "34199c597f50eece",
   "outputs": [
    {
     "data": {
      "text/plain": [
       "<tf.Tensor: shape=(3, 2), dtype=int32, numpy=\n",
       "array([[52,  6],\n",
       "       [12, 54],\n",
       "       [ 8, 16]])>"
      ]
     },
     "execution_count": 55,
     "metadata": {},
     "output_type": "execute_result"
    }
   ],
   "execution_count": 55
  },
  {
   "metadata": {},
   "cell_type": "markdown",
   "source": "#### Hadamard Product (or Element-wise Product)",
   "id": "d62e1809c72746e6"
  },
  {
   "metadata": {},
   "cell_type": "markdown",
   "source": "If two tensors have the same size, operations are often applied element-wise. This is called the **Hadamard product**. The Hadamard product of two tensors $\\boldsymbol{A}$ and $\\boldsymbol{X}$ is denoted as $\\boldsymbol{A} \\odot \\boldsymbol{X}$.",
   "id": "9594290838db2f08"
  },
  {
   "metadata": {
    "ExecuteTime": {
     "end_time": "2025-04-18T11:02:50.448722Z",
     "start_time": "2025-04-18T11:02:50.444220Z"
    }
   },
   "cell_type": "code",
   "source": "X",
   "id": "5edc3d032aa20a3a",
   "outputs": [
    {
     "data": {
      "text/plain": [
       "array([[25,  2],\n",
       "       [ 5, 26],\n",
       "       [ 3,  7]])"
      ]
     },
     "execution_count": 56,
     "metadata": {},
     "output_type": "execute_result"
    }
   ],
   "execution_count": 56
  },
  {
   "metadata": {
    "ExecuteTime": {
     "end_time": "2025-04-18T11:02:50.555721Z",
     "start_time": "2025-04-18T11:02:50.550222Z"
    }
   },
   "cell_type": "code",
   "source": [
    "A = X + 2\n",
    "A"
   ],
   "id": "a0bbc4adac49ed39",
   "outputs": [
    {
     "data": {
      "text/plain": [
       "array([[27,  4],\n",
       "       [ 7, 28],\n",
       "       [ 5,  9]])"
      ]
     },
     "execution_count": 57,
     "metadata": {},
     "output_type": "execute_result"
    }
   ],
   "execution_count": 57
  },
  {
   "metadata": {
    "ExecuteTime": {
     "end_time": "2025-04-18T11:02:50.836221Z",
     "start_time": "2025-04-18T11:02:50.831221Z"
    }
   },
   "cell_type": "code",
   "source": "A + X",
   "id": "c42cd8a993634e36",
   "outputs": [
    {
     "data": {
      "text/plain": [
       "array([[52,  6],\n",
       "       [12, 54],\n",
       "       [ 8, 16]])"
      ]
     },
     "execution_count": 58,
     "metadata": {},
     "output_type": "execute_result"
    }
   ],
   "execution_count": 58
  },
  {
   "metadata": {
    "ExecuteTime": {
     "end_time": "2025-04-18T11:02:50.959223Z",
     "start_time": "2025-04-18T11:02:50.953722Z"
    }
   },
   "cell_type": "code",
   "source": [
    "# the Hadamard product in NumPy\n",
    "A * X"
   ],
   "id": "11e193bcd38874f6",
   "outputs": [
    {
     "data": {
      "text/plain": [
       "array([[675,   8],\n",
       "       [ 35, 728],\n",
       "       [ 15,  63]])"
      ]
     },
     "execution_count": 59,
     "metadata": {},
     "output_type": "execute_result"
    }
   ],
   "execution_count": 59
  },
  {
   "metadata": {
    "ExecuteTime": {
     "end_time": "2025-04-18T11:02:51.076720Z",
     "start_time": "2025-04-18T11:02:51.072720Z"
    }
   },
   "cell_type": "code",
   "source": "A_pt = X_pt + 2",
   "id": "6084dd9d7162d7c6",
   "outputs": [],
   "execution_count": 60
  },
  {
   "metadata": {
    "ExecuteTime": {
     "end_time": "2025-04-18T11:02:51.151221Z",
     "start_time": "2025-04-18T11:02:51.145722Z"
    }
   },
   "cell_type": "code",
   "source": "A_pt + X_pt",
   "id": "5a28836459b18906",
   "outputs": [
    {
     "data": {
      "text/plain": [
       "tensor([[52,  6],\n",
       "        [12, 54],\n",
       "        [ 8, 16]])"
      ]
     },
     "execution_count": 61,
     "metadata": {},
     "output_type": "execute_result"
    }
   ],
   "execution_count": 61
  },
  {
   "metadata": {
    "ExecuteTime": {
     "end_time": "2025-04-18T11:02:51.253220Z",
     "start_time": "2025-04-18T11:02:51.247721Z"
    }
   },
   "cell_type": "code",
   "source": [
    "# the Hadamard product in PyTorch\n",
    "A_pt * X_pt"
   ],
   "id": "3440deb9e4163d4",
   "outputs": [
    {
     "data": {
      "text/plain": [
       "tensor([[675,   8],\n",
       "        [ 35, 728],\n",
       "        [ 15,  63]])"
      ]
     },
     "execution_count": 62,
     "metadata": {},
     "output_type": "execute_result"
    }
   ],
   "execution_count": 62
  },
  {
   "metadata": {
    "ExecuteTime": {
     "end_time": "2025-04-18T11:02:51.364221Z",
     "start_time": "2025-04-18T11:02:51.360222Z"
    }
   },
   "cell_type": "code",
   "source": "A_tf = X_tf + 2",
   "id": "d01c08da18a9a00d",
   "outputs": [],
   "execution_count": 63
  },
  {
   "metadata": {
    "ExecuteTime": {
     "end_time": "2025-04-18T11:02:51.437721Z",
     "start_time": "2025-04-18T11:02:51.432721Z"
    }
   },
   "cell_type": "code",
   "source": "A_tf + X_tf",
   "id": "74684887a0ad5322",
   "outputs": [
    {
     "data": {
      "text/plain": [
       "<tf.Tensor: shape=(3, 2), dtype=int32, numpy=\n",
       "array([[52,  6],\n",
       "       [12, 54],\n",
       "       [ 8, 16]])>"
      ]
     },
     "execution_count": 64,
     "metadata": {},
     "output_type": "execute_result"
    }
   ],
   "execution_count": 64
  },
  {
   "metadata": {
    "ExecuteTime": {
     "end_time": "2025-04-18T11:02:51.559221Z",
     "start_time": "2025-04-18T11:02:51.554222Z"
    }
   },
   "cell_type": "code",
   "source": [
    "# the Hadamard product in TensorFlow\n",
    "A_tf * X_tf"
   ],
   "id": "c81b43c8cb0057bd",
   "outputs": [
    {
     "data": {
      "text/plain": [
       "<tf.Tensor: shape=(3, 2), dtype=int32, numpy=\n",
       "array([[675,   8],\n",
       "       [ 35, 728],\n",
       "       [ 15,  63]])>"
      ]
     },
     "execution_count": 65,
     "metadata": {},
     "output_type": "execute_result"
    }
   ],
   "execution_count": 65
  },
  {
   "metadata": {},
   "cell_type": "markdown",
   "source": "### Tensor Reduction",
   "id": "fee8f9bce4ad30b8"
  },
  {
   "metadata": {},
   "cell_type": "markdown",
   "source": [
    "Calculating the sum across all elements of a tensor is a common operation. For example:\n",
    "\n",
    "- For vector $\\boldsymbol{x}$ of length $n$, we calculate $\\sum_{i=1}^{n} x_i$\n",
    "- For matrix $\\boldsymbol{X}$ with $m$ by $n$ dimensions, we calculate $\\sum_{i=1}^{m} \\sum_{j=1}^{n} X_{i,j}$\n"
   ],
   "id": "716854bf5da8cac0"
  },
  {
   "metadata": {
    "ExecuteTime": {
     "end_time": "2025-04-18T11:02:51.678223Z",
     "start_time": "2025-04-18T11:02:51.673222Z"
    }
   },
   "cell_type": "code",
   "source": "X",
   "id": "1e73d9a67306a5cd",
   "outputs": [
    {
     "data": {
      "text/plain": [
       "array([[25,  2],\n",
       "       [ 5, 26],\n",
       "       [ 3,  7]])"
      ]
     },
     "execution_count": 66,
     "metadata": {},
     "output_type": "execute_result"
    }
   ],
   "execution_count": 66
  },
  {
   "metadata": {
    "ExecuteTime": {
     "end_time": "2025-04-18T11:02:51.791282Z",
     "start_time": "2025-04-18T11:02:51.786222Z"
    }
   },
   "cell_type": "code",
   "source": "X.sum()",
   "id": "4208954ba8542e70",
   "outputs": [
    {
     "data": {
      "text/plain": [
       "68"
      ]
     },
     "execution_count": 67,
     "metadata": {},
     "output_type": "execute_result"
    }
   ],
   "execution_count": 67
  },
  {
   "metadata": {
    "ExecuteTime": {
     "end_time": "2025-04-18T11:02:51.866223Z",
     "start_time": "2025-04-18T11:02:51.861723Z"
    }
   },
   "cell_type": "code",
   "source": "torch.sum(X_pt)",
   "id": "5c0a3976dd3af52d",
   "outputs": [
    {
     "data": {
      "text/plain": [
       "tensor(68)"
      ]
     },
     "execution_count": 68,
     "metadata": {},
     "output_type": "execute_result"
    }
   ],
   "execution_count": 68
  },
  {
   "metadata": {
    "ExecuteTime": {
     "end_time": "2025-04-18T11:02:51.895724Z",
     "start_time": "2025-04-18T11:02:51.891224Z"
    }
   },
   "cell_type": "code",
   "source": "tf.reduce_sum(X_tf)",
   "id": "bcdaff79ed74e93b",
   "outputs": [
    {
     "data": {
      "text/plain": [
       "<tf.Tensor: shape=(), dtype=int32, numpy=68>"
      ]
     },
     "execution_count": 69,
     "metadata": {},
     "output_type": "execute_result"
    }
   ],
   "execution_count": 69
  },
  {
   "metadata": {},
   "cell_type": "markdown",
   "source": "It can also be done along a specific axis.",
   "id": "d0b696fc25fe0ee4"
  },
  {
   "metadata": {
    "ExecuteTime": {
     "end_time": "2025-04-18T11:02:51.933724Z",
     "start_time": "2025-04-18T11:02:51.929222Z"
    }
   },
   "cell_type": "code",
   "source": "X.sum(0)",
   "id": "d92eaf1afa77e509",
   "outputs": [
    {
     "data": {
      "text/plain": [
       "array([33, 35])"
      ]
     },
     "execution_count": 70,
     "metadata": {},
     "output_type": "execute_result"
    }
   ],
   "execution_count": 70
  },
  {
   "metadata": {
    "ExecuteTime": {
     "end_time": "2025-04-18T11:02:51.964723Z",
     "start_time": "2025-04-18T11:02:51.960224Z"
    }
   },
   "cell_type": "code",
   "source": "X.sum(1)",
   "id": "a26c7c8f6bb2c76e",
   "outputs": [
    {
     "data": {
      "text/plain": [
       "array([27, 31, 10])"
      ]
     },
     "execution_count": 71,
     "metadata": {},
     "output_type": "execute_result"
    }
   ],
   "execution_count": 71
  },
  {
   "metadata": {
    "ExecuteTime": {
     "end_time": "2025-04-18T11:02:51.999221Z",
     "start_time": "2025-04-18T11:02:51.993721Z"
    }
   },
   "cell_type": "code",
   "source": "torch.sum(X_pt, 0)",
   "id": "567126a9f3a43190",
   "outputs": [
    {
     "data": {
      "text/plain": [
       "tensor([33, 35])"
      ]
     },
     "execution_count": 72,
     "metadata": {},
     "output_type": "execute_result"
    }
   ],
   "execution_count": 72
  },
  {
   "metadata": {
    "ExecuteTime": {
     "end_time": "2025-04-18T11:02:52.038722Z",
     "start_time": "2025-04-18T11:02:52.033222Z"
    }
   },
   "cell_type": "code",
   "source": "tf.reduce_sum(X_tf, 1)",
   "id": "8007211fd8fd5b3c",
   "outputs": [
    {
     "data": {
      "text/plain": [
       "<tf.Tensor: shape=(3,), dtype=int32, numpy=array([27, 31, 10])>"
      ]
     },
     "execution_count": 73,
     "metadata": {},
     "output_type": "execute_result"
    }
   ],
   "execution_count": 73
  },
  {
   "metadata": {},
   "cell_type": "markdown",
   "source": [
    "Other operations that can be applied with reduction along all or a selection of axses include:\n",
    "\n",
    "- maximum\n",
    "- minimum\n",
    "- mean\n",
    "- product"
   ],
   "id": "cabf8a106e82dcba"
  },
  {
   "metadata": {},
   "cell_type": "markdown",
   "source": "## The Dot Product",
   "id": "830db2f3b364daa2"
  },
  {
   "metadata": {},
   "cell_type": "markdown",
   "source": [
    "If we have two vectors $\\boldsymbol{x}$ and $\\boldsymbol{y}$ of the same length $n$, we can calculate the dot product between them.\n",
    "\n",
    "The dot product is annotated in different ways:\n",
    "\n",
    "- $\\boldsymbol{x} \\cdot \\boldsymbol{y}$\n",
    "- $\\boldsymbol{x}^T \\boldsymbol{y}$\n",
    "- $\\langle \\boldsymbol{x} , \\boldsymbol{y}\\rangle$\n",
    "\n",
    "Regardless of the notation, the dot product is calculated as follows: first, the products are calculated in an element-wise fashion, and then the results are summed reductively across the products to a scalar value/\n",
    "\n",
    "$$\\boldsymbol{x} \\cdot \\boldsymbol{y} = \\sum_{i=1}^{s} x_i y_i$$"
   ],
   "id": "ad5b3163eae39f1c"
  },
  {
   "metadata": {
    "ExecuteTime": {
     "end_time": "2025-04-18T11:02:52.082721Z",
     "start_time": "2025-04-18T11:02:52.077223Z"
    }
   },
   "cell_type": "code",
   "source": [
    "x = np.array([25, 2, 5])\n",
    "x_pt = torch.tensor([25, 2, 5])\n",
    "x_tf = tf.Variable([25, 2, 5])\n",
    "y = np.array([0, 1, 2])\n",
    "y_pt = torch.tensor([0, 1, 2])\n",
    "y_tf = tf.Variable([0, 1, 2])"
   ],
   "id": "3816f63b0078f28b",
   "outputs": [],
   "execution_count": 74
  },
  {
   "metadata": {
    "ExecuteTime": {
     "end_time": "2025-04-18T11:02:52.113723Z",
     "start_time": "2025-04-18T11:02:52.109221Z"
    }
   },
   "cell_type": "code",
   "source": "np.dot(x, y)",
   "id": "a6a66aa81526dec",
   "outputs": [
    {
     "data": {
      "text/plain": [
       "12"
      ]
     },
     "execution_count": 75,
     "metadata": {},
     "output_type": "execute_result"
    }
   ],
   "execution_count": 75
  },
  {
   "metadata": {
    "ExecuteTime": {
     "end_time": "2025-04-18T11:02:52.139722Z",
     "start_time": "2025-04-18T11:02:52.134722Z"
    }
   },
   "cell_type": "code",
   "source": "np.dot(x_pt, y_pt)",
   "id": "8a364a8acaead353",
   "outputs": [
    {
     "data": {
      "text/plain": [
       "12"
      ]
     },
     "execution_count": 76,
     "metadata": {},
     "output_type": "execute_result"
    }
   ],
   "execution_count": 76
  },
  {
   "metadata": {
    "ExecuteTime": {
     "end_time": "2025-04-18T11:02:52.160724Z",
     "start_time": "2025-04-18T11:02:52.155222Z"
    }
   },
   "cell_type": "code",
   "source": "torch.dot(x_pt, y_pt)",
   "id": "d35d2e9c50d9049f",
   "outputs": [
    {
     "data": {
      "text/plain": [
       "tensor(12)"
      ]
     },
     "execution_count": 77,
     "metadata": {},
     "output_type": "execute_result"
    }
   ],
   "execution_count": 77
  },
  {
   "metadata": {
    "ExecuteTime": {
     "end_time": "2025-04-18T11:02:52.182721Z",
     "start_time": "2025-04-18T11:02:52.177222Z"
    }
   },
   "cell_type": "code",
   "source": "tf.reduce_sum(tf.multiply(x_tf, y_tf))",
   "id": "7d26e46925461e22",
   "outputs": [
    {
     "data": {
      "text/plain": [
       "<tf.Tensor: shape=(), dtype=int32, numpy=12>"
      ]
     },
     "execution_count": 78,
     "metadata": {},
     "output_type": "execute_result"
    }
   ],
   "execution_count": 78
  },
  {
   "metadata": {
    "ExecuteTime": {
     "end_time": "2025-04-18T11:02:52.204223Z",
     "start_time": "2025-04-18T11:02:52.198720Z"
    }
   },
   "cell_type": "code",
   "source": [
    "A = np.array([[1,2,3],[4,5,6]])\n",
    "B = np.array([[7,8],[9,10],[11,12]])\n",
    "np.dot(A, B)"
   ],
   "id": "e86aa5257a3d7138",
   "outputs": [
    {
     "data": {
      "text/plain": [
       "array([[ 58,  64],\n",
       "       [139, 154]])"
      ]
     },
     "execution_count": 79,
     "metadata": {},
     "output_type": "execute_result"
    }
   ],
   "execution_count": 79
  },
  {
   "metadata": {},
   "cell_type": "markdown",
   "source": "## Exercises",
   "id": "96907edaa058b01"
  },
  {
   "metadata": {},
   "cell_type": "markdown",
   "source": [
    "1. What is $\\boldsymbol{Y}^T$ for the following matrix:\n",
    "\n",
    "$$\\boldsymbol{Y} = \\begin{bmatrix} 42 & 4 & 7 & 99 \\\\ -99 & -3 & 17 & 22 \\end{bmatrix}$$"
   ],
   "id": "bc24ae61d4f57ed3"
  },
  {
   "metadata": {
    "ExecuteTime": {
     "end_time": "2025-04-18T11:02:52.271221Z",
     "start_time": "2025-04-18T11:02:52.264721Z"
    }
   },
   "cell_type": "code",
   "source": [
    "y = np.array([[42, 4, 7, 99],[-99, -3, 17, 22]])\n",
    "y"
   ],
   "id": "7b0725e81c815ffe",
   "outputs": [
    {
     "data": {
      "text/plain": [
       "array([[ 42,   4,   7,  99],\n",
       "       [-99,  -3,  17,  22]])"
      ]
     },
     "execution_count": 80,
     "metadata": {},
     "output_type": "execute_result"
    }
   ],
   "execution_count": 80
  },
  {
   "metadata": {
    "ExecuteTime": {
     "end_time": "2025-04-18T11:02:52.378723Z",
     "start_time": "2025-04-18T11:02:52.374723Z"
    }
   },
   "cell_type": "code",
   "source": "y.T",
   "id": "46458dd5a8367797",
   "outputs": [
    {
     "data": {
      "text/plain": [
       "array([[ 42, -99],\n",
       "       [  4,  -3],\n",
       "       [  7,  17],\n",
       "       [ 99,  22]])"
      ]
     },
     "execution_count": 81,
     "metadata": {},
     "output_type": "execute_result"
    }
   ],
   "execution_count": 81
  },
  {
   "metadata": {},
   "cell_type": "markdown",
   "source": [
    "2. What is the Hadamard product of the following matrices:\n",
    "\n",
    "$$\\begin{bmatrix} 25 & 10 \\\\ -2 & 1 \\end{bmatrix} \\odot \\begin{bmatrix} -1 & 7 \\\\ 10 & 8 \\end{bmatrix}$$"
   ],
   "id": "254e3a7ab7cd712b"
  },
  {
   "metadata": {
    "ExecuteTime": {
     "end_time": "2025-04-18T11:02:52.493721Z",
     "start_time": "2025-04-18T11:02:52.488221Z"
    }
   },
   "cell_type": "code",
   "source": [
    "A = np.array([[25,10],[-2,1]])\n",
    "B = np.array([[-1,7],[10,8]])\n",
    "A * B"
   ],
   "id": "81e11854ac4ba788",
   "outputs": [
    {
     "data": {
      "text/plain": [
       "array([[-25,  70],\n",
       "       [-20,   8]])"
      ]
     },
     "execution_count": 82,
     "metadata": {},
     "output_type": "execute_result"
    }
   ],
   "execution_count": 82
  },
  {
   "metadata": {},
   "cell_type": "markdown",
   "source": [
    "3. What is the dot product of the following vectors:\n",
    "\n",
    "$$\\boldsymbol{w} = [-1 \\quad 2 \\quad -2]$$\n",
    "$$\\boldsymbol{z} = [5 \\quad 10 \\quad 0]$$"
   ],
   "id": "a26131f343f29779"
  },
  {
   "metadata": {
    "ExecuteTime": {
     "end_time": "2025-04-18T11:02:52.606720Z",
     "start_time": "2025-04-18T11:02:52.601722Z"
    }
   },
   "cell_type": "code",
   "source": [
    "w = np.array([-1, 2, -2])\n",
    "z = np.array([5, 10, 0])\n",
    "np.dot(w, z)"
   ],
   "id": "e7fc6b1003fd3cfa",
   "outputs": [
    {
     "data": {
      "text/plain": [
       "15"
      ]
     },
     "execution_count": 83,
     "metadata": {},
     "output_type": "execute_result"
    }
   ],
   "execution_count": 83
  },
  {
   "metadata": {},
   "cell_type": "markdown",
   "source": "## Tensor Manipulation",
   "id": "9863bc3fa4971f40"
  },
  {
   "metadata": {},
   "cell_type": "markdown",
   "source": "### Tensor Aggregation",
   "id": "b3d4d23563da71ff"
  },
  {
   "metadata": {},
   "cell_type": "markdown",
   "source": [
    "Finding the maximum, minimum, mean, and sum of a tensor is a common operation. It is often used to summarize the data in a tensor, and it can be done along all or a selection of axes.\n",
    "\n",
    "It's called aggregation because it combines the values in a tensor into a single value or a smaller tensor. For example, if we have a tensor with 100 elements, we can aggregate it to a single value by calculating the sum or mean of all the elements."
   ],
   "id": "b42489f5d5dd59d8"
  },
  {
   "metadata": {
    "ExecuteTime": {
     "end_time": "2025-04-18T11:13:46.946800Z",
     "start_time": "2025-04-18T11:13:46.941801Z"
    }
   },
   "cell_type": "code",
   "source": [
    "X = torch.arange(0, 100, 10)\n",
    "X"
   ],
   "id": "5ca0c72d8fc3ba6e",
   "outputs": [
    {
     "data": {
      "text/plain": [
       "tensor([ 0, 10, 20, 30, 40, 50, 60, 70, 80, 90])"
      ]
     },
     "execution_count": 99,
     "metadata": {},
     "output_type": "execute_result"
    }
   ],
   "execution_count": 99
  },
  {
   "metadata": {
    "ExecuteTime": {
     "end_time": "2025-04-18T11:13:47.105801Z",
     "start_time": "2025-04-18T11:13:47.099799Z"
    }
   },
   "cell_type": "code",
   "source": "torch.max(X), torch.min(X), torch.mean(X.type(torch.float32)), torch.sum(X)",
   "id": "157b372069029d0b",
   "outputs": [
    {
     "data": {
      "text/plain": [
       "(tensor(90), tensor(0), tensor(45.), tensor(450))"
      ]
     },
     "execution_count": 100,
     "metadata": {},
     "output_type": "execute_result"
    }
   ],
   "execution_count": 100
  },
  {
   "metadata": {},
   "cell_type": "markdown",
   "source": "The *positional* maximum and of a tensor is helpful in case we want to find the position of a specific value, but not the value itself.",
   "id": "88106bac8e88e4c9"
  },
  {
   "metadata": {
    "ExecuteTime": {
     "end_time": "2025-04-18T11:13:47.427443Z",
     "start_time": "2025-04-18T11:13:47.422942Z"
    }
   },
   "cell_type": "code",
   "source": [
    "# Create a tensor\n",
    "tensor = torch.arange(10, 100, 10)\n",
    "print(f\"Tensor: {tensor}\")\n",
    "\n",
    "# Returns index of max and min values\n",
    "print(f\"Index where max value occurs: {tensor.argmax()}\")\n",
    "print(f\"Index where min value occurs: {tensor.argmin()}\")"
   ],
   "id": "849cdfab9e076fcf",
   "outputs": [
    {
     "name": "stdout",
     "output_type": "stream",
     "text": [
      "Tensor: tensor([10, 20, 30, 40, 50, 60, 70, 80, 90])\n",
      "Index where max value occurs: 8\n",
      "Index where min value occurs: 0\n"
     ]
    }
   ],
   "execution_count": 101
  },
  {
   "metadata": {},
   "cell_type": "markdown",
   "source": "### Reshaping",
   "id": "56a4515c380bcee4"
  },
  {
   "metadata": {},
   "cell_type": "markdown",
   "source": "Reshaping changes the shape of a tensor:",
   "id": "394dfd650df07fa6"
  },
  {
   "metadata": {
    "ExecuteTime": {
     "end_time": "2025-04-18T11:13:47.891467Z",
     "start_time": "2025-04-18T11:13:47.885966Z"
    }
   },
   "cell_type": "code",
   "source": [
    "S = torch.arange(1., 8.)\n",
    "S, S.shape"
   ],
   "id": "ed76c27d51b6b1ee",
   "outputs": [
    {
     "data": {
      "text/plain": [
       "(tensor([1., 2., 3., 4., 5., 6., 7.]), torch.Size([7]))"
      ]
     },
     "execution_count": 102,
     "metadata": {},
     "output_type": "execute_result"
    }
   ],
   "execution_count": 102
  },
  {
   "metadata": {},
   "cell_type": "markdown",
   "source": "Let's add a new dimension to the tensor:",
   "id": "4ded762b714267ca"
  },
  {
   "metadata": {
    "ExecuteTime": {
     "end_time": "2025-04-18T11:07:44.036451Z",
     "start_time": "2025-04-18T11:07:44.030953Z"
    }
   },
   "cell_type": "code",
   "source": [
    "R = S.reshape(1, 7)\n",
    "R, R.shape"
   ],
   "id": "22ed88e463e752de",
   "outputs": [
    {
     "data": {
      "text/plain": [
       "(tensor([[1., 2., 3., 4., 5., 6., 7.]]), torch.Size([1, 7]))"
      ]
     },
     "execution_count": 93,
     "metadata": {},
     "output_type": "execute_result"
    }
   ],
   "execution_count": 93
  },
  {
   "metadata": {},
   "cell_type": "markdown",
   "source": "### View",
   "id": "c6ded2b64069d79d"
  },
  {
   "metadata": {},
   "cell_type": "markdown",
   "source": "Returns a view of the original tensor with a different shape, but shares the same data as the original tensor.",
   "id": "70f7cc7fe5ed1149"
  },
  {
   "metadata": {
    "ExecuteTime": {
     "end_time": "2025-04-18T11:03:44.885366Z",
     "start_time": "2025-04-18T11:03:44.879367Z"
    }
   },
   "cell_type": "code",
   "source": [
    "V = S.view(1, 7)\n",
    "V, V.shape"
   ],
   "id": "d8dabb3e27282e3b",
   "outputs": [
    {
     "data": {
      "text/plain": [
       "(tensor([[1., 2., 3., 4., 5., 6., 7.]]), torch.Size([1, 7]))"
      ]
     },
     "execution_count": 89,
     "metadata": {},
     "output_type": "execute_result"
    }
   ],
   "execution_count": 89
  },
  {
   "metadata": {},
   "cell_type": "markdown",
   "source": "Changing the view, though, also changes the original tensor's shape:",
   "id": "c83fe2d7fb8df4ba"
  },
  {
   "metadata": {
    "ExecuteTime": {
     "end_time": "2025-04-18T11:05:16.775722Z",
     "start_time": "2025-04-18T11:05:16.770722Z"
    }
   },
   "cell_type": "code",
   "source": [
    "V[:, 0] = 5\n",
    "print(f\"Original tensor: {S}\")\n",
    "print(f\"View of the tensor: {V}\")"
   ],
   "id": "6fcaa46af66ea229",
   "outputs": [
    {
     "name": "stdout",
     "output_type": "stream",
     "text": [
      "Original tensor: tensor([5., 2., 3., 4., 5., 6., 7.])\n",
      "View of the tensor: tensor([[5., 2., 3., 4., 5., 6., 7.]])\n"
     ]
    }
   ],
   "execution_count": 90
  },
  {
   "metadata": {},
   "cell_type": "markdown",
   "source": "### Stacking",
   "id": "e45f22b361ff910e"
  },
  {
   "metadata": {},
   "cell_type": "markdown",
   "source": "With stacking, we can combine multiple tensors into a single tensor.",
   "id": "709a4dec7bb74424"
  },
  {
   "metadata": {
    "ExecuteTime": {
     "end_time": "2025-04-18T11:06:34.144521Z",
     "start_time": "2025-04-18T11:06:34.138021Z"
    }
   },
   "cell_type": "code",
   "source": [
    "T = torch.stack([S, S, S, S], dim=0)\n",
    "T, T.shape"
   ],
   "id": "aade10eaa53d487c",
   "outputs": [
    {
     "data": {
      "text/plain": [
       "(tensor([[5., 2., 3., 4., 5., 6., 7.],\n",
       "         [5., 2., 3., 4., 5., 6., 7.],\n",
       "         [5., 2., 3., 4., 5., 6., 7.],\n",
       "         [5., 2., 3., 4., 5., 6., 7.]]),\n",
       " torch.Size([4, 7]))"
      ]
     },
     "execution_count": 91,
     "metadata": {},
     "output_type": "execute_result"
    }
   ],
   "execution_count": 91
  },
  {
   "metadata": {},
   "cell_type": "markdown",
   "source": "### Squeezing and Unsqueezing",
   "id": "97d040e6ca31b4df"
  },
  {
   "metadata": {},
   "cell_type": "markdown",
   "source": "Squeezing removes dimensions of size 1 from a tensor.",
   "id": "6780353356895f45"
  },
  {
   "metadata": {
    "ExecuteTime": {
     "end_time": "2025-04-18T11:08:46.320057Z",
     "start_time": "2025-04-18T11:08:46.314055Z"
    }
   },
   "cell_type": "code",
   "source": [
    "Q = R.squeeze()\n",
    "print(f\"Original tensor: {R}\")\n",
    "print(f\"Squeezed tensor: {Q}\")\n",
    "print(f\"Shape of original tensor: {R.shape}\")\n",
    "print(f\"Shape of squeezed tensor: {Q.shape}\")"
   ],
   "id": "435d54542bb15ccd",
   "outputs": [
    {
     "name": "stdout",
     "output_type": "stream",
     "text": [
      "Original tensor: tensor([[1., 2., 3., 4., 5., 6., 7.]])\n",
      "Squeezed tensor: tensor([1., 2., 3., 4., 5., 6., 7.])\n",
      "Shape of original tensor: torch.Size([1, 7])\n",
      "Shape of squeezed tensor: torch.Size([7])\n"
     ]
    }
   ],
   "execution_count": 95
  },
  {
   "metadata": {},
   "cell_type": "markdown",
   "source": "The `unsqueeze()` method adds a dimension of size 1 to a tensor.",
   "id": "65798efd286b4bdc"
  },
  {
   "metadata": {
    "ExecuteTime": {
     "end_time": "2025-04-18T11:09:53.617074Z",
     "start_time": "2025-04-18T11:09:53.610574Z"
    }
   },
   "cell_type": "code",
   "source": [
    "U = Q.unsqueeze(0)\n",
    "print(f\"Original tensor: {Q}\")\n",
    "print(f\"Unsqueezed tensor: {U}\")\n",
    "print(f\"Shape of original tensor: {Q.shape}\")\n",
    "print(f\"Shape of unsqueezed tensor: {U.shape}\")"
   ],
   "id": "2861ad83acaa641e",
   "outputs": [
    {
     "name": "stdout",
     "output_type": "stream",
     "text": [
      "Original tensor: tensor([1., 2., 3., 4., 5., 6., 7.])\n",
      "Unsqueezed tensor: tensor([[1., 2., 3., 4., 5., 6., 7.]])\n",
      "Shape of original tensor: torch.Size([7])\n",
      "Shape of unsqueezed tensor: torch.Size([1, 7])\n"
     ]
    }
   ],
   "execution_count": 96
  },
  {
   "metadata": {},
   "cell_type": "markdown",
   "source": "### Permutation",
   "id": "1dc2c8bf8db2aed9"
  },
  {
   "metadata": {},
   "cell_type": "markdown",
   "source": [
    "Using the `permute()` method, we can change the order of the dimensions of a tensor.\n",
    "\n",
    "This creates a view of the original tensor with a different shape."
   ],
   "id": "b2c409e3e820829"
  },
  {
   "metadata": {
    "ExecuteTime": {
     "end_time": "2025-04-18T11:11:36.008848Z",
     "start_time": "2025-04-18T11:11:36.003848Z"
    }
   },
   "cell_type": "code",
   "source": [
    "X = torch.rand(size=(224, 224, 3))\n",
    "P = X.permute(2, 0, 1)\n",
    "\n",
    "print(f\"Original tensor shape: {X.shape}\")\n",
    "print(f\"Permuted tensor shape: {P.shape}\")"
   ],
   "id": "634e705a56a0cb41",
   "outputs": [
    {
     "name": "stdout",
     "output_type": "stream",
     "text": [
      "Original tensor shape: torch.Size([224, 224, 3])\n",
      "Permuted tensor shape: torch.Size([3, 224, 224])\n"
     ]
    }
   ],
   "execution_count": 98
  }
 ],
 "metadata": {
  "kernelspec": {
   "display_name": "Python 3",
   "language": "python",
   "name": "python3"
  },
  "language_info": {
   "codemirror_mode": {
    "name": "ipython",
    "version": 2
   },
   "file_extension": ".py",
   "mimetype": "text/x-python",
   "name": "python",
   "nbconvert_exporter": "python",
   "pygments_lexer": "ipython2",
   "version": "2.7.6"
  }
 },
 "nbformat": 4,
 "nbformat_minor": 5
}
