{
 "cells": [
  {
   "metadata": {},
   "cell_type": "markdown",
   "source": "# Eigendecomposition II",
   "id": "2045dd699059022f"
  },
  {
   "metadata": {},
   "cell_type": "markdown",
   "source": [
    "The eigendecomposition of a matrix $\\boldsymbol{A}$, where:\n",
    "\n",
    "- $V$ is the concatenation of all the eigenvectors of $\\boldsymbol{A}$\n",
    "- $\\Lambda$ is a diagonal matrix $diag(\\lambda)$\n",
    "\n",
    "$$A = V \\Lambda V^{-1}$$\n",
    "\n",
    "The decomposition of a matrix into eigenvectors and eigenvalues reveals the underlying structure of the matrix."
   ],
   "id": "e6b5f985fb946097"
  },
  {
   "metadata": {
    "ExecuteTime": {
     "end_time": "2025-04-01T17:20:15.010150Z",
     "start_time": "2025-04-01T17:20:05.121499Z"
    }
   },
   "cell_type": "code",
   "source": [
    "import numpy as np\n",
    "import torch"
   ],
   "id": "2e8b3e8c2c30e99c",
   "outputs": [],
   "execution_count": 1
  },
  {
   "metadata": {
    "ExecuteTime": {
     "end_time": "2025-04-01T17:20:23.824319Z",
     "start_time": "2025-04-01T17:20:23.816821Z"
    }
   },
   "cell_type": "code",
   "source": [
    "A = np.array([[4, 2], [-5, -3]])\n",
    "A"
   ],
   "id": "fbe0b6c21c689d41",
   "outputs": [
    {
     "data": {
      "text/plain": [
       "array([[ 4,  2],\n",
       "       [-5, -3]])"
      ]
     },
     "execution_count": 2,
     "metadata": {},
     "output_type": "execute_result"
    }
   ],
   "execution_count": 2
  },
  {
   "metadata": {
    "ExecuteTime": {
     "end_time": "2025-04-01T17:20:30.806534Z",
     "start_time": "2025-04-01T17:20:30.801535Z"
    }
   },
   "cell_type": "code",
   "source": "lambdas, V = np.linalg.eig(A)",
   "id": "e1aaf3d9acbecba6",
   "outputs": [],
   "execution_count": 3
  },
  {
   "metadata": {
    "ExecuteTime": {
     "end_time": "2025-04-01T17:20:34.954437Z",
     "start_time": "2025-04-01T17:20:34.950437Z"
    }
   },
   "cell_type": "code",
   "source": "V",
   "id": "3bd71f0309b06f5",
   "outputs": [
    {
     "data": {
      "text/plain": [
       "array([[ 0.70710678, -0.37139068],\n",
       "       [-0.70710678,  0.92847669]])"
      ]
     },
     "execution_count": 4,
     "metadata": {},
     "output_type": "execute_result"
    }
   ],
   "execution_count": 4
  },
  {
   "metadata": {
    "ExecuteTime": {
     "end_time": "2025-04-01T17:20:42.704455Z",
     "start_time": "2025-04-01T17:20:42.695956Z"
    }
   },
   "cell_type": "code",
   "source": [
    "Vinv = np.linalg.inv(V)\n",
    "Vinv"
   ],
   "id": "125c622ce492b333",
   "outputs": [
    {
     "data": {
      "text/plain": [
       "array([[2.3570226 , 0.94280904],\n",
       "       [1.79505494, 1.79505494]])"
      ]
     },
     "execution_count": 5,
     "metadata": {},
     "output_type": "execute_result"
    }
   ],
   "execution_count": 5
  },
  {
   "metadata": {
    "ExecuteTime": {
     "end_time": "2025-04-01T17:20:51.326183Z",
     "start_time": "2025-04-01T17:20:51.321183Z"
    }
   },
   "cell_type": "code",
   "source": [
    "Lambda = np.diag(lambdas)\n",
    "Lambda"
   ],
   "id": "4070d7d05fccfec",
   "outputs": [
    {
     "data": {
      "text/plain": [
       "array([[ 2.,  0.],\n",
       "       [ 0., -1.]])"
      ]
     },
     "execution_count": 6,
     "metadata": {},
     "output_type": "execute_result"
    }
   ],
   "execution_count": 6
  },
  {
   "metadata": {
    "ExecuteTime": {
     "end_time": "2025-04-01T17:20:56.870685Z",
     "start_time": "2025-04-01T17:20:56.866185Z"
    }
   },
   "cell_type": "code",
   "source": "np.dot(V, np.dot(Lambda, Vinv))",
   "id": "5b406481c74d9c72",
   "outputs": [
    {
     "data": {
      "text/plain": [
       "array([[ 4.,  2.],\n",
       "       [-5., -3.]])"
      ]
     },
     "execution_count": 7,
     "metadata": {},
     "output_type": "execute_result"
    }
   ],
   "execution_count": 7
  },
  {
   "metadata": {},
   "cell_type": "markdown",
   "source": [
    "Eigendecomposition is not possible with all matrices. And in some cases where it is possible, the eigendecomposition involves complex numbers instead of straightforward real numbers.\n",
    "\n",
    "In machine learning, however, we are typically working with real symmetric matrices, which can be conveniently and efficiently decomposed into real-only eigenvectors and real-only eigenvalues. If\n",
    "$\\boldsymbol{A}$ is a real symmetric matrix then, where:\n",
    "\n",
    "- $\\boldsymbol{Q}$ is an orthogonal matrix of eigenvectors\n",
    "- $\\boldsymbol{Q}^T$ is the transpose of $Q$\n",
    "\n",
    "$A = Q \\Lambda Q^T$"
   ],
   "id": "c0699353ba53865f"
  },
  {
   "metadata": {
    "ExecuteTime": {
     "end_time": "2025-04-01T17:23:38.846790Z",
     "start_time": "2025-04-01T17:23:38.841790Z"
    }
   },
   "cell_type": "code",
   "source": [
    "A = np.array([[2, 1], [1, 2]])\n",
    "A"
   ],
   "id": "b6628ef9e7eeda62",
   "outputs": [
    {
     "data": {
      "text/plain": [
       "array([[2, 1],\n",
       "       [1, 2]])"
      ]
     },
     "execution_count": 8,
     "metadata": {},
     "output_type": "execute_result"
    }
   ],
   "execution_count": 8
  },
  {
   "metadata": {
    "ExecuteTime": {
     "end_time": "2025-04-01T17:23:49.300822Z",
     "start_time": "2025-04-01T17:23:49.295321Z"
    }
   },
   "cell_type": "code",
   "source": [
    "lambdas, Q = np.linalg.eig(A)\n",
    "lambdas"
   ],
   "id": "f4579afd71a9e075",
   "outputs": [
    {
     "data": {
      "text/plain": [
       "array([3., 1.])"
      ]
     },
     "execution_count": 10,
     "metadata": {},
     "output_type": "execute_result"
    }
   ],
   "execution_count": 10
  },
  {
   "metadata": {
    "ExecuteTime": {
     "end_time": "2025-04-01T17:23:56.286137Z",
     "start_time": "2025-04-01T17:23:56.280136Z"
    }
   },
   "cell_type": "code",
   "source": [
    "Lambda = np.diag(lambdas)\n",
    "Lambda"
   ],
   "id": "2a46eb938ab5b930",
   "outputs": [
    {
     "data": {
      "text/plain": [
       "array([[3., 0.],\n",
       "       [0., 1.]])"
      ]
     },
     "execution_count": 11,
     "metadata": {},
     "output_type": "execute_result"
    }
   ],
   "execution_count": 11
  },
  {
   "metadata": {
    "ExecuteTime": {
     "end_time": "2025-04-01T17:24:00.890409Z",
     "start_time": "2025-04-01T17:24:00.885410Z"
    }
   },
   "cell_type": "code",
   "source": "Q",
   "id": "73349fc0f42eb2a5",
   "outputs": [
    {
     "data": {
      "text/plain": [
       "array([[ 0.70710678, -0.70710678],\n",
       "       [ 0.70710678,  0.70710678]])"
      ]
     },
     "execution_count": 12,
     "metadata": {},
     "output_type": "execute_result"
    }
   ],
   "execution_count": 12
  },
  {
   "metadata": {},
   "cell_type": "markdown",
   "source": "We can quickly demonstrate that $\\boldsymbol{Q}$ is an orthogonal matrix because $\\boldsymbol{Q}^T \\boldsymbol{Q} = \\boldsymbol{Q}\\boldsymbol{Q}^T = \\boldsymbol{I}$, where $\\boldsymbol{I}$ is the identity matrix.",
   "id": "d30997fe549d8210"
  },
  {
   "metadata": {
    "ExecuteTime": {
     "end_time": "2025-04-01T17:25:52.255101Z",
     "start_time": "2025-04-01T17:25:52.250102Z"
    }
   },
   "cell_type": "code",
   "source": "np.dot(Q.T, Q)",
   "id": "977f5fb4b6435d3a",
   "outputs": [
    {
     "data": {
      "text/plain": [
       "array([[1., 0.],\n",
       "       [0., 1.]])"
      ]
     },
     "execution_count": 13,
     "metadata": {},
     "output_type": "execute_result"
    }
   ],
   "execution_count": 13
  },
  {
   "metadata": {
    "ExecuteTime": {
     "end_time": "2025-04-01T17:27:54.994063Z",
     "start_time": "2025-04-01T17:27:54.988560Z"
    }
   },
   "cell_type": "code",
   "source": "np.dot(Q, Q.T)",
   "id": "cef54f3d47a8943d",
   "outputs": [
    {
     "data": {
      "text/plain": [
       "array([[1., 0.],\n",
       "       [0., 1.]])"
      ]
     },
     "execution_count": 16,
     "metadata": {},
     "output_type": "execute_result"
    }
   ],
   "execution_count": 16
  },
  {
   "metadata": {},
   "cell_type": "markdown",
   "source": "Decomposing the matrix $\\boldsymbol{P}$ into its components $\\boldsymbol{V}, \\boldsymbol{\\Lambda}$, and $\\boldsymbol{V}^{-1}$:",
   "id": "411da5068fbf436e"
  },
  {
   "metadata": {
    "ExecuteTime": {
     "end_time": "2025-04-01T17:28:43.969019Z",
     "start_time": "2025-04-01T17:28:43.961518Z"
    }
   },
   "cell_type": "code",
   "source": [
    "P = torch.tensor([[25, 2, -5], [3, -2, 1], [5, 7, 4.]])\n",
    "P"
   ],
   "id": "5abf1ea385272d06",
   "outputs": [
    {
     "data": {
      "text/plain": [
       "tensor([[25.,  2., -5.],\n",
       "        [ 3., -2.,  1.],\n",
       "        [ 5.,  7.,  4.]])"
      ]
     },
     "execution_count": 17,
     "metadata": {},
     "output_type": "execute_result"
    }
   ],
   "execution_count": 17
  },
  {
   "metadata": {
    "ExecuteTime": {
     "end_time": "2025-04-01T17:29:04.588296Z",
     "start_time": "2025-04-01T17:29:04.583295Z"
    }
   },
   "cell_type": "code",
   "source": "eigenvalues, eigenvectors = torch.linalg.eig(P)",
   "id": "d6fa48d4547cda69",
   "outputs": [],
   "execution_count": 19
  },
  {
   "metadata": {
    "ExecuteTime": {
     "end_time": "2025-04-01T17:29:32.837836Z",
     "start_time": "2025-04-01T17:29:32.831838Z"
    }
   },
   "cell_type": "code",
   "source": "eigenvectors.real",
   "id": "6d7de850d64d3470",
   "outputs": [
    {
     "data": {
      "text/plain": [
       "tensor([[ 0.9511, -0.2386,  0.1626],\n",
       "        [ 0.1218, -0.1924, -0.7705],\n",
       "        [ 0.2837, -0.9519,  0.6163]])"
      ]
     },
     "execution_count": 20,
     "metadata": {},
     "output_type": "execute_result"
    }
   ],
   "execution_count": 20
  },
  {
   "metadata": {
    "ExecuteTime": {
     "end_time": "2025-04-01T17:29:55.312205Z",
     "start_time": "2025-04-01T17:29:55.306706Z"
    }
   },
   "cell_type": "code",
   "source": "eigenvalues.real",
   "id": "32bab1aef6484405",
   "outputs": [
    {
     "data": {
      "text/plain": [
       "tensor([23.7644,  6.6684, -3.4328])"
      ]
     },
     "execution_count": 21,
     "metadata": {},
     "output_type": "execute_result"
    }
   ],
   "execution_count": 21
  },
  {
   "metadata": {
    "ExecuteTime": {
     "end_time": "2025-04-01T17:30:32.379813Z",
     "start_time": "2025-04-01T17:30:32.373814Z"
    }
   },
   "cell_type": "code",
   "source": [
    "# $\\Lambda V^{-1}$\n",
    "Lambda = torch.diag(eigenvalues.real)\n",
    "Lambda"
   ],
   "id": "3c451e106acd95cd",
   "outputs": [
    {
     "data": {
      "text/plain": [
       "tensor([[23.7644,  0.0000,  0.0000],\n",
       "        [ 0.0000,  6.6684,  0.0000],\n",
       "        [ 0.0000,  0.0000, -3.4328]])"
      ]
     },
     "execution_count": 22,
     "metadata": {},
     "output_type": "execute_result"
    }
   ],
   "execution_count": 22
  },
  {
   "metadata": {},
   "cell_type": "markdown",
   "source": "Decomposing the symmetric matrix $\\boldsymbol{S}$ into its components $\\boldsymbol{Q}, \\boldsymbol{\\Lambda}$, and $\\boldsymbol{Q}^T$ using PyTorch:",
   "id": "822fbc689c36ad8a"
  },
  {
   "metadata": {
    "ExecuteTime": {
     "end_time": "2025-04-01T17:31:29.615396Z",
     "start_time": "2025-04-01T17:31:29.609894Z"
    }
   },
   "cell_type": "code",
   "source": [
    "S = torch.tensor([[25, 2, -5], [2, -2, 1], [-5, 1, 4.]])\n",
    "S"
   ],
   "id": "5cf9bb5bd191697f",
   "outputs": [
    {
     "data": {
      "text/plain": [
       "tensor([[25.,  2., -5.],\n",
       "        [ 2., -2.,  1.],\n",
       "        [-5.,  1.,  4.]])"
      ]
     },
     "execution_count": 23,
     "metadata": {},
     "output_type": "execute_result"
    }
   ],
   "execution_count": 23
  },
  {
   "metadata": {
    "ExecuteTime": {
     "end_time": "2025-04-01T17:32:13.308230Z",
     "start_time": "2025-04-01T17:32:13.304729Z"
    }
   },
   "cell_type": "code",
   "source": "eigenvalues, eigenvectors = torch.linalg.eig(S)",
   "id": "f049538b59c2b13e",
   "outputs": [],
   "execution_count": 24
  },
  {
   "metadata": {
    "ExecuteTime": {
     "end_time": "2025-04-01T17:32:25.396011Z",
     "start_time": "2025-04-01T17:32:25.390510Z"
    }
   },
   "cell_type": "code",
   "source": "eigenvectors.real",
   "id": "c33cc521afc93b82",
   "outputs": [
    {
     "data": {
      "text/plain": [
       "tensor([[ 0.9744,  0.1943, -0.1132],\n",
       "        [ 0.0614,  0.2548,  0.9651],\n",
       "        [-0.2163,  0.9473, -0.2363]])"
      ]
     },
     "execution_count": 25,
     "metadata": {},
     "output_type": "execute_result"
    }
   ],
   "execution_count": 25
  },
  {
   "metadata": {
    "ExecuteTime": {
     "end_time": "2025-04-01T17:32:31.749876Z",
     "start_time": "2025-04-01T17:32:31.744876Z"
    }
   },
   "cell_type": "code",
   "source": "eigenvalues.real",
   "id": "b176226349cbf2ef",
   "outputs": [
    {
     "data": {
      "text/plain": [
       "tensor([26.2361,  3.2435, -2.4796])"
      ]
     },
     "execution_count": 26,
     "metadata": {},
     "output_type": "execute_result"
    }
   ],
   "execution_count": 26
  },
  {
   "metadata": {
    "ExecuteTime": {
     "end_time": "2025-04-01T17:32:42.213543Z",
     "start_time": "2025-04-01T17:32:42.208543Z"
    }
   },
   "cell_type": "code",
   "source": [
    "Lambda = torch.diag(eigenvalues.real)\n",
    "Lambda"
   ],
   "id": "4e7f326d600a8bf7",
   "outputs": [
    {
     "data": {
      "text/plain": [
       "tensor([[26.2361,  0.0000,  0.0000],\n",
       "        [ 0.0000,  3.2435,  0.0000],\n",
       "        [ 0.0000,  0.0000, -2.4796]])"
      ]
     },
     "execution_count": 27,
     "metadata": {},
     "output_type": "execute_result"
    }
   ],
   "execution_count": 27
  }
 ],
 "metadata": {
  "kernelspec": {
   "display_name": "Python 3",
   "language": "python",
   "name": "python3"
  },
  "language_info": {
   "codemirror_mode": {
    "name": "ipython",
    "version": 2
   },
   "file_extension": ".py",
   "mimetype": "text/x-python",
   "name": "python",
   "nbconvert_exporter": "python",
   "pygments_lexer": "ipython2",
   "version": "2.7.6"
  }
 },
 "nbformat": 4,
 "nbformat_minor": 5
}
