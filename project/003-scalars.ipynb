{
 "cells": [
  {
   "metadata": {},
   "cell_type": "markdown",
   "source": "# Scalars (Rank 0 Tensors)",
   "id": "94d425ca754edea0"
  },
  {
   "metadata": {},
   "cell_type": "markdown",
   "source": [
    "Characteristics of Scalars:\n",
    "\n",
    "- No dimensions\n",
    "- Single number\n",
    "- Denoted in lowercase italics $x$\n",
    "- Should have a type, e.g. int, float, etc."
   ],
   "id": "5bbe4835526bcb2"
  },
  {
   "metadata": {},
   "cell_type": "markdown",
   "source": "## Scalars with Python",
   "id": "49437f2e3ab6382c"
  },
  {
   "metadata": {
    "ExecuteTime": {
     "end_time": "2025-03-28T09:38:35.759526Z",
     "start_time": "2025-03-28T09:38:35.756028Z"
    }
   },
   "cell_type": "code",
   "source": [
    "import torch\n",
    "import tensorflow as tf"
   ],
   "id": "acf9bd5c5d7158b7",
   "outputs": [],
   "execution_count": 40
  },
  {
   "metadata": {
    "ExecuteTime": {
     "end_time": "2025-03-28T09:38:36.829751Z",
     "start_time": "2025-03-28T09:38:36.824753Z"
    }
   },
   "cell_type": "code",
   "source": [
    "x = 25\n",
    "x"
   ],
   "id": "a78ae3115e646f68",
   "outputs": [
    {
     "data": {
      "text/plain": [
       "25"
      ]
     },
     "execution_count": 41,
     "metadata": {},
     "output_type": "execute_result"
    }
   ],
   "execution_count": 41
  },
  {
   "metadata": {
    "ExecuteTime": {
     "end_time": "2025-03-28T09:38:37.204252Z",
     "start_time": "2025-03-28T09:38:37.198753Z"
    }
   },
   "cell_type": "code",
   "source": "type(x)",
   "id": "d3ac45f77ec1697b",
   "outputs": [
    {
     "data": {
      "text/plain": [
       "int"
      ]
     },
     "execution_count": 42,
     "metadata": {},
     "output_type": "execute_result"
    }
   ],
   "execution_count": 42
  },
  {
   "metadata": {
    "ExecuteTime": {
     "end_time": "2025-03-28T09:38:37.557751Z",
     "start_time": "2025-03-28T09:38:37.553755Z"
    }
   },
   "cell_type": "code",
   "source": "y = 3",
   "id": "89039713b04ea4ee",
   "outputs": [],
   "execution_count": 43
  },
  {
   "metadata": {
    "ExecuteTime": {
     "end_time": "2025-03-28T09:38:37.896290Z",
     "start_time": "2025-03-28T09:38:37.891791Z"
    }
   },
   "cell_type": "code",
   "source": [
    "xy_sum = x + y\n",
    "xy_sum"
   ],
   "id": "cdc2bab425df312f",
   "outputs": [
    {
     "data": {
      "text/plain": [
       "28"
      ]
     },
     "execution_count": 44,
     "metadata": {},
     "output_type": "execute_result"
    }
   ],
   "execution_count": 44
  },
  {
   "metadata": {
    "ExecuteTime": {
     "end_time": "2025-03-28T09:38:38.217289Z",
     "start_time": "2025-03-28T09:38:38.212289Z"
    }
   },
   "cell_type": "code",
   "source": "type(xy_sum)",
   "id": "8578f385b3264d53",
   "outputs": [
    {
     "data": {
      "text/plain": [
       "int"
      ]
     },
     "execution_count": 45,
     "metadata": {},
     "output_type": "execute_result"
    }
   ],
   "execution_count": 45
  },
  {
   "metadata": {},
   "cell_type": "markdown",
   "source": "When we add a float to an integer, the result data type will be a float:",
   "id": "f86823b7e2ee888b"
  },
  {
   "metadata": {
    "ExecuteTime": {
     "end_time": "2025-03-28T09:38:38.881465Z",
     "start_time": "2025-03-28T09:38:38.876465Z"
    }
   },
   "cell_type": "code",
   "source": [
    "x_float = 25.0\n",
    "float_xy_sum = x_float + y\n",
    "float_xy_sum"
   ],
   "id": "ef87c2c0bd230d89",
   "outputs": [
    {
     "data": {
      "text/plain": [
       "28.0"
      ]
     },
     "execution_count": 46,
     "metadata": {},
     "output_type": "execute_result"
    }
   ],
   "execution_count": 46
  },
  {
   "metadata": {
    "ExecuteTime": {
     "end_time": "2025-03-28T09:38:39.210488Z",
     "start_time": "2025-03-28T09:38:39.205489Z"
    }
   },
   "cell_type": "code",
   "source": "type(float_xy_sum)",
   "id": "912ed0c68aeb06f6",
   "outputs": [
    {
     "data": {
      "text/plain": [
       "float"
      ]
     },
     "execution_count": 47,
     "metadata": {},
     "output_type": "execute_result"
    }
   ],
   "execution_count": 47
  },
  {
   "metadata": {},
   "cell_type": "markdown",
   "source": "#### With TensorFlow",
   "id": "faf7f75c925c3b5c"
  },
  {
   "metadata": {
    "ExecuteTime": {
     "end_time": "2025-03-28T09:38:39.844694Z",
     "start_time": "2025-03-28T09:38:39.839696Z"
    }
   },
   "cell_type": "code",
   "source": [
    "x_tf = tf.Variable(25, dtype=tf.int16)\n",
    "x_tf"
   ],
   "id": "3234e0cd13984352",
   "outputs": [
    {
     "data": {
      "text/plain": [
       "<tf.Variable 'Variable:0' shape=() dtype=int16, numpy=25>"
      ]
     },
     "execution_count": 48,
     "metadata": {},
     "output_type": "execute_result"
    }
   ],
   "execution_count": 48
  },
  {
   "metadata": {
    "ExecuteTime": {
     "end_time": "2025-03-28T09:38:40.185695Z",
     "start_time": "2025-03-28T09:38:40.180194Z"
    }
   },
   "cell_type": "code",
   "source": "x_tf.shape",
   "id": "a1fbaed2a469e210",
   "outputs": [
    {
     "data": {
      "text/plain": [
       "TensorShape([])"
      ]
     },
     "execution_count": 49,
     "metadata": {},
     "output_type": "execute_result"
    }
   ],
   "execution_count": 49
  },
  {
   "metadata": {
    "ExecuteTime": {
     "end_time": "2025-03-28T09:38:40.511695Z",
     "start_time": "2025-03-28T09:38:40.507195Z"
    }
   },
   "cell_type": "code",
   "source": "y_tf = tf.Variable(3, dtype=tf.int16)",
   "id": "93f7824799f1eb13",
   "outputs": [],
   "execution_count": 50
  },
  {
   "metadata": {
    "ExecuteTime": {
     "end_time": "2025-03-28T09:38:40.856413Z",
     "start_time": "2025-03-28T09:38:40.849915Z"
    }
   },
   "cell_type": "code",
   "source": "x_tf + y_tf",
   "id": "58ebe9cff19ac280",
   "outputs": [
    {
     "data": {
      "text/plain": [
       "<tf.Tensor: shape=(), dtype=int16, numpy=28>"
      ]
     },
     "execution_count": 51,
     "metadata": {},
     "output_type": "execute_result"
    }
   ],
   "execution_count": 51
  },
  {
   "metadata": {
    "ExecuteTime": {
     "end_time": "2025-03-28T09:38:41.208913Z",
     "start_time": "2025-03-28T09:38:41.203414Z"
    }
   },
   "cell_type": "code",
   "source": [
    "tf_sum = tf.add(x_tf, y_tf)\n",
    "tf_sum"
   ],
   "id": "3d9afede783f8d40",
   "outputs": [
    {
     "data": {
      "text/plain": [
       "<tf.Tensor: shape=(), dtype=int16, numpy=28>"
      ]
     },
     "execution_count": 52,
     "metadata": {},
     "output_type": "execute_result"
    }
   ],
   "execution_count": 52
  },
  {
   "metadata": {
    "ExecuteTime": {
     "end_time": "2025-03-28T09:38:41.568629Z",
     "start_time": "2025-03-28T09:38:41.563133Z"
    }
   },
   "cell_type": "code",
   "source": "tf_sum.numpy()",
   "id": "e93ec7f2f0e97d32",
   "outputs": [
    {
     "data": {
      "text/plain": [
       "28"
      ]
     },
     "execution_count": 53,
     "metadata": {},
     "output_type": "execute_result"
    }
   ],
   "execution_count": 53
  },
  {
   "metadata": {
    "ExecuteTime": {
     "end_time": "2025-03-28T09:38:41.919630Z",
     "start_time": "2025-03-28T09:38:41.914632Z"
    }
   },
   "cell_type": "code",
   "source": "type(tf_sum.numpy())",
   "id": "f47cef9d9dd1beb2",
   "outputs": [
    {
     "data": {
      "text/plain": [
       "numpy.int16"
      ]
     },
     "execution_count": 54,
     "metadata": {},
     "output_type": "execute_result"
    }
   ],
   "execution_count": 54
  },
  {
   "metadata": {
    "ExecuteTime": {
     "end_time": "2025-03-28T09:38:42.232152Z",
     "start_time": "2025-03-28T09:38:42.227153Z"
    }
   },
   "cell_type": "code",
   "source": [
    "tf_float = tf.Variable(25., dtype=tf.float16)\n",
    "tf_float"
   ],
   "id": "ecb9b03ec09f25c6",
   "outputs": [
    {
     "data": {
      "text/plain": [
       "<tf.Variable 'Variable:0' shape=() dtype=float16, numpy=25.0>"
      ]
     },
     "execution_count": 55,
     "metadata": {},
     "output_type": "execute_result"
    }
   ],
   "execution_count": 55
  },
  {
   "metadata": {},
   "cell_type": "markdown",
   "source": "#### With PyTorch",
   "id": "9ec7cc47bd56ddf4"
  },
  {
   "metadata": {
    "ExecuteTime": {
     "end_time": "2025-03-28T09:38:42.882712Z",
     "start_time": "2025-03-28T09:38:42.876713Z"
    }
   },
   "cell_type": "code",
   "source": [
    "x_pt = torch.tensor(25)\n",
    "x_pt"
   ],
   "id": "8ead39c85a942a65",
   "outputs": [
    {
     "data": {
      "text/plain": [
       "tensor(25)"
      ]
     },
     "execution_count": 56,
     "metadata": {},
     "output_type": "execute_result"
    }
   ],
   "execution_count": 56
  },
  {
   "metadata": {
    "ExecuteTime": {
     "end_time": "2025-03-28T09:38:43.207213Z",
     "start_time": "2025-03-28T09:38:43.202213Z"
    }
   },
   "cell_type": "code",
   "source": "x_pt.shape",
   "id": "de5f8488201274db",
   "outputs": [
    {
     "data": {
      "text/plain": [
       "torch.Size([])"
      ]
     },
     "execution_count": 57,
     "metadata": {},
     "output_type": "execute_result"
    }
   ],
   "execution_count": 57
  },
  {
   "metadata": {
    "ExecuteTime": {
     "end_time": "2025-03-28T09:38:43.510211Z",
     "start_time": "2025-03-28T09:38:43.506213Z"
    }
   },
   "cell_type": "code",
   "source": "y_pt = torch.tensor(3)",
   "id": "3fede715cfbdf516",
   "outputs": [],
   "execution_count": 58
  },
  {
   "metadata": {
    "ExecuteTime": {
     "end_time": "2025-03-28T09:38:43.832711Z",
     "start_time": "2025-03-28T09:38:43.827212Z"
    }
   },
   "cell_type": "code",
   "source": [
    "pt_sum = x_pt + y_pt\n",
    "pt_sum"
   ],
   "id": "4a3e730e89b70847",
   "outputs": [
    {
     "data": {
      "text/plain": [
       "tensor(28)"
      ]
     },
     "execution_count": 59,
     "metadata": {},
     "output_type": "execute_result"
    }
   ],
   "execution_count": 59
  },
  {
   "metadata": {
    "ExecuteTime": {
     "end_time": "2025-03-28T09:38:44.151213Z",
     "start_time": "2025-03-28T09:38:44.146212Z"
    }
   },
   "cell_type": "code",
   "source": "pt_sum.shape",
   "id": "d831472eeac4b4f5",
   "outputs": [
    {
     "data": {
      "text/plain": [
       "torch.Size([])"
      ]
     },
     "execution_count": 60,
     "metadata": {},
     "output_type": "execute_result"
    }
   ],
   "execution_count": 60
  },
  {
   "metadata": {
    "ExecuteTime": {
     "end_time": "2025-03-28T09:38:44.503552Z",
     "start_time": "2025-03-28T09:38:44.498550Z"
    }
   },
   "cell_type": "code",
   "source": "type(pt_sum)",
   "id": "6650065c0c316683",
   "outputs": [
    {
     "data": {
      "text/plain": [
       "torch.Tensor"
      ]
     },
     "execution_count": 61,
     "metadata": {},
     "output_type": "execute_result"
    }
   ],
   "execution_count": 61
  },
  {
   "metadata": {
    "ExecuteTime": {
     "end_time": "2025-03-28T09:38:44.822051Z",
     "start_time": "2025-03-28T09:38:44.818550Z"
    }
   },
   "cell_type": "code",
   "source": "x_pt_float = 25.0",
   "id": "40308010c6f54476",
   "outputs": [],
   "execution_count": 62
  },
  {
   "metadata": {
    "ExecuteTime": {
     "end_time": "2025-03-28T09:38:45.134659Z",
     "start_time": "2025-03-28T09:38:45.130159Z"
    }
   },
   "cell_type": "code",
   "source": [
    "pt_sum_float = x_pt_float + y_pt\n",
    "pt_sum_float"
   ],
   "id": "1c0f907acfce8ab8",
   "outputs": [
    {
     "data": {
      "text/plain": [
       "tensor(28.)"
      ]
     },
     "execution_count": 63,
     "metadata": {},
     "output_type": "execute_result"
    }
   ],
   "execution_count": 63
  },
  {
   "metadata": {
    "ExecuteTime": {
     "end_time": "2025-03-28T09:38:45.504442Z",
     "start_time": "2025-03-28T09:38:45.499441Z"
    }
   },
   "cell_type": "code",
   "source": "pt_sum_float.shape",
   "id": "6db33ec8b83a4c1d",
   "outputs": [
    {
     "data": {
      "text/plain": [
       "torch.Size([])"
      ]
     },
     "execution_count": 64,
     "metadata": {},
     "output_type": "execute_result"
    }
   ],
   "execution_count": 64
  },
  {
   "metadata": {
    "ExecuteTime": {
     "end_time": "2025-03-28T09:38:45.803397Z",
     "start_time": "2025-03-28T09:38:45.798896Z"
    }
   },
   "cell_type": "code",
   "source": "pt_sum_float.type()",
   "id": "28dcd4aa02ccd1b9",
   "outputs": [
    {
     "data": {
      "text/plain": [
       "'torch.FloatTensor'"
      ]
     },
     "execution_count": 65,
     "metadata": {},
     "output_type": "execute_result"
    }
   ],
   "execution_count": 65
  }
 ],
 "metadata": {
  "kernelspec": {
   "display_name": "Python 3",
   "language": "python",
   "name": "python3"
  },
  "language_info": {
   "codemirror_mode": {
    "name": "ipython",
    "version": 2
   },
   "file_extension": ".py",
   "mimetype": "text/x-python",
   "name": "python",
   "nbconvert_exporter": "python",
   "pygments_lexer": "ipython2",
   "version": "2.7.6"
  }
 },
 "nbformat": 4,
 "nbformat_minor": 5
}
