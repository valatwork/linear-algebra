{
 "cells": [
  {
   "cell_type": "code",
   "id": "initial_id",
   "metadata": {
    "collapsed": true,
    "ExecuteTime": {
     "end_time": "2025-03-28T09:00:04.671417Z",
     "start_time": "2025-03-28T09:00:04.668419Z"
    }
   },
   "source": [
    ""
   ],
   "outputs": [],
   "execution_count": null
  },
  {
   "metadata": {
    "ExecuteTime": {
     "end_time": "2025-03-28T09:00:04.681417Z",
     "start_time": "2025-03-28T09:00:04.679419Z"
    }
   },
   "cell_type": "code",
   "source": "",
   "id": "c9581002fbb5a793",
   "outputs": [],
   "execution_count": null
  },
  {
   "metadata": {
    "ExecuteTime": {
     "end_time": "2025-03-28T09:00:05.034918Z",
     "start_time": "2025-03-28T09:00:05.032918Z"
    }
   },
   "cell_type": "code",
   "source": "",
   "id": "8fe38ea0425c4995",
   "outputs": [],
   "execution_count": null
  },
  {
   "metadata": {
    "ExecuteTime": {
     "end_time": "2025-03-28T09:00:05.054918Z",
     "start_time": "2025-03-28T09:00:05.052418Z"
    }
   },
   "cell_type": "code",
   "source": "",
   "id": "c513f2cce091b458",
   "outputs": [],
   "execution_count": null
  },
  {
   "metadata": {
    "ExecuteTime": {
     "end_time": "2025-03-28T09:00:05.097919Z",
     "start_time": "2025-03-28T09:00:05.095917Z"
    }
   },
   "cell_type": "code",
   "source": "",
   "id": "18f7c5777ce129ce",
   "outputs": [],
   "execution_count": null
  },
  {
   "metadata": {
    "ExecuteTime": {
     "end_time": "2025-03-28T09:00:05.122417Z",
     "start_time": "2025-03-28T09:00:05.120419Z"
    }
   },
   "cell_type": "code",
   "source": "",
   "id": "acf9bd5c5d7158b7",
   "outputs": [],
   "execution_count": null
  },
  {
   "metadata": {
    "ExecuteTime": {
     "end_time": "2025-03-28T09:00:05.135918Z",
     "start_time": "2025-03-28T09:00:05.133418Z"
    }
   },
   "cell_type": "code",
   "source": "",
   "id": "a78ae3115e646f68",
   "outputs": [],
   "execution_count": null
  },
  {
   "metadata": {
    "ExecuteTime": {
     "end_time": "2025-03-28T09:00:05.157420Z",
     "start_time": "2025-03-28T09:00:05.154917Z"
    }
   },
   "cell_type": "code",
   "source": "",
   "id": "d3ac45f77ec1697b",
   "outputs": [],
   "execution_count": null
  },
  {
   "metadata": {},
   "cell_type": "markdown",
   "source": "3. **Matrix**: A 2-dimensional tensor, which can be thought of as a table of numbers with rows and columns. For example, $\\begin{bmatrix} x_1 & x_2 \\\\ x_3 & x_4 \\end{bmatrix}$ is a matrix with two rows and two columns.",
   "id": "8b0dcb037e3c3263"
  },
  {
   "metadata": {},
   "cell_type": "markdown",
   "source": [
    "$$\n",
    "\\left[\n",
    "  {\n",
    "    \\{bmatrix}\n",
    "      1 & 2 \\\\\n",
    "      3 & 4\n",
    "    \\{bmatrix}\n",
    "  }\n",
    "  {\n",
    "    \\begin{bmatrix}\n",
    "      5 & 6 \\\\\n",
    "      7 & 8\n",
    "    \\end{bmatrix}\n",
    "  }\n",
    "\\right]\n",
    "$$"
   ],
   "id": "9f8eab102f27b2dd"
  },
  {
   "metadata": {},
   "cell_type": "code",
   "outputs": [],
   "execution_count": null,
   "source": "",
   "id": "89039713b04ea4ee"
  }
 ],
 "metadata": {
  "kernelspec": {
   "display_name": "Python 3",
   "language": "python",
   "name": "python3"
  },
  "language_info": {
   "codemirror_mode": {
    "name": "ipython",
    "version": 2
   },
   "file_extension": ".py",
   "mimetype": "text/x-python",
   "name": "python",
   "nbconvert_exporter": "python",
   "pygments_lexer": "ipython2",
   "version": "2.7.6"
  }
 },
 "nbformat": 4,
 "nbformat_minor": 5
}
