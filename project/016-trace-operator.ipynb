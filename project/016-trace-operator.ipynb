{
 "cells": [
  {
   "metadata": {},
   "cell_type": "markdown",
   "source": "# The Trace Operator",
   "id": "ab9573e56bc5f940"
  },
  {
   "metadata": {},
   "cell_type": "markdown",
   "source": [
    "The trace operator is useful to re-arrange linear algebra equation.\n",
    "\n",
    "It's the sum of the diagonal elements of a square matrix:\n",
    "\n",
    "$$\\text{Tr}(\\boldsymbol{A}) = \\sum_{i} A_{i,i}$$"
   ],
   "id": "b8104ea7993a4b19"
  },
  {
   "metadata": {
    "ExecuteTime": {
     "end_time": "2025-04-07T13:29:23.617046Z",
     "start_time": "2025-04-07T13:29:21.833547Z"
    }
   },
   "cell_type": "code",
   "source": [
    "import numpy as np\n",
    "import torch"
   ],
   "id": "62873f5e68ffd639",
   "outputs": [],
   "execution_count": 5
  },
  {
   "metadata": {
    "ExecuteTime": {
     "end_time": "2025-04-07T13:05:43.384171Z",
     "start_time": "2025-04-07T13:05:43.376173Z"
    }
   },
   "cell_type": "code",
   "source": [
    "A = np.array([[25, 2], [5, 4]])\n",
    "A"
   ],
   "id": "e6b57204fd57f6d2",
   "outputs": [
    {
     "data": {
      "text/plain": [
       "array([[25,  2],\n",
       "       [ 5,  4]])"
      ]
     },
     "execution_count": 3,
     "metadata": {},
     "output_type": "execute_result"
    }
   ],
   "execution_count": 3
  },
  {
   "metadata": {
    "ExecuteTime": {
     "end_time": "2025-04-07T13:05:53.962388Z",
     "start_time": "2025-04-07T13:05:53.956387Z"
    }
   },
   "cell_type": "code",
   "source": "np.trace(A)",
   "id": "67180bfb0dab9ab5",
   "outputs": [
    {
     "data": {
      "text/plain": [
       "29"
      ]
     },
     "execution_count": 4,
     "metadata": {},
     "output_type": "execute_result"
    }
   ],
   "execution_count": 4
  },
  {
   "metadata": {},
   "cell_type": "markdown",
   "source": [
    "The properties coming in handy to re-arrange equations are, for example:\n",
    "\n",
    "- The trace of A is equal to the trace of A transposed $\\text{Tr}(\\boldsymbol{A}) = \\text{Tr}(\\boldsymbol{A}^T)$\n",
    "- Assuming the matrix are multiplication compatible: $\\text{Tr}(\\boldsymbol{A}\\boldsymbol{B}\\boldsymbol{C}) = \\text{Tr}(\\boldsymbol{C}\\boldsymbol{A}\\boldsymbol{B}) = \\text{Tr}(\\boldsymbol{B}\\boldsymbol{C}\\boldsymbol{A})$\n",
    "\n",
    "The trace operator can provide a convenient way to calculate the Frobenius norm of a matrix: $\\|\\boldsymbol{A}\\|_F = \\sqrt{\\text{Tr}(\\boldsymbol{AA}^T)}$"
   ],
   "id": "4d7349f025cd9f00"
  },
  {
   "metadata": {
    "ExecuteTime": {
     "end_time": "2025-04-07T13:41:29.874058Z",
     "start_time": "2025-04-07T13:41:29.868559Z"
    }
   },
   "cell_type": "code",
   "source": [
    "A = torch.tensor([[-1.,  2.],[ 3., -2.],[ 5.,  7.]])\n",
    "A"
   ],
   "id": "910c61b74634c254",
   "outputs": [
    {
     "data": {
      "text/plain": [
       "tensor([[-1.,  2.],\n",
       "        [ 3., -2.],\n",
       "        [ 5.,  7.]])"
      ]
     },
     "execution_count": 30,
     "metadata": {},
     "output_type": "execute_result"
    }
   ],
   "execution_count": 30
  },
  {
   "metadata": {
    "ExecuteTime": {
     "end_time": "2025-04-07T13:41:31.106759Z",
     "start_time": "2025-04-07T13:41:31.102260Z"
    }
   },
   "cell_type": "code",
   "source": "torch.trace(A)",
   "id": "137567941c3dc86a",
   "outputs": [
    {
     "data": {
      "text/plain": [
       "tensor(-3.)"
      ]
     },
     "execution_count": 31,
     "metadata": {},
     "output_type": "execute_result"
    }
   ],
   "execution_count": 31
  },
  {
   "metadata": {
    "ExecuteTime": {
     "end_time": "2025-04-07T13:41:40.224164Z",
     "start_time": "2025-04-07T13:41:40.219664Z"
    }
   },
   "cell_type": "code",
   "source": "torch.norm(A)",
   "id": "112c97fb91b0d1d2",
   "outputs": [
    {
     "data": {
      "text/plain": [
       "tensor(9.5917)"
      ]
     },
     "execution_count": 32,
     "metadata": {},
     "output_type": "execute_result"
    }
   ],
   "execution_count": 32
  },
  {
   "metadata": {
    "ExecuteTime": {
     "end_time": "2025-04-07T13:41:55.767256Z",
     "start_time": "2025-04-07T13:41:55.762254Z"
    }
   },
   "cell_type": "code",
   "source": [
    "AT = A.T\n",
    "AT"
   ],
   "id": "64a6ed259b772fc1",
   "outputs": [
    {
     "data": {
      "text/plain": [
       "tensor([[-1.,  3.,  5.],\n",
       "        [ 2., -2.,  7.]])"
      ]
     },
     "execution_count": 33,
     "metadata": {},
     "output_type": "execute_result"
    }
   ],
   "execution_count": 33
  },
  {
   "metadata": {
    "ExecuteTime": {
     "end_time": "2025-04-07T13:41:57.845348Z",
     "start_time": "2025-04-07T13:41:57.839852Z"
    }
   },
   "cell_type": "code",
   "source": [
    "AAT = A @ AT\n",
    "AAT"
   ],
   "id": "cacae350bff10907",
   "outputs": [
    {
     "data": {
      "text/plain": [
       "tensor([[ 5., -7.,  9.],\n",
       "        [-7., 13.,  1.],\n",
       "        [ 9.,  1., 74.]])"
      ]
     },
     "execution_count": 34,
     "metadata": {},
     "output_type": "execute_result"
    }
   ],
   "execution_count": 34
  },
  {
   "metadata": {
    "ExecuteTime": {
     "end_time": "2025-04-07T13:42:18.660551Z",
     "start_time": "2025-04-07T13:42:18.655554Z"
    }
   },
   "cell_type": "code",
   "source": [
    "AAT_tr = torch.trace(AAT)\n",
    "AAT_tr"
   ],
   "id": "9ab8adcad3f89e12",
   "outputs": [
    {
     "data": {
      "text/plain": [
       "tensor(92.)"
      ]
     },
     "execution_count": 35,
     "metadata": {},
     "output_type": "execute_result"
    }
   ],
   "execution_count": 35
  },
  {
   "metadata": {
    "ExecuteTime": {
     "end_time": "2025-04-07T13:42:30.206828Z",
     "start_time": "2025-04-07T13:42:30.200826Z"
    }
   },
   "cell_type": "code",
   "source": "torch.sqrt(AAT_tr)",
   "id": "b4710c261f2e2103",
   "outputs": [
    {
     "data": {
      "text/plain": [
       "tensor(9.5917)"
      ]
     },
     "execution_count": 36,
     "metadata": {},
     "output_type": "execute_result"
    }
   ],
   "execution_count": 36
  }
 ],
 "metadata": {
  "kernelspec": {
   "display_name": "Python 3",
   "language": "python",
   "name": "python3"
  },
  "language_info": {
   "codemirror_mode": {
    "name": "ipython",
    "version": 2
   },
   "file_extension": ".py",
   "mimetype": "text/x-python",
   "name": "python",
   "nbconvert_exporter": "python",
   "pygments_lexer": "ipython2",
   "version": "2.7.6"
  }
 },
 "nbformat": 4,
 "nbformat_minor": 5
}
