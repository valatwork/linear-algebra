{
 "cells": [
  {
   "metadata": {},
   "cell_type": "markdown",
   "source": "# Matrix Properties",
   "id": "beb82dbfd5179cb9"
  },
  {
   "metadata": {},
   "cell_type": "markdown",
   "source": "## Frobenius Norm",
   "id": "904e56cf6963a22e"
  },
  {
   "metadata": {},
   "cell_type": "markdown",
   "source": [
    "To calculate the Frobenius norm of a matrix $\\boldsymbol{X}$, we take the square root of the sum of the squares of its elements:\n",
    "\n",
    "$$\\|\\boldsymbol{X}\\|_F = \\sqrt{\\sum_{i,\\ j}X_{i,\\ j}^2}$$\n",
    "\n",
    "- It measures the \"size\" of the matrix in terms of Euclidean distance (similar to the $L^2$ norm for vectors)\n",
    "    - It's the sum of the magnitudes of the elements of all the vectors in the matrix"
   ],
   "id": "79889b43190ab8e5"
  },
  {
   "metadata": {},
   "cell_type": "markdown",
   "source": "### Frobenius Norm with Python",
   "id": "fa22bb5781331759"
  },
  {
   "metadata": {
    "ExecuteTime": {
     "end_time": "2025-04-18T10:59:32.032338Z",
     "start_time": "2025-04-18T10:59:32.027838Z"
    }
   },
   "cell_type": "code",
   "source": [
    "import numpy as np\n",
    "import torch\n",
    "import tensorflow as tf"
   ],
   "id": "4b49623578f6d128",
   "outputs": [],
   "execution_count": 52
  },
  {
   "metadata": {},
   "cell_type": "markdown",
   "source": "Note that with PyTorch and TensorFlow, the `.norm` function requires the data type of the tensor to be a float.",
   "id": "69a13fb0b127d1e2"
  },
  {
   "metadata": {
    "ExecuteTime": {
     "end_time": "2025-04-18T10:59:32.055339Z",
     "start_time": "2025-04-18T10:59:32.049837Z"
    }
   },
   "cell_type": "code",
   "source": [
    "X = np.array([[1,2],[3,4]])\n",
    "X_pt = torch.tensor(X, dtype=torch.float32)\n",
    "X_tf = tf.Variable(X, dtype=tf.float32)"
   ],
   "id": "c4659af2b0466491",
   "outputs": [],
   "execution_count": 53
  },
  {
   "metadata": {
    "ExecuteTime": {
     "end_time": "2025-04-18T10:59:32.076839Z",
     "start_time": "2025-04-18T10:59:32.071340Z"
    }
   },
   "cell_type": "code",
   "source": "np.linalg.norm(X)",
   "id": "addd2df6a6033b1e",
   "outputs": [
    {
     "data": {
      "text/plain": [
       "5.477225575051661"
      ]
     },
     "execution_count": 54,
     "metadata": {},
     "output_type": "execute_result"
    }
   ],
   "execution_count": 54
  },
  {
   "metadata": {
    "ExecuteTime": {
     "end_time": "2025-04-18T10:59:32.106339Z",
     "start_time": "2025-04-18T10:59:32.101339Z"
    }
   },
   "cell_type": "code",
   "source": "torch.norm(X_pt)",
   "id": "4c898e78370a93a0",
   "outputs": [
    {
     "data": {
      "text/plain": [
       "tensor(5.4772)"
      ]
     },
     "execution_count": 55,
     "metadata": {},
     "output_type": "execute_result"
    }
   ],
   "execution_count": 55
  },
  {
   "metadata": {
    "ExecuteTime": {
     "end_time": "2025-04-18T10:59:32.152915Z",
     "start_time": "2025-04-18T10:59:32.147340Z"
    }
   },
   "cell_type": "code",
   "source": "tf.norm(X_tf)",
   "id": "28b75f46e2b6c5dd",
   "outputs": [
    {
     "data": {
      "text/plain": [
       "<tf.Tensor: shape=(), dtype=float32, numpy=5.477226>"
      ]
     },
     "execution_count": 56,
     "metadata": {},
     "output_type": "execute_result"
    }
   ],
   "execution_count": 56
  },
  {
   "metadata": {},
   "cell_type": "markdown",
   "source": "## Matrix Multiplication",
   "id": "47e024350778668d"
  },
  {
   "metadata": {},
   "cell_type": "markdown",
   "source": [
    "Matrix multiplication is a fundamental operation in linear algebra. It involves multiplying two matrices together to produce a new matrix.\n",
    "\n",
    "To perform a matrix multiplication between $\\boldsymbol{A}$ and $\\boldsymbol{B}$, the number of *columns* in $\\boldsymbol{A}$  must match the number of *rows* in $\\boldsymbol{B}$.\n",
    "\n",
    "The resulting matrix will have the same number of *rows* as $\\boldsymbol{A}$ and the same number of columns as $\\boldsymbol{B}$.\n",
    "\n",
    "For example, if we have two matrices $\\boldsymbol{A}$ with shape $(m, n)$ and $\\boldsymbol{B}$ with shape $(n, p)$, the resulting matrix $\\boldsymbol{C}$ will have shape $(m, p)$."
   ],
   "id": "95753627934d3d52"
  },
  {
   "metadata": {},
   "cell_type": "markdown",
   "source": "### Matrix Multiplication (Matrix by Vector)",
   "id": "76d2ea8782689406"
  },
  {
   "metadata": {},
   "cell_type": "markdown",
   "source": [
    "As an example, let's multiply a matrix $\\boldsymbol{X}$ with a vector $\\boldsymbol{B}$:\n",
    "\n",
    "$$\\boldsymbol{A} = \\begin{bmatrix} 1 & 2 \\\\ 3 & 4 \\end{bmatrix}, \\quad \\boldsymbol{B} = \\begin{bmatrix} 5 \\\\ 6 \\end{bmatrix}$$\n",
    "$$\\boldsymbol{A}\\boldsymbol{B} = \\begin{bmatrix} 1 & 2 \\\\ 3 & 4 \\end{bmatrix} \\begin{bmatrix} 5 \\\\ 6 \\end{bmatrix} = \\begin{bmatrix} 1*5 + 2*6 \\\\ 3*5 + 4*6 \\end{bmatrix} = \\begin{bmatrix} 17 \\\\ 39 \\end{bmatrix}$$"
   ],
   "id": "4a38de56e93d9fa9"
  },
  {
   "metadata": {},
   "cell_type": "markdown",
   "source": "### Matrix Multiplication (Matrix by Vector) using Python",
   "id": "93ecb69e3e1a375e"
  },
  {
   "metadata": {
    "ExecuteTime": {
     "end_time": "2025-04-18T10:59:32.213340Z",
     "start_time": "2025-04-18T10:59:32.204840Z"
    }
   },
   "cell_type": "code",
   "source": [
    "A = np.array([[3, 4], [5, 6], [7, 8]])\n",
    "b = np.array([1, 2])\n",
    "A_pt = torch.tensor([[3, 4], [5, 6], [7, 8]])\n",
    "b_pt = torch.tensor([1, 2])\n",
    "A_tf = tf.Variable([[3, 4], [5, 6], [7, 8]])\n",
    "b_tf = tf.Variable([1, 2])"
   ],
   "id": "63b1aff5b60a89b4",
   "outputs": [],
   "execution_count": 57
  },
  {
   "metadata": {},
   "cell_type": "markdown",
   "source": "Even though the `.dot` function is used for dot products, which are between vectors, it can also be used for matrix multiplication in NumPy:",
   "id": "bf80f54152cebe69"
  },
  {
   "metadata": {
    "ExecuteTime": {
     "end_time": "2025-04-18T10:59:32.250338Z",
     "start_time": "2025-04-18T10:59:32.244840Z"
    }
   },
   "cell_type": "code",
   "source": "np.dot(A, b)",
   "id": "4911f69b288b4a7a",
   "outputs": [
    {
     "data": {
      "text/plain": [
       "array([11, 17, 23])"
      ]
     },
     "execution_count": 58,
     "metadata": {},
     "output_type": "execute_result"
    }
   ],
   "execution_count": 58
  },
  {
   "metadata": {
    "ExecuteTime": {
     "end_time": "2025-04-18T10:59:32.289839Z",
     "start_time": "2025-04-18T10:59:32.284339Z"
    }
   },
   "cell_type": "code",
   "source": "torch.matmul(A_pt, b_pt)",
   "id": "665e16d633f00a35",
   "outputs": [
    {
     "data": {
      "text/plain": [
       "tensor([11, 17, 23])"
      ]
     },
     "execution_count": 59,
     "metadata": {},
     "output_type": "execute_result"
    }
   ],
   "execution_count": 59
  },
  {
   "metadata": {
    "ExecuteTime": {
     "end_time": "2025-04-18T10:59:32.319840Z",
     "start_time": "2025-04-18T10:59:32.314839Z"
    }
   },
   "cell_type": "code",
   "source": "tf.linalg.matvec(A_tf, b_tf)",
   "id": "92e1dc5fb76ae5a4",
   "outputs": [
    {
     "data": {
      "text/plain": [
       "<tf.Tensor: shape=(3,), dtype=int32, numpy=array([11, 17, 23])>"
      ]
     },
     "execution_count": 60,
     "metadata": {},
     "output_type": "execute_result"
    }
   ],
   "execution_count": 60
  },
  {
   "metadata": {},
   "cell_type": "markdown",
   "source": "### Matrix Multiplication (Matrix by Matrix)",
   "id": "12361ca63029a52d"
  },
  {
   "metadata": {
    "ExecuteTime": {
     "end_time": "2025-04-18T10:59:32.342340Z",
     "start_time": "2025-04-18T10:59:32.337340Z"
    }
   },
   "cell_type": "code",
   "source": [
    "C = np.array([[1, 9], [2, 0]])\n",
    "C_pt = torch.tensor([[1, 9],[2, 0]])\n",
    "C_tf = tf.Variable([[1, 9], [2, 0]])"
   ],
   "id": "7e263c3a4a114be9",
   "outputs": [],
   "execution_count": 61
  },
  {
   "metadata": {
    "ExecuteTime": {
     "end_time": "2025-04-18T10:59:32.365340Z",
     "start_time": "2025-04-18T10:59:32.360840Z"
    }
   },
   "cell_type": "code",
   "source": "np.dot(A, C)",
   "id": "da064e8142208d34",
   "outputs": [
    {
     "data": {
      "text/plain": [
       "array([[11, 27],\n",
       "       [17, 45],\n",
       "       [23, 63]])"
      ]
     },
     "execution_count": 62,
     "metadata": {},
     "output_type": "execute_result"
    }
   ],
   "execution_count": 62
  },
  {
   "metadata": {},
   "cell_type": "markdown",
   "source": [
    "Matrix multiplication is not commutative, meaning that the order of the matrices matters. For example, $\\boldsymbol{A}\\boldsymbol{C} \\neq \\boldsymbol{C}\\boldsymbol{A}$.\n",
    "\n",
    "`np.dot(C, A)` will throw an error because the number of columns in $\\boldsymbol{C}$ (2) does not match the number of rows in $\\boldsymbol{A}$ (3):\n",
    "\n",
    "`ValueError: shapes (2,2) and (3,2) not aligned: 2 (dim 1) != 3 (dim 0)`"
   ],
   "id": "bd32087c22619dc2"
  },
  {
   "metadata": {
    "ExecuteTime": {
     "end_time": "2025-04-18T10:59:32.440839Z",
     "start_time": "2025-04-18T10:59:32.435340Z"
    }
   },
   "cell_type": "code",
   "source": "torch.matmul(A_pt, C_pt)",
   "id": "ca0f3e66427d2188",
   "outputs": [
    {
     "data": {
      "text/plain": [
       "tensor([[11, 27],\n",
       "        [17, 45],\n",
       "        [23, 63]])"
      ]
     },
     "execution_count": 63,
     "metadata": {},
     "output_type": "execute_result"
    }
   ],
   "execution_count": 63
  },
  {
   "metadata": {
    "ExecuteTime": {
     "end_time": "2025-04-18T10:59:32.555840Z",
     "start_time": "2025-04-18T10:59:32.549838Z"
    }
   },
   "cell_type": "code",
   "source": "tf.matmul(A_tf, C_tf)",
   "id": "5b654e9f1ec4dc51",
   "outputs": [
    {
     "data": {
      "text/plain": [
       "<tf.Tensor: shape=(3, 2), dtype=int32, numpy=\n",
       "array([[11, 27],\n",
       "       [17, 45],\n",
       "       [23, 63]])>"
      ]
     },
     "execution_count": 64,
     "metadata": {},
     "output_type": "execute_result"
    }
   ],
   "execution_count": 64
  },
  {
   "metadata": {},
   "cell_type": "markdown",
   "source": "## Symmetric Matrices",
   "id": "2de01d203a867c36"
  },
  {
   "metadata": {},
   "cell_type": "markdown",
   "source": [
    "A special matrix case with the following properties:\n",
    "- Square matrix ($m = n$)\n",
    "- $\\boldsymbol{X} = \\boldsymbol{X}^T$"
   ],
   "id": "a044841340a97e5c"
  },
  {
   "metadata": {
    "ExecuteTime": {
     "end_time": "2025-04-18T10:59:32.679338Z",
     "start_time": "2025-04-18T10:59:32.673838Z"
    }
   },
   "cell_type": "code",
   "source": [
    "X_symm = np.array([[0, 1, 2], [1, 7, 8], [2, 8, 9]])\n",
    "X_symm"
   ],
   "id": "3fbde1830596ddbf",
   "outputs": [
    {
     "data": {
      "text/plain": [
       "array([[0, 1, 2],\n",
       "       [1, 7, 8],\n",
       "       [2, 8, 9]])"
      ]
     },
     "execution_count": 65,
     "metadata": {},
     "output_type": "execute_result"
    }
   ],
   "execution_count": 65
  },
  {
   "metadata": {
    "ExecuteTime": {
     "end_time": "2025-04-18T10:59:32.808840Z",
     "start_time": "2025-04-18T10:59:32.803841Z"
    }
   },
   "cell_type": "code",
   "source": "X_symm.T",
   "id": "1a581e2d6d91747b",
   "outputs": [
    {
     "data": {
      "text/plain": [
       "array([[0, 1, 2],\n",
       "       [1, 7, 8],\n",
       "       [2, 8, 9]])"
      ]
     },
     "execution_count": 66,
     "metadata": {},
     "output_type": "execute_result"
    }
   ],
   "execution_count": 66
  },
  {
   "metadata": {},
   "cell_type": "markdown",
   "source": "### Identity Matrices",
   "id": "d68c3ab7afe8c043"
  },
  {
   "metadata": {},
   "cell_type": "markdown",
   "source": [
    "A special case of a symmetric matrix:\n",
    "- Every element along the main diagonal is 1\n",
    "- All other elements are 0\n",
    "- Notation: $\\boldsymbol{I}_n$ where $n$ is the number of rows and columns\n",
    "- $n$-length vector $\\boldsymbol{v}$ will remain unchanged when multiplied by $\\boldsymbol{I}_n$"
   ],
   "id": "7fe6c990c6bf603d"
  },
  {
   "metadata": {
    "ExecuteTime": {
     "end_time": "2025-04-18T10:59:32.925840Z",
     "start_time": "2025-04-18T10:59:32.921339Z"
    }
   },
   "cell_type": "code",
   "source": [
    "I = torch.tensor([[1, 0, 0], [0, 1, 0], [0, 0, 1]])\n",
    "I"
   ],
   "id": "8121b7cb081b2457",
   "outputs": [
    {
     "data": {
      "text/plain": [
       "tensor([[1, 0, 0],\n",
       "        [0, 1, 0],\n",
       "        [0, 0, 1]])"
      ]
     },
     "execution_count": 67,
     "metadata": {},
     "output_type": "execute_result"
    }
   ],
   "execution_count": 67
  },
  {
   "metadata": {
    "ExecuteTime": {
     "end_time": "2025-04-18T10:59:33.036339Z",
     "start_time": "2025-04-18T10:59:33.031340Z"
    }
   },
   "cell_type": "code",
   "source": [
    "x_pt = torch.tensor([25, 2, 5])\n",
    "x_pt"
   ],
   "id": "e85bf9ae7dc6ba75",
   "outputs": [
    {
     "data": {
      "text/plain": [
       "tensor([25,  2,  5])"
      ]
     },
     "execution_count": 68,
     "metadata": {},
     "output_type": "execute_result"
    }
   ],
   "execution_count": 68
  },
  {
   "metadata": {
    "ExecuteTime": {
     "end_time": "2025-04-18T10:59:33.103838Z",
     "start_time": "2025-04-18T10:59:33.098339Z"
    }
   },
   "cell_type": "code",
   "source": "torch.matmul(I, x_pt)",
   "id": "84f5dededbcbe907",
   "outputs": [
    {
     "data": {
      "text/plain": [
       "tensor([25,  2,  5])"
      ]
     },
     "execution_count": 69,
     "metadata": {},
     "output_type": "execute_result"
    }
   ],
   "execution_count": 69
  },
  {
   "metadata": {
    "ExecuteTime": {
     "end_time": "2025-04-18T10:59:33.132339Z",
     "start_time": "2025-04-18T10:59:33.128340Z"
    }
   },
   "cell_type": "code",
   "source": [
    "M_q = torch.tensor([[0, 1, 2], [3, 4, 5], [6, 7, 8]])\n",
    "V_q = torch.tensor([[-1, 1, -2], [0, 1, 2]]).T # this is the same as V_q = torch.tensor([[-1, 0], [1, 1], [-2, 2]])"
   ],
   "id": "9d7b45a3a39b7f14",
   "outputs": [],
   "execution_count": 70
  },
  {
   "metadata": {
    "ExecuteTime": {
     "end_time": "2025-04-18T10:59:33.164839Z",
     "start_time": "2025-04-18T10:59:33.160339Z"
    }
   },
   "cell_type": "code",
   "source": "torch.matmul(I, V_q[:,0])",
   "id": "846406bf91374e4",
   "outputs": [
    {
     "data": {
      "text/plain": [
       "tensor([-1,  1, -2])"
      ]
     },
     "execution_count": 71,
     "metadata": {},
     "output_type": "execute_result"
    }
   ],
   "execution_count": 71
  },
  {
   "metadata": {
    "ExecuteTime": {
     "end_time": "2025-04-18T10:59:33.210839Z",
     "start_time": "2025-04-18T10:59:33.205339Z"
    }
   },
   "cell_type": "code",
   "source": "torch.matmul(M_q, V_q[:,0])",
   "id": "160093a5071ecacb",
   "outputs": [
    {
     "data": {
      "text/plain": [
       "tensor([ -3,  -9, -15])"
      ]
     },
     "execution_count": 72,
     "metadata": {},
     "output_type": "execute_result"
    }
   ],
   "execution_count": 72
  },
  {
   "metadata": {
    "ExecuteTime": {
     "end_time": "2025-04-18T10:59:33.253839Z",
     "start_time": "2025-04-18T10:59:33.248341Z"
    }
   },
   "cell_type": "code",
   "source": "torch.matmul(M_q, V_q)",
   "id": "19315787f815ca21",
   "outputs": [
    {
     "data": {
      "text/plain": [
       "tensor([[ -3,   5],\n",
       "        [ -9,  14],\n",
       "        [-15,  23]])"
      ]
     },
     "execution_count": 73,
     "metadata": {},
     "output_type": "execute_result"
    }
   ],
   "execution_count": 73
  },
  {
   "metadata": {},
   "cell_type": "markdown",
   "source": "## Matrix Inversion",
   "id": "2276c87384114e0e"
  },
  {
   "metadata": {},
   "cell_type": "markdown",
   "source": [
    "It's a convenient approach to solve systems of linear equations.\n",
    "\n",
    "- The matrix inverse of $\\boldsymbol{X}$ is denoted by $\\boldsymbol{X}^{-1}$\n",
    "    - Satisfies the equation $\\boldsymbol{X}^{-1}\\boldsymbol{X} = \\boldsymbol{I}_n$\n",
    "\n",
    "As an example:\n",
    "\n",
    "$$\n",
    "\\begin{bmatrix}\n",
    "\\begin{array}{l|l}\n",
    "    y_1 & a + b x_{1,1} + c x_{1,2} + \\dots + m x_{1,m} \\\\\n",
    "    y_2 & a + b x_{2,1} + c x_{2,2} + \\dots + m x_{2,m} \\\\\n",
    "    \\vdots & \\vdots \\hspace{2em} \\vdots \\hspace{3em} \\vdots \\hspace{5.5em} \\vdots\\\\\n",
    "    y_n & a + b x_{n,1} + c x_{n,2} + \\dots + m x_{n,m}\n",
    "\\end{array}\n",
    "\\end{bmatrix}\n",
    "$$\n",
    "\n",
    "Can be solved in matrix form and the formula represented as $\\boldsymbol{y} = \\boldsymbol{X}\\boldsymbol{w}$.\n",
    "\n",
    "- the outcomes $\\boldsymbol{y}$ are known\n",
    "- the features (predictors) $\\boldsymbol{X}$ are known\n",
    "- the vector or weights $\\boldsymbol{w}$ contains the unknowns, the parameters to be estimated\n",
    "\n",
    "Viewed as a matrix equation:\n",
    "\n",
    "$$\n",
    "\\begin{equation*}\n",
    "\\begin{bmatrix}\n",
    "    y_1 \\\\\n",
    "    y_2 \\\\\n",
    "    \\vdots \\\\\n",
    "    y_n\n",
    "\\end{bmatrix}\n",
    "=\n",
    "\\begin{bmatrix}\n",
    "    1 & x_{1,1} & x_{1,2} & \\cdots & x_{1,m} \\\\\n",
    "    1 & x_{2,1} & x_{2,2} & \\cdots & x_{2,m} \\\\\n",
    "    \\vdots & \\vdots & \\vdots & \\hspace{2em}  & \\vdots \\\\\n",
    "    1 & x_{n,1} & x_{n,2} & \\cdots & x_{n,m}\n",
    "\\end{bmatrix}\n",
    "\\begin{bmatrix}\n",
    "    a \\\\\n",
    "    b \\\\\n",
    "    c \\\\\n",
    "    \\vdots \\\\\n",
    "    m \\vphantom{\\vdots}  % Aligns \"m\" vertically with matrix entries\n",
    "\\end{bmatrix}\n",
    "\\end{equation*}\n",
    "$$\n",
    "\n",
    "Assuming $\\boldsymbol{X}^{-1}$ exists, matrix inversion can solve for the weights $\\boldsymbol{w}$:\n",
    "\n",
    "- $\\boldsymbol{X}\\boldsymbol{w} = \\boldsymbol{y}$\n",
    "- $\\boldsymbol{X}^{-1}\\boldsymbol{X}\\boldsymbol{w}=\\boldsymbol{X}^{-1}\\boldsymbol{y}$\n",
    "- $\\boldsymbol{I}_n\\boldsymbol{w}=\\boldsymbol{X}^{-1}\\boldsymbol{y}$\n",
    "- $\\boldsymbol{w}=\\boldsymbol{X}^{-1}\\boldsymbol{y}$"
   ],
   "id": "4f7360c1e87a382"
  },
  {
   "metadata": {},
   "cell_type": "markdown",
   "source": "### Matrix Inversion with Python",
   "id": "3e22d749c6f0515d"
  },
  {
   "metadata": {
    "ExecuteTime": {
     "end_time": "2025-04-18T10:59:33.326339Z",
     "start_time": "2025-04-18T10:59:33.320339Z"
    }
   },
   "cell_type": "code",
   "source": [
    "X = np.array([[4, 2], [-5, -3]])\n",
    "X"
   ],
   "id": "398de933783cddfd",
   "outputs": [
    {
     "data": {
      "text/plain": [
       "array([[ 4,  2],\n",
       "       [-5, -3]])"
      ]
     },
     "execution_count": 74,
     "metadata": {},
     "output_type": "execute_result"
    }
   ],
   "execution_count": 74
  },
  {
   "metadata": {
    "ExecuteTime": {
     "end_time": "2025-04-18T10:59:33.430839Z",
     "start_time": "2025-04-18T10:59:33.424840Z"
    }
   },
   "cell_type": "code",
   "source": [
    "Xinv = np.linalg.inv(X)\n",
    "Xinv"
   ],
   "id": "ed8871ef8c8e09e4",
   "outputs": [
    {
     "data": {
      "text/plain": [
       "array([[ 1.5,  1. ],\n",
       "       [-2.5, -2. ]])"
      ]
     },
     "execution_count": 75,
     "metadata": {},
     "output_type": "execute_result"
    }
   ],
   "execution_count": 75
  },
  {
   "metadata": {
    "ExecuteTime": {
     "end_time": "2025-04-18T10:59:33.542839Z",
     "start_time": "2025-04-18T10:59:33.537339Z"
    }
   },
   "cell_type": "code",
   "source": "np.dot(Xinv, X)",
   "id": "79950cd5775e2a2c",
   "outputs": [
    {
     "data": {
      "text/plain": [
       "array([[1.00000000e+00, 0.00000000e+00],\n",
       "       [1.77635684e-15, 1.00000000e+00]])"
      ]
     },
     "execution_count": 76,
     "metadata": {},
     "output_type": "execute_result"
    }
   ],
   "execution_count": 76
  },
  {
   "metadata": {
    "ExecuteTime": {
     "end_time": "2025-04-18T10:59:33.654337Z",
     "start_time": "2025-04-18T10:59:33.648339Z"
    }
   },
   "cell_type": "code",
   "source": [
    "y = np.array([4, -7])\n",
    "y"
   ],
   "id": "46861592b8e37490",
   "outputs": [
    {
     "data": {
      "text/plain": [
       "array([ 4, -7])"
      ]
     },
     "execution_count": 77,
     "metadata": {},
     "output_type": "execute_result"
    }
   ],
   "execution_count": 77
  },
  {
   "metadata": {
    "ExecuteTime": {
     "end_time": "2025-04-18T10:59:33.723338Z",
     "start_time": "2025-04-18T10:59:33.717840Z"
    }
   },
   "cell_type": "code",
   "source": [
    "w = np.dot(Xinv, y)\n",
    "w"
   ],
   "id": "1369bfd665c2d423",
   "outputs": [
    {
     "data": {
      "text/plain": [
       "array([-1.,  4.])"
      ]
     },
     "execution_count": 78,
     "metadata": {},
     "output_type": "execute_result"
    }
   ],
   "execution_count": 78
  },
  {
   "metadata": {
    "ExecuteTime": {
     "end_time": "2025-04-18T10:59:33.755840Z",
     "start_time": "2025-04-18T10:59:33.750840Z"
    }
   },
   "cell_type": "code",
   "source": "np.dot(X, w)",
   "id": "fe412119d14ed14d",
   "outputs": [
    {
     "data": {
      "text/plain": [
       "array([ 4., -7.])"
      ]
     },
     "execution_count": 79,
     "metadata": {},
     "output_type": "execute_result"
    }
   ],
   "execution_count": 79
  },
  {
   "metadata": {
    "ExecuteTime": {
     "end_time": "2025-04-18T10:59:33.784839Z",
     "start_time": "2025-04-18T10:59:33.779340Z"
    }
   },
   "cell_type": "code",
   "source": [
    "X_pt = torch.tensor(X, dtype=torch.float32)\n",
    "Xinv_pt = torch.inverse(X_pt)\n",
    "Xinv_pt"
   ],
   "id": "4785e925e8539436",
   "outputs": [
    {
     "data": {
      "text/plain": [
       "tensor([[ 1.5000,  1.0000],\n",
       "        [-2.5000, -2.0000]])"
      ]
     },
     "execution_count": 80,
     "metadata": {},
     "output_type": "execute_result"
    }
   ],
   "execution_count": 80
  },
  {
   "metadata": {
    "ExecuteTime": {
     "end_time": "2025-04-18T10:59:34.013340Z",
     "start_time": "2025-04-18T10:59:34.007340Z"
    }
   },
   "cell_type": "code",
   "source": [
    "X_tf = tf.Variable(X, dtype=tf.float32)\n",
    "Xinv_tf = tf.linalg.inv(X_tf)\n",
    "Xinv_tf"
   ],
   "id": "1b0eaf0ee9750444",
   "outputs": [
    {
     "data": {
      "text/plain": [
       "<tf.Tensor: shape=(2, 2), dtype=float32, numpy=\n",
       "array([[ 1.4999998,  0.9999998],\n",
       "       [-2.4999995, -1.9999996]], dtype=float32)>"
      ]
     },
     "execution_count": 81,
     "metadata": {},
     "output_type": "execute_result"
    }
   ],
   "execution_count": 81
  },
  {
   "metadata": {},
   "cell_type": "markdown",
   "source": [
    "Matrix inversion can only be calculated if:\n",
    "\n",
    "- All the columns are linearly independent\n",
    "- The matrix is square\n",
    "    - A square matrix avoids overdetermination: $n_{rows} > n_{col}$, i.e.: $n_{equations} > n_{dimensions}$\n"
   ],
   "id": "c5a8d1723a1632e"
  },
  {
   "metadata": {},
   "cell_type": "markdown",
   "source": "To check whether a matrix is linearly independent:",
   "id": "31719ab3db307fee"
  },
  {
   "metadata": {
    "ExecuteTime": {
     "end_time": "2025-04-18T10:59:34.134840Z",
     "start_time": "2025-04-18T10:59:34.129839Z"
    }
   },
   "cell_type": "code",
   "source": [
    "# import numpy as np\n",
    "\n",
    "def is_lin_independent_np(matrix):\n",
    "    # Input validation\n",
    "    if not isinstance(matrix, np.ndarray):\n",
    "        raise TypeError(\"Input must be a numpy array\")\n",
    "\n",
    "    if matrix.size == 0:\n",
    "        return False  # Empty matrix\n",
    "\n",
    "    # Calculate rank and compare with number of columns\n",
    "    rank = np.linalg.matrix_rank(matrix)\n",
    "    return rank == matrix.shape[1]"
   ],
   "id": "3ea2c694933c165f",
   "outputs": [],
   "execution_count": 82
  },
  {
   "metadata": {
    "ExecuteTime": {
     "end_time": "2025-04-18T10:59:34.204838Z",
     "start_time": "2025-04-18T10:59:34.199338Z"
    }
   },
   "cell_type": "code",
   "source": [
    "# import torch\n",
    "\n",
    "def is_lin_independent_torch(matrix):\n",
    "    # Input validation\n",
    "    if isinstance(matrix, torch.Tensor):\n",
    "        tensor = matrix\n",
    "    else:\n",
    "        try:\n",
    "            tensor = torch.tensor(matrix, dtype=torch.float32)\n",
    "        except:\n",
    "            raise TypeError(\"Input must be convertible to a PyTorch tensor\")\n",
    "\n",
    "    # Handle empty matrix\n",
    "    if tensor.numel() == 0:\n",
    "        return False\n",
    "\n",
    "    # Calculate rank and compare with number of columns\n",
    "    rank = torch.linalg.matrix_rank(tensor)\n",
    "    return rank == tensor.shape[1]"
   ],
   "id": "6b231311d1aaf755",
   "outputs": [],
   "execution_count": 83
  },
  {
   "metadata": {
    "ExecuteTime": {
     "end_time": "2025-04-18T10:59:34.233338Z",
     "start_time": "2025-04-18T10:59:34.228838Z"
    }
   },
   "cell_type": "code",
   "source": [
    "# import tensorflow as tf\n",
    "\n",
    "def is_lin_independent_tf(matrix):\n",
    "    # Input validation\n",
    "    if isinstance(matrix, tf.Tensor):\n",
    "        tensor = matrix\n",
    "    else:\n",
    "        try:\n",
    "            tensor = tf.convert_to_tensor(matrix, dtype=tf.float32)\n",
    "        except:\n",
    "            raise TypeError(\"Input must be convertible to a TensorFlow tensor\")\n",
    "\n",
    "    # Handle empty matrix\n",
    "    if tf.size(tensor) == 0:\n",
    "        return False\n",
    "\n",
    "    # Calculate rank and compare with number of columns\n",
    "    rank = tf.linalg.matrix_rank(tensor)\n",
    "    return rank == tensor.shape[1]"
   ],
   "id": "cd8715c01b975421",
   "outputs": [],
   "execution_count": 84
  },
  {
   "metadata": {
    "ExecuteTime": {
     "end_time": "2025-04-18T10:59:34.254838Z",
     "start_time": "2025-04-18T10:59:34.249840Z"
    }
   },
   "cell_type": "code",
   "source": [
    "X = np.array([[-4, 1], [-8, 2]])\n",
    "X"
   ],
   "id": "d5e998f35ef0d10e",
   "outputs": [
    {
     "data": {
      "text/plain": [
       "array([[-4,  1],\n",
       "       [-8,  2]])"
      ]
     },
     "execution_count": 85,
     "metadata": {},
     "output_type": "execute_result"
    }
   ],
   "execution_count": 85
  },
  {
   "metadata": {
    "ExecuteTime": {
     "end_time": "2025-04-18T10:59:34.319838Z",
     "start_time": "2025-04-18T10:59:34.313840Z"
    }
   },
   "cell_type": "code",
   "source": "is_lin_independent_np(X)",
   "id": "91f23806ef9540a9",
   "outputs": [
    {
     "data": {
      "text/plain": [
       "False"
      ]
     },
     "execution_count": 86,
     "metadata": {},
     "output_type": "execute_result"
    }
   ],
   "execution_count": 86
  },
  {
   "metadata": {},
   "cell_type": "markdown",
   "source": "## Diagonal Matrices",
   "id": "e8e2dbce0780c1c1"
  },
  {
   "metadata": {},
   "cell_type": "markdown",
   "source": [
    "Characteristics:\n",
    "\n",
    "- Nonzero elements along the main diagonal, all other elements are zero (the identity matrix is a special case of a diagonal matrix)\n",
    "- If the matrix is square, denoted as $diag(\\boldsymbol{x})$ where $\\boldsymbol{x}$ is a vector of the main-diagonal elements\n",
    "- Computationally efficient:\n",
    "    - Multiplication: $diag(\\boldsymbol{x})\\boldsymbol{y} = \\boldsymbol{x} \\odot\\boldsymbol{y}$\n",
    "    - Inversion: $diag(\\boldsymbol{x})^{-1} = diag[1/\\boldsymbol{x}_1, ..., 1/\\boldsymbol{x}_n]^T$\n",
    "        - The vector $\\boldsymbol{x}$ cannot contain zeros\n",
    "- Can be non-square and still be computationally efficient:\n",
    "    - if $h > w$, then simply add zeros to the product\n",
    "    - if $w ? h$, remove elements from the product\n",
    "\n"
   ],
   "id": "5aacb31570791f11"
  },
  {
   "metadata": {},
   "cell_type": "markdown",
   "source": "## Orthogonal Matrices",
   "id": "2f4d87583af18e95"
  },
  {
   "metadata": {},
   "cell_type": "markdown",
   "source": [
    "In orthogonal matrices, orthonomal vectors:\n",
    "- Make up the columns of the matrix\n",
    "- Make up the rows of the matrix\n",
    "\n",
    "This means that $\\boldsymbol{A}^T\\boldsymbol{A} = \\boldsymbol{A}\\boldsymbol{A}^T = \\boldsymbol{I}$.\n",
    "\n",
    "Which also means: $\\boldsymbol{A}^T = \\boldsymbol{A}^{-1}\\boldsymbol{I} = \\boldsymbol{A}^{-1}$.\n",
    "\n",
    "Calculating $\\boldsymbol{A}^T$ is computationally cheap."
   ],
   "id": "a1b67913deaa3158"
  },
  {
   "metadata": {},
   "cell_type": "markdown",
   "source": "### Orthogonal Matrices with Python",
   "id": "3e923f2da2280a22"
  },
  {
   "metadata": {
    "ExecuteTime": {
     "end_time": "2025-04-18T10:59:34.381339Z",
     "start_time": "2025-04-18T10:59:34.376339Z"
    }
   },
   "cell_type": "code",
   "source": [
    "I = np.array([[1, 0, 0], [0, 1, 0], [0, 0, 1]])\n",
    "I"
   ],
   "id": "b2379bef2f24964a",
   "outputs": [
    {
     "data": {
      "text/plain": [
       "array([[1, 0, 0],\n",
       "       [0, 1, 0],\n",
       "       [0, 0, 1]])"
      ]
     },
     "execution_count": 87,
     "metadata": {},
     "output_type": "execute_result"
    }
   ],
   "execution_count": 87
  },
  {
   "metadata": {},
   "cell_type": "markdown",
   "source": "Demonstrating that any two columns are orthogonal to each other:",
   "id": "5f73e7c0ef2abb0"
  },
  {
   "metadata": {
    "ExecuteTime": {
     "end_time": "2025-04-18T10:59:34.449339Z",
     "start_time": "2025-04-18T10:59:34.443839Z"
    }
   },
   "cell_type": "code",
   "source": "np.dot(I[0], I[2])",
   "id": "f041959c82ed3f9e",
   "outputs": [
    {
     "data": {
      "text/plain": [
       "0"
      ]
     },
     "execution_count": 88,
     "metadata": {},
     "output_type": "execute_result"
    }
   ],
   "execution_count": 88
  },
  {
   "metadata": {
    "ExecuteTime": {
     "end_time": "2025-04-18T10:59:34.515340Z",
     "start_time": "2025-04-18T10:59:34.510839Z"
    }
   },
   "cell_type": "code",
   "source": "np.dot(I[1], I[2])",
   "id": "6573da75aa71cd11",
   "outputs": [
    {
     "data": {
      "text/plain": [
       "0"
      ]
     },
     "execution_count": 89,
     "metadata": {},
     "output_type": "execute_result"
    }
   ],
   "execution_count": 89
  },
  {
   "metadata": {
    "ExecuteTime": {
     "end_time": "2025-04-18T10:59:34.549341Z",
     "start_time": "2025-04-18T10:59:34.544339Z"
    }
   },
   "cell_type": "code",
   "source": "np.dot(I[0], I[1])",
   "id": "5d3ad80b3627c1a9",
   "outputs": [
    {
     "data": {
      "text/plain": [
       "0"
      ]
     },
     "execution_count": 90,
     "metadata": {},
     "output_type": "execute_result"
    }
   ],
   "execution_count": 90
  },
  {
   "metadata": {},
   "cell_type": "markdown",
   "source": "Demonstrating that each column has unit norm:",
   "id": "d3054b180166f743"
  },
  {
   "metadata": {
    "ExecuteTime": {
     "end_time": "2025-04-18T10:59:34.582340Z",
     "start_time": "2025-04-18T10:59:34.576839Z"
    }
   },
   "cell_type": "code",
   "source": "np.linalg.norm(I[0])",
   "id": "c4a1ed302a086293",
   "outputs": [
    {
     "data": {
      "text/plain": [
       "1.0"
      ]
     },
     "execution_count": 91,
     "metadata": {},
     "output_type": "execute_result"
    }
   ],
   "execution_count": 91
  },
  {
   "metadata": {
    "ExecuteTime": {
     "end_time": "2025-04-18T10:59:34.609839Z",
     "start_time": "2025-04-18T10:59:34.606339Z"
    }
   },
   "cell_type": "code",
   "source": "np.linalg.norm(I[1])",
   "id": "ca17be5c2d5a025f",
   "outputs": [
    {
     "data": {
      "text/plain": [
       "1.0"
      ]
     },
     "execution_count": 92,
     "metadata": {},
     "output_type": "execute_result"
    }
   ],
   "execution_count": 92
  },
  {
   "metadata": {
    "ExecuteTime": {
     "end_time": "2025-04-18T10:59:34.631338Z",
     "start_time": "2025-04-18T10:59:34.626341Z"
    }
   },
   "cell_type": "code",
   "source": "np.linalg.norm(I[2])",
   "id": "24ba7f9fd85e5c76",
   "outputs": [
    {
     "data": {
      "text/plain": [
       "1.0"
      ]
     },
     "execution_count": 93,
     "metadata": {},
     "output_type": "execute_result"
    }
   ],
   "execution_count": 93
  },
  {
   "metadata": {},
   "cell_type": "markdown",
   "source": "Demonstrating the orthogonality of the identity matrix:",
   "id": "7990665969e72155"
  },
  {
   "metadata": {
    "ExecuteTime": {
     "end_time": "2025-04-18T10:59:34.652838Z",
     "start_time": "2025-04-18T10:59:34.647837Z"
    }
   },
   "cell_type": "code",
   "source": "np.dot(I.T, I)",
   "id": "b90259a6cc0f978d",
   "outputs": [
    {
     "data": {
      "text/plain": [
       "array([[1, 0, 0],\n",
       "       [0, 1, 0],\n",
       "       [0, 0, 1]])"
      ]
     },
     "execution_count": 94,
     "metadata": {},
     "output_type": "execute_result"
    }
   ],
   "execution_count": 94
  },
  {
   "metadata": {},
   "cell_type": "markdown",
   "source": "Using PyTorch on another matrix:",
   "id": "a24479601655ec11"
  },
  {
   "metadata": {
    "ExecuteTime": {
     "end_time": "2025-04-18T10:59:34.721839Z",
     "start_time": "2025-04-18T10:59:34.716840Z"
    }
   },
   "cell_type": "code",
   "source": [
    "K = torch.tensor([[2/3, 1/3, 2/3], [-2/3, 2/3, 1/3], [1/3, 2/3, -2/3]])\n",
    "K"
   ],
   "id": "25f0ac4440dea1e1",
   "outputs": [
    {
     "data": {
      "text/plain": [
       "tensor([[ 0.6667,  0.3333,  0.6667],\n",
       "        [-0.6667,  0.6667,  0.3333],\n",
       "        [ 0.3333,  0.6667, -0.6667]])"
      ]
     },
     "execution_count": 95,
     "metadata": {},
     "output_type": "execute_result"
    }
   ],
   "execution_count": 95
  },
  {
   "metadata": {
    "ExecuteTime": {
     "end_time": "2025-04-18T10:59:34.833839Z",
     "start_time": "2025-04-18T10:59:34.828839Z"
    }
   },
   "cell_type": "code",
   "source": "torch.dot(K[0], K[1])",
   "id": "c6cf5c7bafaa84d9",
   "outputs": [
    {
     "data": {
      "text/plain": [
       "tensor(0.)"
      ]
     },
     "execution_count": 96,
     "metadata": {},
     "output_type": "execute_result"
    }
   ],
   "execution_count": 96
  },
  {
   "metadata": {
    "ExecuteTime": {
     "end_time": "2025-04-18T10:59:34.902339Z",
     "start_time": "2025-04-18T10:59:34.897338Z"
    }
   },
   "cell_type": "code",
   "source": "torch.dot(K[0], K[2])",
   "id": "1d24841fdf0c831e",
   "outputs": [
    {
     "data": {
      "text/plain": [
       "tensor(0.)"
      ]
     },
     "execution_count": 97,
     "metadata": {},
     "output_type": "execute_result"
    }
   ],
   "execution_count": 97
  },
  {
   "metadata": {
    "ExecuteTime": {
     "end_time": "2025-04-18T10:59:34.928339Z",
     "start_time": "2025-04-18T10:59:34.923339Z"
    }
   },
   "cell_type": "code",
   "source": "torch.dot(K[1], K[2])",
   "id": "99babf5cabb21543",
   "outputs": [
    {
     "data": {
      "text/plain": [
       "tensor(0.)"
      ]
     },
     "execution_count": 98,
     "metadata": {},
     "output_type": "execute_result"
    }
   ],
   "execution_count": 98
  },
  {
   "metadata": {
    "ExecuteTime": {
     "end_time": "2025-04-18T10:59:34.957839Z",
     "start_time": "2025-04-18T10:59:34.952838Z"
    }
   },
   "cell_type": "code",
   "source": "torch.norm(K[0])",
   "id": "2b21f777af99a927",
   "outputs": [
    {
     "data": {
      "text/plain": [
       "tensor(1.)"
      ]
     },
     "execution_count": 99,
     "metadata": {},
     "output_type": "execute_result"
    }
   ],
   "execution_count": 99
  },
  {
   "metadata": {
    "ExecuteTime": {
     "end_time": "2025-04-18T10:59:34.984839Z",
     "start_time": "2025-04-18T10:59:34.979841Z"
    }
   },
   "cell_type": "code",
   "source": "torch.norm(K[1])",
   "id": "b791a0ed1cdd3be2",
   "outputs": [
    {
     "data": {
      "text/plain": [
       "tensor(1.)"
      ]
     },
     "execution_count": 100,
     "metadata": {},
     "output_type": "execute_result"
    }
   ],
   "execution_count": 100
  },
  {
   "metadata": {
    "ExecuteTime": {
     "end_time": "2025-04-18T10:59:35.002338Z",
     "start_time": "2025-04-18T10:59:34.997839Z"
    }
   },
   "cell_type": "code",
   "source": "torch.norm(K[2])",
   "id": "b1475084175e08a6",
   "outputs": [
    {
     "data": {
      "text/plain": [
       "tensor(1.)"
      ]
     },
     "execution_count": 101,
     "metadata": {},
     "output_type": "execute_result"
    }
   ],
   "execution_count": 101
  },
  {
   "metadata": {},
   "cell_type": "markdown",
   "source": "Demonstrating the orthogonality of the matrix $\\boldsymbol{K}$:",
   "id": "a328dedad81a2355"
  },
  {
   "metadata": {
    "ExecuteTime": {
     "end_time": "2025-04-18T10:59:35.037840Z",
     "start_time": "2025-04-18T10:59:35.032839Z"
    }
   },
   "cell_type": "code",
   "source": "torch.matmul(K.T, K)",
   "id": "f6e56c8effbfd5be",
   "outputs": [
    {
     "data": {
      "text/plain": [
       "tensor([[1.0000, 0.0000, 0.0000],\n",
       "        [0.0000, 1.0000, 0.0000],\n",
       "        [0.0000, 0.0000, 1.0000]])"
      ]
     },
     "execution_count": 102,
     "metadata": {},
     "output_type": "execute_result"
    }
   ],
   "execution_count": 102
  }
 ],
 "metadata": {
  "kernelspec": {
   "display_name": "Python 3",
   "language": "python",
   "name": "python3"
  },
  "language_info": {
   "codemirror_mode": {
    "name": "ipython",
    "version": 2
   },
   "file_extension": ".py",
   "mimetype": "text/x-python",
   "name": "python",
   "nbconvert_exporter": "python",
   "pygments_lexer": "ipython2",
   "version": "2.7.6"
  }
 },
 "nbformat": 4,
 "nbformat_minor": 5
}
