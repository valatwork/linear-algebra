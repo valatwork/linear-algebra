{
 "cells": [
  {
   "metadata": {},
   "cell_type": "markdown",
   "source": "# Eigenvectors and eigenvalues",
   "id": "87f626f18dadacf2"
  },
  {
   "metadata": {},
   "cell_type": "markdown",
   "source": "## Eigenvectors",
   "id": "7678105dcaf4f720"
  },
  {
   "metadata": {},
   "cell_type": "markdown",
   "source": [
    "When a flipping matrix is applied to a vector, an eigenvector of a matrix retains it direction. It stays on the same axis (it hasn't been *knocked off its span*).\n",
    "\n",
    "If a shearing matrix is applied to a vector, if a vector is knocked off its span, it is not an eigenvector of the matrix."
   ],
   "id": "d70f4d1606e9012a"
  },
  {
   "metadata": {},
   "cell_type": "markdown",
   "source": "## Eigenvalues",
   "id": "24a70cf53986a7af"
  },
  {
   "metadata": {},
   "cell_type": "markdown",
   "source": [
    "If an eigenvector retains its exact length, its eigenvalue is 1.\n",
    "\n",
    "If an eigenvector were to double its length, its eigenvalue would be 2. If it were to halve its length, its eigenvalue would be 0.5.\n",
    "\n",
    "Eigenvalues can also have a negative sign: for example, a shearing-and-flipping matrix has the same eigenvectors as the shearing matrix, but its eigenvalue is negative.\n",
    "\n",
    "Let's say we have a vector $v$ and a matrix $A$. If $v$ is an eigenvector of $A$, then the following equation holds: $Av = λv$, where $λ$ is the eigenvalue."
   ],
   "id": "a6c269e04d08d098"
  },
  {
   "metadata": {},
   "cell_type": "markdown",
   "source": "## Eigenvectors and eigenvalues with Python",
   "id": "3058e995a60cc57a"
  },
  {
   "metadata": {
    "ExecuteTime": {
     "end_time": "2025-04-01T08:33:30.916864Z",
     "start_time": "2025-04-01T08:33:23.649604Z"
    }
   },
   "cell_type": "code",
   "source": [
    "import numpy as np\n",
    "import matplotlib.pyplot as plt\n",
    "import torch"
   ],
   "id": "4f1f85f9cb84eff6",
   "outputs": [],
   "execution_count": 37
  },
  {
   "metadata": {
    "ExecuteTime": {
     "end_time": "2025-04-01T08:15:55.379369Z",
     "start_time": "2025-04-01T08:15:55.373871Z"
    }
   },
   "cell_type": "code",
   "source": [
    "v = np.array([3, 1])\n",
    "I = np.array([[1, 0], [0, 1]])\n",
    "E = np.array([[1, 0], [0, -1]])\n",
    "F = np.array([[-1, 0], [0, 1]])\n",
    "A = np.array([[-1, 4], [2, -2]])\n",
    "V = np.array([[ 3,  2, -3, -1],[ 1,  1, -1,  1]])"
   ],
   "id": "657be0ba79ee01de",
   "outputs": [],
   "execution_count": 6
  },
  {
   "metadata": {},
   "cell_type": "markdown",
   "source": [
    "To calculate the eigenvalues and eigenvectors of a matrix, we can use the NumPy `eig()` method, which returns a tuple of:\n",
    "- a vector of eigenvalues\n",
    "- a matrix of eigenvectors"
   ],
   "id": "b36ba3890a907d11"
  },
  {
   "metadata": {
    "ExecuteTime": {
     "end_time": "2025-04-01T08:15:56.956063Z",
     "start_time": "2025-04-01T08:15:56.953064Z"
    }
   },
   "cell_type": "code",
   "outputs": [],
   "execution_count": 7,
   "source": "lambdas, V = np.linalg.eig(A)",
   "id": "7412b98836b34f8a"
  },
  {
   "metadata": {},
   "cell_type": "markdown",
   "source": "The matrix contains as many eigenvectors as the number of columns in the matrix $A$. Each column of the matrix $V$ is an eigenvector of the matrix $A$:",
   "id": "c34eff76c083f56e"
  },
  {
   "metadata": {
    "ExecuteTime": {
     "end_time": "2025-04-01T08:16:00.311158Z",
     "start_time": "2025-04-01T08:16:00.306658Z"
    }
   },
   "cell_type": "code",
   "source": "V",
   "id": "262052984039ee9d",
   "outputs": [
    {
     "data": {
      "text/plain": [
       "array([[ 0.86011126, -0.76454754],\n",
       "       [ 0.51010647,  0.64456735]])"
      ]
     },
     "execution_count": 8,
     "metadata": {},
     "output_type": "execute_result"
    }
   ],
   "execution_count": 8
  },
  {
   "metadata": {},
   "cell_type": "markdown",
   "source": "The eigenvalues are stored in`lambdas`: the result from this example mean that the original eigenvector $v$ has been lengthened $\\approx 1.37$ times.",
   "id": "c92faa0a5f175bfd"
  },
  {
   "metadata": {
    "ExecuteTime": {
     "end_time": "2025-04-01T08:21:56.850836Z",
     "start_time": "2025-04-01T08:21:56.845835Z"
    }
   },
   "cell_type": "code",
   "source": "lambdas",
   "id": "2c6130b6b955b493",
   "outputs": [
    {
     "data": {
      "text/plain": [
       "array([ 1.37228132, -4.37228132])"
      ]
     },
     "execution_count": 16,
     "metadata": {},
     "output_type": "execute_result"
    }
   ],
   "execution_count": 16
  },
  {
   "metadata": {},
   "cell_type": "markdown",
   "source": "We can confirm that $Av = λv$:",
   "id": "ed2d37dd856d3032"
  },
  {
   "metadata": {
    "ExecuteTime": {
     "end_time": "2025-04-01T08:22:01.000366Z",
     "start_time": "2025-04-01T08:22:00.994368Z"
    }
   },
   "cell_type": "code",
   "source": [
    "v = V[:, 0]\n",
    "v"
   ],
   "id": "6f3656718aa06d83",
   "outputs": [
    {
     "data": {
      "text/plain": [
       "array([0.86011126, 0.51010647])"
      ]
     },
     "execution_count": 17,
     "metadata": {},
     "output_type": "execute_result"
    }
   ],
   "execution_count": 17
  },
  {
   "metadata": {
    "ExecuteTime": {
     "end_time": "2025-04-01T08:29:31.982932Z",
     "start_time": "2025-04-01T08:29:31.978433Z"
    }
   },
   "cell_type": "code",
   "source": [
    "lambda1 = lambdas[0]\n",
    "lambda1"
   ],
   "id": "5a63177e7ebb6d98",
   "outputs": [
    {
     "data": {
      "text/plain": [
       "1.3722813232690143"
      ]
     },
     "execution_count": 23,
     "metadata": {},
     "output_type": "execute_result"
    }
   ],
   "execution_count": 23
  },
  {
   "metadata": {
    "ExecuteTime": {
     "end_time": "2025-04-01T08:29:33.477771Z",
     "start_time": "2025-04-01T08:29:33.473270Z"
    }
   },
   "cell_type": "code",
   "source": [
    "Av = np.dot(A, v)\n",
    "Av"
   ],
   "id": "64cf7c810dd1753d",
   "outputs": [
    {
     "data": {
      "text/plain": [
       "array([1.18031462, 0.70000958])"
      ]
     },
     "execution_count": 24,
     "metadata": {},
     "output_type": "execute_result"
    }
   ],
   "execution_count": 24
  },
  {
   "metadata": {
    "ExecuteTime": {
     "end_time": "2025-04-01T08:29:36.894446Z",
     "start_time": "2025-04-01T08:29:36.889446Z"
    }
   },
   "cell_type": "code",
   "source": "lambda1 * v",
   "id": "49d3e6f16e396401",
   "outputs": [
    {
     "data": {
      "text/plain": [
       "array([1.18031462, 0.70000958])"
      ]
     },
     "execution_count": 25,
     "metadata": {},
     "output_type": "execute_result"
    }
   ],
   "execution_count": 25
  },
  {
   "metadata": {
    "ExecuteTime": {
     "end_time": "2025-04-01T08:29:37.975047Z",
     "start_time": "2025-04-01T08:29:37.969548Z"
    }
   },
   "cell_type": "code",
   "source": [
    "def plot_vectors(vectors, colors, labels=None):\n",
    "    \"\"\"\n",
    "    Plot one or more vectors in a 2D plane, specifying a color for each.\n",
    "\n",
    "    Arguments\n",
    "    ---------\n",
    "    vectors: list of lists or of arrays\n",
    "        Coordinates of the vectors to plot. For example, [[1, 3], [2, 2]]\n",
    "        contains two vectors to plot, [1, 3] and [2, 2].\n",
    "    colors: list\n",
    "        Colors of the vectors. For instance: ['red', 'blue'] will display the\n",
    "        first vector in red and the second in blue.\n",
    "    labels: list, optional\n",
    "        Labels for the vectors to show in the legend. If None, no legend is shown.\n",
    "\n",
    "    Example\n",
    "    -------\n",
    "    plot_vectors([[1, 3], [2, 2]], ['red', 'blue'], ['Vector 1', 'Vector 2'])\n",
    "    plt.xlim(-1, 4)\n",
    "    plt.ylim(-1, 4)\n",
    "    \"\"\"\n",
    "    plt.figure()\n",
    "    plt.grid(alpha=0.2)\n",
    "    plt.axvline(x=0, color='lightgray')\n",
    "    plt.axhline(y=0, color='lightgray')\n",
    "\n",
    "    # If labels are not provided, create empty labels\n",
    "    if labels is None:\n",
    "        labels = [f\"Vector {i+1}\" for i in range(len(vectors))]\n",
    "\n",
    "    for i in range(len(vectors)):\n",
    "        x = np.concatenate([[0,0], vectors[i]])\n",
    "        plt.quiver([x[0]], [x[1]], [x[2]], [x[3]],\n",
    "                   angles='xy', scale_units='xy', scale=1, color=colors[i],\n",
    "                   label=labels[i])\n",
    "\n",
    "    # Add the legend\n",
    "    plt.legend(loc='best')"
   ],
   "id": "1df13c9207885f60",
   "outputs": [],
   "execution_count": 26
  },
  {
   "metadata": {
    "ExecuteTime": {
     "end_time": "2025-04-01T08:29:40.081661Z",
     "start_time": "2025-04-01T08:29:39.961662Z"
    }
   },
   "cell_type": "code",
   "source": [
    "plot_vectors([Av, v], ['blue', 'lightblue'], [r'$Av$', r'$v$'])\n",
    "plt.xlim(-1, 2)\n",
    "_ = plt.ylim(-1, 2)"
   ],
   "id": "a957d4cec63e256c",
   "outputs": [
    {
     "data": {
      "text/plain": [
       "<Figure size 640x480 with 1 Axes>"
      ],
      "image/png": "[encoded data removed]"
     },
     "metadata": {},
     "output_type": "display_data"
    }
   ],
   "execution_count": 27
  },
  {
   "metadata": {},
   "cell_type": "markdown",
   "source": "For the second eigenvector:",
   "id": "19cbec1a8f152654"
  },
  {
   "metadata": {
    "ExecuteTime": {
     "end_time": "2025-04-01T08:29:45.906158Z",
     "start_time": "2025-04-01T08:29:45.901161Z"
    }
   },
   "cell_type": "code",
   "source": [
    "v2 = V[:, 1]\n",
    "v2"
   ],
   "id": "da7f2b888535159f",
   "outputs": [
    {
     "data": {
      "text/plain": [
       "array([-0.76454754,  0.64456735])"
      ]
     },
     "execution_count": 28,
     "metadata": {},
     "output_type": "execute_result"
    }
   ],
   "execution_count": 28
  },
  {
   "metadata": {
    "ExecuteTime": {
     "end_time": "2025-04-01T08:29:46.279741Z",
     "start_time": "2025-04-01T08:29:46.275740Z"
    }
   },
   "cell_type": "code",
   "source": [
    "lambda2 = lambdas[1]\n",
    "lambda2"
   ],
   "id": "9147140526aacc9",
   "outputs": [
    {
     "data": {
      "text/plain": [
       "-4.372281323269014"
      ]
     },
     "execution_count": 29,
     "metadata": {},
     "output_type": "execute_result"
    }
   ],
   "execution_count": 29
  },
  {
   "metadata": {
    "ExecuteTime": {
     "end_time": "2025-04-01T08:29:54.703831Z",
     "start_time": "2025-04-01T08:29:54.698831Z"
    }
   },
   "cell_type": "code",
   "source": [
    "Av2 = np.dot(A, v2)\n",
    "Av2"
   ],
   "id": "7028a2045a89571d",
   "outputs": [
    {
     "data": {
      "text/plain": [
       "array([ 3.34281692, -2.81822977])"
      ]
     },
     "execution_count": 30,
     "metadata": {},
     "output_type": "execute_result"
    }
   ],
   "execution_count": 30
  },
  {
   "metadata": {
    "ExecuteTime": {
     "end_time": "2025-04-01T08:29:57.232396Z",
     "start_time": "2025-04-01T08:29:57.227396Z"
    }
   },
   "cell_type": "code",
   "source": "lambda2 * v2",
   "id": "89587339b27ee679",
   "outputs": [
    {
     "data": {
      "text/plain": [
       "array([ 3.34281692, -2.81822977])"
      ]
     },
     "execution_count": 31,
     "metadata": {},
     "output_type": "execute_result"
    }
   ],
   "execution_count": 31
  },
  {
   "metadata": {
    "ExecuteTime": {
     "end_time": "2025-04-01T08:30:49.979139Z",
     "start_time": "2025-04-01T08:30:49.851140Z"
    }
   },
   "cell_type": "code",
   "source": [
    "plot_vectors([Av, v, Av2, v2],\n",
    "            ['blue', 'lightblue', 'green', 'lightgreen'], [r'$Av$', r'$v$', r'$Av_2$', r'$v_2$'])\n",
    "plt.xlim(-1, 4)\n",
    "_ = plt.ylim(-3, 2)"
   ],
   "id": "e2e7ed335c352b63",
   "outputs": [
    {
     "data": {
      "text/plain": [
       "<Figure size 640x480 with 1 Axes>"
      ],
      "image/png": "[encoded data removed]"
     },
     "metadata": {},
     "output_type": "display_data"
    }
   ],
   "execution_count": 34
  },
  {
   "metadata": {},
   "cell_type": "markdown",
   "source": "Using PyTorch `eig()` method:",
   "id": "b48d1d5f2c0652b4"
  },
  {
   "metadata": {
    "ExecuteTime": {
     "end_time": "2025-04-01T08:32:17.818996Z",
     "start_time": "2025-04-01T08:32:17.814995Z"
    }
   },
   "cell_type": "code",
   "source": "A",
   "id": "83013ff03e714693",
   "outputs": [
    {
     "data": {
      "text/plain": [
       "array([[-1,  4],\n",
       "       [ 2, -2]])"
      ]
     },
     "execution_count": 35,
     "metadata": {},
     "output_type": "execute_result"
    }
   ],
   "execution_count": 35
  },
  {
   "metadata": {
    "ExecuteTime": {
     "end_time": "2025-04-01T08:33:33.604180Z",
     "start_time": "2025-04-01T08:33:33.572683Z"
    }
   },
   "cell_type": "code",
   "source": [
    "A_pt = torch.tensor(A, dtype=torch.float32)\n",
    "A_pt"
   ],
   "id": "10607f09889dbe85",
   "outputs": [
    {
     "data": {
      "text/plain": [
       "tensor([[-1.,  4.],\n",
       "        [ 2., -2.]])"
      ]
     },
     "execution_count": 38,
     "metadata": {},
     "output_type": "execute_result"
    }
   ],
   "execution_count": 38
  },
  {
   "metadata": {},
   "cell_type": "markdown",
   "source": "Note that, by default, PyTorch uses complex numbers to store the eigenvalues and eigenvectors. For the sake of this example, since the matrix is real, let's just convert the results to real numbers:",
   "id": "4686f6db2e3a16d"
  },
  {
   "metadata": {
    "ExecuteTime": {
     "end_time": "2025-04-01T08:59:38.940287Z",
     "start_time": "2025-04-01T08:59:38.936786Z"
    }
   },
   "cell_type": "code",
   "source": [
    "eigenvalues, eigenvectors = torch.linalg.eig(A_pt)\n",
    "eigenvec = eigenvectors.real\n",
    "eigenvals = eigenvalues.real"
   ],
   "id": "b8e133a46afc5761",
   "outputs": [],
   "execution_count": 64
  },
  {
   "metadata": {
    "ExecuteTime": {
     "end_time": "2025-04-01T08:59:39.319311Z",
     "start_time": "2025-04-01T08:59:39.313811Z"
    }
   },
   "cell_type": "code",
   "source": [
    "v_pt = eigenvec[:, 0]\n",
    "v_pt"
   ],
   "id": "70bf4049c1ab74aa",
   "outputs": [
    {
     "data": {
      "text/plain": [
       "tensor([0.8601, 0.5101])"
      ]
     },
     "execution_count": 65,
     "metadata": {},
     "output_type": "execute_result"
    }
   ],
   "execution_count": 65
  },
  {
   "metadata": {
    "ExecuteTime": {
     "end_time": "2025-04-01T08:59:55.398618Z",
     "start_time": "2025-04-01T08:59:55.393117Z"
    }
   },
   "cell_type": "code",
   "source": [
    "lambda_pt = eigenvals[0]\n",
    "lambda_pt"
   ],
   "id": "bbdff81412c44b3a",
   "outputs": [
    {
     "data": {
      "text/plain": [
       "tensor(1.3723)"
      ]
     },
     "execution_count": 67,
     "metadata": {},
     "output_type": "execute_result"
    }
   ],
   "execution_count": 67
  },
  {
   "metadata": {
    "ExecuteTime": {
     "end_time": "2025-04-01T09:00:31.562595Z",
     "start_time": "2025-04-01T09:00:31.557097Z"
    }
   },
   "cell_type": "code",
   "source": [
    "Av_pt = A_pt @ v_pt\n",
    "Av_pt"
   ],
   "id": "6be188475b960404",
   "outputs": [
    {
     "data": {
      "text/plain": [
       "tensor([1.1803, 0.7000])"
      ]
     },
     "execution_count": 68,
     "metadata": {},
     "output_type": "execute_result"
    }
   ],
   "execution_count": 68
  },
  {
   "metadata": {
    "ExecuteTime": {
     "end_time": "2025-04-01T09:01:00.473326Z",
     "start_time": "2025-04-01T09:01:00.468327Z"
    }
   },
   "cell_type": "code",
   "source": [
    "v2_pt = eigenvec[:, 1]\n",
    "v2_pt"
   ],
   "id": "7aacfbdca55ec691",
   "outputs": [
    {
     "data": {
      "text/plain": [
       "tensor([-0.7645,  0.6446])"
      ]
     },
     "execution_count": 69,
     "metadata": {},
     "output_type": "execute_result"
    }
   ],
   "execution_count": 69
  },
  {
   "metadata": {
    "ExecuteTime": {
     "end_time": "2025-04-01T09:01:06.470066Z",
     "start_time": "2025-04-01T09:01:06.465067Z"
    }
   },
   "cell_type": "code",
   "source": [
    "lambda2_pt = eigenvals[1]\n",
    "lambda2_pt"
   ],
   "id": "d0442053c39b4f73",
   "outputs": [
    {
     "data": {
      "text/plain": [
       "tensor(-4.3723)"
      ]
     },
     "execution_count": 70,
     "metadata": {},
     "output_type": "execute_result"
    }
   ],
   "execution_count": 70
  },
  {
   "metadata": {
    "ExecuteTime": {
     "end_time": "2025-04-01T09:01:14.073421Z",
     "start_time": "2025-04-01T09:01:14.067923Z"
    }
   },
   "cell_type": "code",
   "source": [
    "Av2_pt = A_pt @ v2_pt\n",
    "Av2_pt"
   ],
   "id": "dc0a717845be045d",
   "outputs": [
    {
     "data": {
      "text/plain": [
       "tensor([ 3.3428, -2.8182])"
      ]
     },
     "execution_count": 71,
     "metadata": {},
     "output_type": "execute_result"
    }
   ],
   "execution_count": 71
  },
  {
   "metadata": {
    "ExecuteTime": {
     "end_time": "2025-04-01T09:01:19.759450Z",
     "start_time": "2025-04-01T09:01:19.753450Z"
    }
   },
   "cell_type": "code",
   "source": "lambda2_pt * v2_pt",
   "id": "fc6578ec9cacfb7f",
   "outputs": [
    {
     "data": {
      "text/plain": [
       "tensor([ 3.3428, -2.8182])"
      ]
     },
     "execution_count": 72,
     "metadata": {},
     "output_type": "execute_result"
    }
   ],
   "execution_count": 72
  },
  {
   "metadata": {
    "ExecuteTime": {
     "end_time": "2025-04-01T09:01:46.418793Z",
     "start_time": "2025-04-01T09:01:46.290293Z"
    }
   },
   "cell_type": "code",
   "source": [
    "plot_vectors([Av_pt, v_pt, Av2_pt, v2_pt],\n",
    "            ['blue', 'lightblue', 'green', 'lightgreen'], [r'$Av$', r'$v$', r'$Av_2$', r'$v_2$'])\n",
    "plt.xlim(-1, 4)\n",
    "_ = plt.ylim(-3, 2)"
   ],
   "id": "b1b20dbe61b0a9f0",
   "outputs": [
    {
     "data": {
      "text/plain": [
       "<Figure size 640x480 with 1 Axes>"
      ],
      "image/png": "[encoded data removed]"
     },
     "metadata": {},
     "output_type": "display_data"
    }
   ],
   "execution_count": 73
  },
  {
   "metadata": {},
   "cell_type": "markdown",
   "source": "#### Eigenvectors in >2 dimensions",
   "id": "ce2e606c1be9c098"
  },
  {
   "metadata": {
    "ExecuteTime": {
     "end_time": "2025-04-01T09:04:25.618361Z",
     "start_time": "2025-04-01T09:04:25.613363Z"
    }
   },
   "cell_type": "code",
   "source": [
    "X = np.array([[25, 2, 9], [5, 26, -5], [3, 7, -1]])\n",
    "X"
   ],
   "id": "32997eb6672b174e",
   "outputs": [
    {
     "data": {
      "text/plain": [
       "array([[25,  2,  9],\n",
       "       [ 5, 26, -5],\n",
       "       [ 3,  7, -1]])"
      ]
     },
     "execution_count": 74,
     "metadata": {},
     "output_type": "execute_result"
    }
   ],
   "execution_count": 74
  },
  {
   "metadata": {
    "ExecuteTime": {
     "end_time": "2025-04-01T09:05:03.790906Z",
     "start_time": "2025-04-01T09:05:03.786906Z"
    }
   },
   "cell_type": "code",
   "source": "lambdas_X, V_X = np.linalg.eig(X)",
   "id": "fa9a576e13dc4116",
   "outputs": [],
   "execution_count": 77
  },
  {
   "metadata": {
    "ExecuteTime": {
     "end_time": "2025-04-01T09:05:06.224831Z",
     "start_time": "2025-04-01T09:05:06.219332Z"
    }
   },
   "cell_type": "code",
   "source": "V_X",
   "id": "4bb72d752a7150b1",
   "outputs": [
    {
     "data": {
      "text/plain": [
       "array([[-0.71175736, -0.6501921 , -0.34220476],\n",
       "       [-0.66652125,  0.74464056,  0.23789717],\n",
       "       [-0.22170001,  0.15086635,  0.90901091]])"
      ]
     },
     "execution_count": 78,
     "metadata": {},
     "output_type": "execute_result"
    }
   ],
   "execution_count": 78
  },
  {
   "metadata": {
    "ExecuteTime": {
     "end_time": "2025-04-01T09:05:12.310604Z",
     "start_time": "2025-04-01T09:05:12.306105Z"
    }
   },
   "cell_type": "code",
   "source": "lambdas_X",
   "id": "cd0f4e51b7ad2f18",
   "outputs": [
    {
     "data": {
      "text/plain": [
       "array([29.67623202, 20.62117365, -0.29740567])"
      ]
     },
     "execution_count": 79,
     "metadata": {},
     "output_type": "execute_result"
    }
   ],
   "execution_count": 79
  }
 ],
 "metadata": {
  "kernelspec": {
   "display_name": "Python 3",
   "language": "python",
   "name": "python3"
  },
  "language_info": {
   "codemirror_mode": {
    "name": "ipython",
    "version": 2
   },
   "file_extension": ".py",
   "mimetype": "text/x-python",
   "name": "python",
   "nbconvert_exporter": "python",
   "pygments_lexer": "ipython2",
   "version": "2.7.6"
  }
 },
 "nbformat": 4,
 "nbformat_minor": 5
}
