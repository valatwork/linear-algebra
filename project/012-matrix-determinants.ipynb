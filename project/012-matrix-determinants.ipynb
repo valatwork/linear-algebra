{
 "cells": [
  {
   "metadata": {},
   "cell_type": "markdown",
   "source": "# Matrix determinants",
   "id": "fc5bd02bae5fbbc3"
  },
  {
   "metadata": {},
   "cell_type": "markdown",
   "source": [
    "A determinant is a scalar value that can be computed from the elements of a square matrix.\n",
    "\n",
    "Characteristics of matrix determinants:\n",
    "- map a square matrix to a scalar\n",
    "- enables to determine if a matrix can be inverted\n",
    "- for a matrix $X$, the determinant is denoted as $det(X)$ or $|X|$\n",
    "- if $det(X) = 0$:\n",
    "    - $X^{-1}$ cannot be computed ($X^{-1}$ has $1/det(X) = 1/0$ and we cannot divide by zero)\n",
    "    - while square, matrix $X$ is singular: it contains linearly dependent columns\n",
    "- $det(X) is easiest to compute for 2x2 matrices:\n",
    "\n",
    "$$\\boldsymbol{X} = \\begin{bmatrix}\n",
    "    a & b \\\\\n",
    "    c & d\n",
    "\\end{bmatrix}$$\n",
    "\n",
    "$$\\boldsymbol{|X|} = ad - bc$$"
   ],
   "id": "8adbf715e97626cf"
  },
  {
   "metadata": {},
   "cell_type": "markdown",
   "source": "### Matrix determinants with Python",
   "id": "69f168b0e497ea2"
  },
  {
   "metadata": {},
   "cell_type": "markdown",
   "source": "#### 2x2 Matrices",
   "id": "1b94d6d18cc1afec"
  },
  {
   "metadata": {
    "ExecuteTime": {
     "end_time": "2025-04-01T09:22:07.847301Z",
     "start_time": "2025-04-01T09:22:01.192301Z"
    }
   },
   "cell_type": "code",
   "source": [
    "import numpy as np\n",
    "import matplotlib.pyplot as plt\n",
    "import torch\n",
    "import tensorflow as tf"
   ],
   "id": "163fd78db2686f27",
   "outputs": [],
   "execution_count": 2
  },
  {
   "metadata": {
    "ExecuteTime": {
     "end_time": "2025-04-01T09:22:10.496125Z",
     "start_time": "2025-04-01T09:22:10.490126Z"
    }
   },
   "cell_type": "code",
   "source": [
    "X = np.array([[4, 2], [-5, -3]])\n",
    "X"
   ],
   "id": "94adb0bfd9be95a2",
   "outputs": [
    {
     "data": {
      "text/plain": [
       "array([[ 4,  2],\n",
       "       [-5, -3]])"
      ]
     },
     "execution_count": 3,
     "metadata": {},
     "output_type": "execute_result"
    }
   ],
   "execution_count": 3
  },
  {
   "metadata": {
    "ExecuteTime": {
     "end_time": "2025-04-01T09:22:14.213848Z",
     "start_time": "2025-04-01T09:22:14.208348Z"
    }
   },
   "cell_type": "code",
   "source": "np.linalg.det(X)",
   "id": "db925f63226cc1a",
   "outputs": [
    {
     "data": {
      "text/plain": [
       "-2.0000000000000013"
      ]
     },
     "execution_count": 4,
     "metadata": {},
     "output_type": "execute_result"
    }
   ],
   "execution_count": 4
  },
  {
   "metadata": {
    "ExecuteTime": {
     "end_time": "2025-04-01T09:22:30.950498Z",
     "start_time": "2025-04-01T09:22:30.945498Z"
    }
   },
   "cell_type": "code",
   "source": [
    "N = np.array([[-4, 1], [-8, 2]])\n",
    "N"
   ],
   "id": "f96f8a04d98096af",
   "outputs": [
    {
     "data": {
      "text/plain": [
       "array([[-4,  1],\n",
       "       [-8,  2]])"
      ]
     },
     "execution_count": 5,
     "metadata": {},
     "output_type": "execute_result"
    }
   ],
   "execution_count": 5
  },
  {
   "metadata": {
    "ExecuteTime": {
     "end_time": "2025-04-01T09:22:34.238115Z",
     "start_time": "2025-04-01T09:22:34.232617Z"
    }
   },
   "cell_type": "code",
   "source": "np.linalg.det(N)",
   "id": "9296b985434dd9bc",
   "outputs": [
    {
     "data": {
      "text/plain": [
       "0.0"
      ]
     },
     "execution_count": 6,
     "metadata": {},
     "output_type": "execute_result"
    }
   ],
   "execution_count": 6
  },
  {
   "metadata": {},
   "cell_type": "markdown",
   "source": "Since $det(\\boldsymbol{N}) = 0$, trying to use `np.linalg.inv(N)` will raise an error: `LinAlgError: Singular matrix`",
   "id": "7e507aa182d0a3d2"
  },
  {
   "metadata": {
    "ExecuteTime": {
     "end_time": "2025-04-01T09:25:35.628Z",
     "start_time": "2025-04-01T09:25:35.624500Z"
    }
   },
   "cell_type": "code",
   "source": "N = torch.tensor([[-4, 1], [-8, 2.]])",
   "id": "b40481e7d66e808c",
   "outputs": [],
   "execution_count": 8
  },
  {
   "metadata": {
    "ExecuteTime": {
     "end_time": "2025-04-01T09:25:39.602339Z",
     "start_time": "2025-04-01T09:25:39.593838Z"
    }
   },
   "cell_type": "code",
   "source": "torch.linalg.det(N)",
   "id": "5c7bc4e701094498",
   "outputs": [
    {
     "data": {
      "text/plain": [
       "tensor(-0.)"
      ]
     },
     "execution_count": 9,
     "metadata": {},
     "output_type": "execute_result"
    }
   ],
   "execution_count": 9
  },
  {
   "metadata": {},
   "cell_type": "markdown",
   "source": "### Generalized determinants: recursion",
   "id": "8c2360a4537410dd"
  },
  {
   "metadata": {},
   "cell_type": "markdown",
   "source": [
    "The Laplace expansion is a formula that allows us to express the determinant of a matrix as a linear combination of determinants of smaller matrices, called minors.\n",
    "\n",
    "It is computed recursively by expanding the determinant along a row or column.\n",
    "\n",
    "Say we have a matrix $X$ of size 5x5:\n",
    "\n",
    "$$\\boldsymbol{X} = \\begin{bmatrix}\n",
    "    a_{1,1} & a_{1,2} & a_{1,3} & a_{1,4} & a_{1,5} \\\\\n",
    "    a_{2,1} & a_{2,2} & a_{2,3} & a_{2,4} & a_{2,5} \\\\\n",
    "    a_{3,1} & a_{3,2} & a_{3,3} & a_{3,4} & a_{3,5} \\\\\n",
    "    a_{4,1} & a_{4,2} & a_{4,3} & a_{4,4} & a_{4,5} \\\\\n",
    "    a_{5,1} & a_{5,2} & a_{5,3} & a_{5,4} & a_{5,5}\n",
    "\\end{bmatrix}$$\n",
    "\n",
    "$|X|$ can be computed as:\n",
    "\n",
    "$|X| = a_{1,1}det(X_{1,1}) - a_{1,2}det(X_{1,2}) + a_{1,3}det(X_{1,3}) - a_{1,4}det(X_{1,4}) + a_{1,5}det(X_{1,5})$\n"
   ],
   "id": "14e967f75649ee3c"
  },
  {
   "metadata": {
    "ExecuteTime": {
     "end_time": "2025-04-01T09:48:39.191495Z",
     "start_time": "2025-04-01T09:48:39.185495Z"
    }
   },
   "cell_type": "code",
   "source": [
    "X = np.array([[1, 2, 4], [2, -1, 3], [0, 5, 1]])\n",
    "X"
   ],
   "id": "aa3118973ba869ac",
   "outputs": [
    {
     "data": {
      "text/plain": [
       "array([[ 1,  2,  4],\n",
       "       [ 2, -1,  3],\n",
       "       [ 0,  5,  1]])"
      ]
     },
     "execution_count": 10,
     "metadata": {},
     "output_type": "execute_result"
    }
   ],
   "execution_count": 10
  },
  {
   "metadata": {
    "ExecuteTime": {
     "end_time": "2025-04-01T09:48:44.636822Z",
     "start_time": "2025-04-01T09:48:44.631322Z"
    }
   },
   "cell_type": "code",
   "source": "np.linalg.det(X)",
   "id": "9a6325bf3937e1fd",
   "outputs": [
    {
     "data": {
      "text/plain": [
       "19.999999999999996"
      ]
     },
     "execution_count": 11,
     "metadata": {},
     "output_type": "execute_result"
    }
   ],
   "execution_count": 11
  },
  {
   "metadata": {
    "ExecuteTime": {
     "end_time": "2025-04-01T09:50:37.684504Z",
     "start_time": "2025-04-01T09:50:37.679506Z"
    }
   },
   "cell_type": "code",
   "source": [
    "A = np.array([[25,2], [3,4]])\n",
    "np.linalg.det(A)"
   ],
   "id": "b3e022fb729041a5",
   "outputs": [
    {
     "data": {
      "text/plain": [
       "94.0"
      ]
     },
     "execution_count": 13,
     "metadata": {},
     "output_type": "execute_result"
    }
   ],
   "execution_count": 13
  },
  {
   "metadata": {
    "ExecuteTime": {
     "end_time": "2025-04-01T09:50:58.317240Z",
     "start_time": "2025-04-01T09:50:58.312241Z"
    }
   },
   "cell_type": "code",
   "source": [
    "B = np.array([[-2, 0], [0, -2]])\n",
    "np.linalg.det(B)"
   ],
   "id": "641d80b8c497073c",
   "outputs": [
    {
     "data": {
      "text/plain": [
       "4.0"
      ]
     },
     "execution_count": 14,
     "metadata": {},
     "output_type": "execute_result"
    }
   ],
   "execution_count": 14
  },
  {
   "metadata": {
    "ExecuteTime": {
     "end_time": "2025-04-01T09:51:52.164975Z",
     "start_time": "2025-04-01T09:51:52.159474Z"
    }
   },
   "cell_type": "code",
   "source": [
    "C = np.array([[2, 1, -3], [4, -5, 2],[0, -1, 3]])\n",
    "np.linalg.det(C)"
   ],
   "id": "337646dac6204853",
   "outputs": [
    {
     "data": {
      "text/plain": [
       "-26.000000000000014"
      ]
     },
     "execution_count": 16,
     "metadata": {},
     "output_type": "execute_result"
    }
   ],
   "execution_count": 16
  },
  {
   "metadata": {},
   "cell_type": "markdown",
   "source": "## Derminants and eigenvalues",
   "id": "7cf00fdcb6964c44"
  },
  {
   "metadata": {},
   "cell_type": "markdown",
   "source": [
    "The determinant of a matrix is the product of its eigenvalues.\n",
    "\n",
    "Since NumPy uses different algorithms to compute the determinant and eigenvalues, the result of the eigenvalue computation may not be exactly equal to the determinant. PyTorch uses the same algorithm for both."
   ],
   "id": "8e5fc580275545a5"
  },
  {
   "metadata": {
    "ExecuteTime": {
     "end_time": "2025-04-01T10:00:54.222905Z",
     "start_time": "2025-04-01T10:00:54.217904Z"
    }
   },
   "cell_type": "code",
   "source": [
    "lambdas, V = np.linalg.eig(X)\n",
    "lambdas"
   ],
   "id": "438a6f050276c878",
   "outputs": [
    {
     "data": {
      "text/plain": [
       "array([-3.25599251, -1.13863631,  5.39462882])"
      ]
     },
     "execution_count": 32,
     "metadata": {},
     "output_type": "execute_result"
    }
   ],
   "execution_count": 32
  },
  {
   "metadata": {
    "ExecuteTime": {
     "end_time": "2025-04-01T10:01:00.459496Z",
     "start_time": "2025-04-01T10:01:00.454996Z"
    }
   },
   "cell_type": "code",
   "source": "np.prod(lambdas)",
   "id": "827a430720e9eb91",
   "outputs": [
    {
     "data": {
      "text/plain": [
       "20.000000000000007"
      ]
     },
     "execution_count": 34,
     "metadata": {},
     "output_type": "execute_result"
    }
   ],
   "execution_count": 34
  },
  {
   "metadata": {
    "ExecuteTime": {
     "end_time": "2025-04-01T10:05:23.718448Z",
     "start_time": "2025-04-01T10:05:23.713934Z"
    }
   },
   "cell_type": "code",
   "source": [
    "X_pt = torch.tensor(X, dtype=torch.float32)\n",
    "eigenvalues, eigenvectors = torch.linalg.eig(X_pt)\n",
    "eigenvec = eigenvectors.real\n",
    "eigenvals = eigenvalues.real"
   ],
   "id": "13621015f8ea521c",
   "outputs": [],
   "execution_count": 40
  },
  {
   "metadata": {
    "ExecuteTime": {
     "end_time": "2025-04-01T10:05:57.419899Z",
     "start_time": "2025-04-01T10:05:57.414900Z"
    }
   },
   "cell_type": "code",
   "source": "torch.det(X_pt)",
   "id": "bdcd7b4e9a99506b",
   "outputs": [
    {
     "data": {
      "text/plain": [
       "tensor(20.)"
      ]
     },
     "execution_count": 42,
     "metadata": {},
     "output_type": "execute_result"
    }
   ],
   "execution_count": 42
  },
  {
   "metadata": {
    "ExecuteTime": {
     "end_time": "2025-04-01T10:06:25.044655Z",
     "start_time": "2025-04-01T10:06:25.039156Z"
    }
   },
   "cell_type": "code",
   "source": "torch.prod(eigenvals)",
   "id": "d5c70f411daa952b",
   "outputs": [
    {
     "data": {
      "text/plain": [
       "tensor(20.0000)"
      ]
     },
     "execution_count": 44,
     "metadata": {},
     "output_type": "execute_result"
    }
   ],
   "execution_count": 44
  },
  {
   "metadata": {},
   "cell_type": "markdown",
   "source": [
    "The absolute value of the determinant of $\\boldsymbol{X}$ - $|det(\\boldsymbol{X})|$ -  quantifies the volume change as a result of applying $\\boldsymbol{X}$:\n",
    "- If $|det(\\boldsymbol{X})| = 0$, then $\\boldsymbol{X}$ collapses space completely in at least one dimension, thereby eliminating all volume\n",
    "- If $0 < | det(\\boldsymbol{X})| < 1$, then $\\boldsymbol{X}$ contracts the volume to some extent\n",
    "- If $|det(\\boldsymbol{X})| = 1$, then $\\boldsymbol{X}$ preserves the volume\n",
    "- If $|det(\\boldsymbol{X})| > 1$, then $\\boldsymbol{X}$ expands the volume"
   ],
   "id": "5eddb0a164bdd79"
  },
  {
   "metadata": {
    "ExecuteTime": {
     "end_time": "2025-04-01T10:19:14.939474Z",
     "start_time": "2025-04-01T10:19:14.933474Z"
    }
   },
   "cell_type": "code",
   "source": "torch.abs(torch.det(X_pt))",
   "id": "f588f234b91b9e8f",
   "outputs": [
    {
     "data": {
      "text/plain": [
       "tensor(20.)"
      ]
     },
     "execution_count": 46,
     "metadata": {},
     "output_type": "execute_result"
    }
   ],
   "execution_count": 46
  },
  {
   "metadata": {
    "ExecuteTime": {
     "end_time": "2025-04-01T10:22:58.661727Z",
     "start_time": "2025-04-01T10:22:58.656228Z"
    }
   },
   "cell_type": "code",
   "source": [
    "D = torch.tensor([[1, 0], [0, 1]], dtype=torch.float32)\n",
    "D"
   ],
   "id": "cf44d47c4ec1a339",
   "outputs": [
    {
     "data": {
      "text/plain": [
       "tensor([[1., 0.],\n",
       "        [0., 1.]])"
      ]
     },
     "execution_count": 52,
     "metadata": {},
     "output_type": "execute_result"
    }
   ],
   "execution_count": 52
  },
  {
   "metadata": {
    "ExecuteTime": {
     "end_time": "2025-04-01T10:41:25.516095Z",
     "start_time": "2025-04-01T10:41:25.509596Z"
    }
   },
   "cell_type": "code",
   "source": [
    "def plot_vectors(vectors, colors, labels=None):\n",
    "    \"\"\"\n",
    "    Plot one or more vectors in a 2D plane, specifying a color for each.\n",
    "\n",
    "    Arguments\n",
    "    ---------\n",
    "    vectors: list of lists or of arrays\n",
    "        Coordinates of the vectors to plot. For example, [[1, 3], [2, 2]]\n",
    "        contains two vectors to plot, [1, 3] and [2, 2].\n",
    "    colors: list\n",
    "        Colors of the vectors. For instance: ['red', 'blue'] will display the\n",
    "        first vector in red and the second in blue.\n",
    "    labels: list, optional\n",
    "        Labels for the vectors to show in the legend. If None, no legend is shown.\n",
    "\n",
    "    Example\n",
    "    -------\n",
    "    plot_vectors([[1, 3], [2, 2]], ['red', 'blue'], ['Vector 1', 'Vector 2'])\n",
    "    plt.xlim(-1, 4)\n",
    "    plt.ylim(-1, 4)\n",
    "    \"\"\"\n",
    "    #plt.figure()\n",
    "    plt.grid(alpha=0.2)\n",
    "    plt.axvline(x=0, color='lightgray')\n",
    "    plt.axhline(y=0, color='lightgray')\n",
    "\n",
    "    # If labels are not provided, create empty labels\n",
    "    if labels is None:\n",
    "        labels = [f\"Vector {i+1}\" for i in range(len(vectors))]\n",
    "\n",
    "    for i in range(len(vectors)):\n",
    "        x = np.concatenate([[0,0], vectors[i]])\n",
    "        plt.quiver([x[0]], [x[1]], [x[2]], [x[3]],\n",
    "                   angles='xy', scale_units='xy', scale=1, color=colors[i],\n",
    "                   label=labels[i])\n",
    "\n",
    "    # Add the legend\n",
    "    plt.legend(loc='best')\n",
    "\n",
    "def vectorfy(mtrx, clmn):\n",
    "    return np.array(mtrx[:,clmn]).reshape(-1)"
   ],
   "id": "52634eea36f5af1f",
   "outputs": [],
   "execution_count": 76
  },
  {
   "metadata": {
    "ExecuteTime": {
     "end_time": "2025-04-01T10:41:27.308099Z",
     "start_time": "2025-04-01T10:41:27.190597Z"
    }
   },
   "cell_type": "code",
   "source": [
    "plot_vectors([D[:,0], D[:,1]], ['blue', 'lightblue'], [r'$\\boldsymbol{D}_{:, 1}$', r'$\\boldsymbol{D}_{2,:}$'])\n",
    "plt.xlim(-1, 2)\n",
    "_ = plt.ylim(-1, 2)"
   ],
   "id": "889a0807bf3c874c",
   "outputs": [
    {
     "data": {
      "text/plain": [
       "<Figure size 640x480 with 1 Axes>"
      ],
      "image/png": "[encoded data removed]"
     },
     "metadata": {},
     "output_type": "display_data"
    }
   ],
   "execution_count": 77
  },
  {
   "metadata": {},
   "cell_type": "markdown",
   "source": "Let's apply the matrix $N$ (a singular matrix) to $D$:",
   "id": "bdb5f6fba2c1e7d4"
  },
  {
   "metadata": {
    "ExecuteTime": {
     "end_time": "2025-04-01T10:41:28.169752Z",
     "start_time": "2025-04-01T10:41:28.163753Z"
    }
   },
   "cell_type": "code",
   "source": [
    "ND = torch.matmul(N, D)\n",
    "ND"
   ],
   "id": "385eae315194c006",
   "outputs": [
    {
     "data": {
      "text/plain": [
       "tensor([[-4.,  1.],\n",
       "        [-8.,  2.]])"
      ]
     },
     "execution_count": 78,
     "metadata": {},
     "output_type": "execute_result"
    }
   ],
   "execution_count": 78
  },
  {
   "metadata": {
    "ExecuteTime": {
     "end_time": "2025-04-01T10:42:10.989411Z",
     "start_time": "2025-04-01T10:42:10.862910Z"
    }
   },
   "cell_type": "code",
   "source": [
    "plot_vectors([vectorfy(D, 0), vectorfy(D, 1), vectorfy(ND, 0), vectorfy(ND, 1)],\n",
    "            ['lightblue', 'lightgreen', 'blue', 'green'], [r'$\\boldsymbol{D}_{:, 1}$', r'$\\boldsymbol{D}_{2,:}$', r'$\\boldsymbol{N} \\cdot \\boldsymbol{D}_{:, 1}$', r'$\\boldsymbol{N} \\cdot \\boldsymbol{D}_{2,:}$'])\n",
    "plt.xlim(-6, 6)\n",
    "_ = plt.ylim(-9, 3)\n",
    "plt.legend(loc='right')\n",
    "plt.show()"
   ],
   "id": "c9778fe326236ff7",
   "outputs": [
    {
     "data": {
      "text/plain": [
       "<Figure size 640x480 with 1 Axes>"
      ],
      "image/png": "[encoded data removed]"
     },
     "metadata": {},
     "output_type": "display_data"
    }
   ],
   "execution_count": 82
  },
  {
   "metadata": {},
   "cell_type": "markdown",
   "source": "If any one of a matrix's eigenvalues is zero, then the product of the eigenvalues must be zero and the determinant must also be zero",
   "id": "be884622960d45bd"
  },
  {
   "metadata": {
    "ExecuteTime": {
     "end_time": "2025-04-01T10:48:43.487927Z",
     "start_time": "2025-04-01T10:48:43.481427Z"
    }
   },
   "cell_type": "code",
   "source": [
    "eigenvalues, eigenvectors = torch.linalg.eig(N)\n",
    "eigenvalues.real"
   ],
   "id": "4a530d7e743bb4c0",
   "outputs": [
    {
     "data": {
      "text/plain": [
       "tensor([-2.,  0.])"
      ]
     },
     "execution_count": 93,
     "metadata": {},
     "output_type": "execute_result"
    }
   ],
   "execution_count": 93
  },
  {
   "metadata": {},
   "cell_type": "markdown",
   "source": "Now let's apply $\\boldsymbol{I}$ (the identity matrix, with $det(\\boldsymbol{I}) = 1$) to $D$:",
   "id": "a6dd0152822f0ef3"
  },
  {
   "metadata": {
    "ExecuteTime": {
     "end_time": "2025-04-01T10:50:30.207556Z",
     "start_time": "2025-04-01T10:50:30.202056Z"
    }
   },
   "cell_type": "code",
   "source": [
    "I = torch.tensor([[1, 0], [0, 1]], dtype=torch.float32)\n",
    "I"
   ],
   "id": "54067e988db4fda1",
   "outputs": [
    {
     "data": {
      "text/plain": [
       "tensor([[1., 0.],\n",
       "        [0., 1.]])"
      ]
     },
     "execution_count": 97,
     "metadata": {},
     "output_type": "execute_result"
    }
   ],
   "execution_count": 97
  },
  {
   "metadata": {
    "ExecuteTime": {
     "end_time": "2025-04-01T10:50:31.200830Z",
     "start_time": "2025-04-01T10:50:31.195832Z"
    }
   },
   "cell_type": "code",
   "source": "torch.det(I)",
   "id": "abb749ea2567b7b1",
   "outputs": [
    {
     "data": {
      "text/plain": [
       "tensor(1.)"
      ]
     },
     "execution_count": 98,
     "metadata": {},
     "output_type": "execute_result"
    }
   ],
   "execution_count": 98
  },
  {
   "metadata": {
    "ExecuteTime": {
     "end_time": "2025-04-01T10:50:40.990987Z",
     "start_time": "2025-04-01T10:50:40.985488Z"
    }
   },
   "cell_type": "code",
   "source": [
    "ID = torch.matmul(I, D)\n",
    "ID"
   ],
   "id": "7ea20518dc425912",
   "outputs": [
    {
     "data": {
      "text/plain": [
       "tensor([[1., 0.],\n",
       "        [0., 1.]])"
      ]
     },
     "execution_count": 99,
     "metadata": {},
     "output_type": "execute_result"
    }
   ],
   "execution_count": 99
  },
  {
   "metadata": {
    "ExecuteTime": {
     "end_time": "2025-04-01T10:51:05.266777Z",
     "start_time": "2025-04-01T10:51:05.130278Z"
    }
   },
   "cell_type": "code",
   "source": [
    "plot_vectors([vectorfy(D, 0), vectorfy(D, 1), vectorfy(ID, 0), vectorfy(ID, 1)],\n",
    "            ['lightblue', 'lightgreen', 'blue', 'green'], [r'$\\boldsymbol{D}_{:, 1}$', r'$\\boldsymbol{D}_{2,:}$', r'$\\boldsymbol{I} \\cdot \\boldsymbol{D}_{:, 1}$', r'$\\boldsymbol{I} \\cdot \\boldsymbol{D}_{2,:}$'])\n",
    "plt.xlim(-1, 3)\n",
    "_ = plt.ylim(-1, 3)\n",
    "plt.show()"
   ],
   "id": "b971d53ff1c99820",
   "outputs": [
    {
     "data": {
      "text/plain": [
       "<Figure size 640x480 with 1 Axes>"
      ],
      "image/png": "[encoded data removed]"
     },
     "metadata": {},
     "output_type": "display_data"
    }
   ],
   "execution_count": 100
  },
  {
   "metadata": {
    "ExecuteTime": {
     "end_time": "2025-04-01T10:51:47.440915Z",
     "start_time": "2025-04-01T10:51:47.435419Z"
    }
   },
   "cell_type": "code",
   "source": [
    "eigenvalues, eigenvectors = torch.linalg.eig(I)\n",
    "eigenvalues.real"
   ],
   "id": "8f18c80f0752e2d4",
   "outputs": [
    {
     "data": {
      "text/plain": [
       "tensor([1., 1.])"
      ]
     },
     "execution_count": 101,
     "metadata": {},
     "output_type": "execute_result"
    }
   ],
   "execution_count": 101
  },
  {
   "metadata": {},
   "cell_type": "markdown",
   "source": "Let's apply the matrix $\\boldsymbol{J}$ to $D$:",
   "id": "fe13f36766875093"
  },
  {
   "metadata": {
    "ExecuteTime": {
     "end_time": "2025-04-01T10:54:49.390377Z",
     "start_time": "2025-04-01T10:54:49.385379Z"
    }
   },
   "cell_type": "code",
   "source": [
    "J = torch.tensor([[-0.5, 0],[0,2]])\n",
    "J"
   ],
   "id": "85d8b9c64236a3ce",
   "outputs": [
    {
     "data": {
      "text/plain": [
       "tensor([[-0.5000,  0.0000],\n",
       "        [ 0.0000,  2.0000]])"
      ]
     },
     "execution_count": 102,
     "metadata": {},
     "output_type": "execute_result"
    }
   ],
   "execution_count": 102
  },
  {
   "metadata": {
    "ExecuteTime": {
     "end_time": "2025-04-01T10:54:55.880271Z",
     "start_time": "2025-04-01T10:54:55.874270Z"
    }
   },
   "cell_type": "code",
   "source": "torch.det(J)",
   "id": "2e9ed8e9334b2a61",
   "outputs": [
    {
     "data": {
      "text/plain": [
       "tensor(-1.)"
      ]
     },
     "execution_count": 103,
     "metadata": {},
     "output_type": "execute_result"
    }
   ],
   "execution_count": 103
  },
  {
   "metadata": {
    "ExecuteTime": {
     "end_time": "2025-04-01T10:55:03.205566Z",
     "start_time": "2025-04-01T10:55:03.200567Z"
    }
   },
   "cell_type": "code",
   "source": "torch.abs(torch.det(J))",
   "id": "b1fbf38de1fb1b7",
   "outputs": [
    {
     "data": {
      "text/plain": [
       "tensor(1.)"
      ]
     },
     "execution_count": 104,
     "metadata": {},
     "output_type": "execute_result"
    }
   ],
   "execution_count": 104
  },
  {
   "metadata": {
    "ExecuteTime": {
     "end_time": "2025-04-01T10:55:09.687394Z",
     "start_time": "2025-04-01T10:55:09.681394Z"
    }
   },
   "cell_type": "code",
   "source": [
    "JD = torch.matmul(J, D)\n",
    "JD"
   ],
   "id": "a5f53b58eaa1212a",
   "outputs": [
    {
     "data": {
      "text/plain": [
       "tensor([[-0.5000,  0.0000],\n",
       "        [ 0.0000,  2.0000]])"
      ]
     },
     "execution_count": 105,
     "metadata": {},
     "output_type": "execute_result"
    }
   ],
   "execution_count": 105
  },
  {
   "metadata": {
    "ExecuteTime": {
     "end_time": "2025-04-01T10:55:59.615926Z",
     "start_time": "2025-04-01T10:55:59.443425Z"
    }
   },
   "cell_type": "code",
   "source": [
    "plot_vectors([vectorfy(D, 0), vectorfy(D, 1), vectorfy(JD, 0), vectorfy(JD, 1)],\n",
    "            ['lightblue', 'lightgreen', 'blue', 'green'], [r'$\\boldsymbol{D}_{:, 1}$', r'$\\boldsymbol{D}_{2,:}$', r'$\\boldsymbol{J} \\cdot \\boldsymbol{D}_{:, 1}$', r'$\\boldsymbol{J} \\cdot \\boldsymbol{D}_{2,:}$'])\n",
    "plt.xlim(-1, 2)\n",
    "_ = plt.ylim(-1, 3)\n",
    "plt.show()"
   ],
   "id": "e42a66544eab4790",
   "outputs": [
    {
     "data": {
      "text/plain": [
       "<Figure size 640x480 with 1 Axes>"
      ],
      "image/png": "[encoded data removed]"
     },
     "metadata": {},
     "output_type": "display_data"
    }
   ],
   "execution_count": 107
  },
  {
   "metadata": {
    "ExecuteTime": {
     "end_time": "2025-04-01T10:56:50.951164Z",
     "start_time": "2025-04-01T10:56:50.945662Z"
    }
   },
   "cell_type": "code",
   "source": [
    "eigenvalues, eigenvectors = torch.linalg.eig(J)\n",
    "eigenvalues.real"
   ],
   "id": "da14eecbfaf6315d",
   "outputs": [
    {
     "data": {
      "text/plain": [
       "tensor([-0.5000,  2.0000])"
      ]
     },
     "execution_count": 108,
     "metadata": {},
     "output_type": "execute_result"
    }
   ],
   "execution_count": 108
  },
  {
   "metadata": {},
   "cell_type": "markdown",
   "source": "Let's apply the matrix $\\boldsymbol{F}$ to $D$:",
   "id": "fb936b741565e75d"
  },
  {
   "metadata": {
    "ExecuteTime": {
     "end_time": "2025-04-01T11:14:50.040890Z",
     "start_time": "2025-04-01T11:14:50.036391Z"
    }
   },
   "cell_type": "code",
   "source": [
    "F = I * 2\n",
    "F"
   ],
   "id": "c1ea28db233e92da",
   "outputs": [
    {
     "data": {
      "text/plain": [
       "tensor([[2., 0.],\n",
       "        [0., 2.]])"
      ]
     },
     "execution_count": 110,
     "metadata": {},
     "output_type": "execute_result"
    }
   ],
   "execution_count": 110
  },
  {
   "metadata": {
    "ExecuteTime": {
     "end_time": "2025-04-01T11:14:53.038729Z",
     "start_time": "2025-04-01T11:14:53.033729Z"
    }
   },
   "cell_type": "code",
   "source": "torch.det(F)",
   "id": "8dff83dbc309862d",
   "outputs": [
    {
     "data": {
      "text/plain": [
       "tensor(4.)"
      ]
     },
     "execution_count": 111,
     "metadata": {},
     "output_type": "execute_result"
    }
   ],
   "execution_count": 111
  },
  {
   "metadata": {
    "ExecuteTime": {
     "end_time": "2025-04-01T11:15:00.536837Z",
     "start_time": "2025-04-01T11:15:00.531337Z"
    }
   },
   "cell_type": "code",
   "source": [
    "FD = torch.matmul(F, D)\n",
    "FD"
   ],
   "id": "117f17005ca7597e",
   "outputs": [
    {
     "data": {
      "text/plain": [
       "tensor([[2., 0.],\n",
       "        [0., 2.]])"
      ]
     },
     "execution_count": 112,
     "metadata": {},
     "output_type": "execute_result"
    }
   ],
   "execution_count": 112
  },
  {
   "metadata": {
    "ExecuteTime": {
     "end_time": "2025-04-01T11:15:14.012071Z",
     "start_time": "2025-04-01T11:15:13.864571Z"
    }
   },
   "cell_type": "code",
   "source": [
    "plot_vectors([vectorfy(D, 0), vectorfy(D, 1), vectorfy(FD, 0), vectorfy(FD, 1)],\n",
    "            ['lightblue', 'lightgreen', 'blue', 'green'], [r'$\\boldsymbol{D}_{:, 1}$', r'$\\boldsymbol{D}_{2,:}$', r'$\\boldsymbol{F} \\cdot \\boldsymbol{D}_{:, 1}$', r'$\\boldsymbol{F} \\cdot \\boldsymbol{D}_{2,:}$'])\n",
    "plt.xlim(-1, 3)\n",
    "_ = plt.ylim(-1, 3)\n",
    "plt.show()"
   ],
   "id": "721791c29294f86b",
   "outputs": [
    {
     "data": {
      "text/plain": [
       "<Figure size 640x480 with 1 Axes>"
      ],
      "image/png": "[encoded data removed]"
     },
     "metadata": {},
     "output_type": "display_data"
    }
   ],
   "execution_count": 113
  },
  {
   "metadata": {
    "ExecuteTime": {
     "end_time": "2025-04-01T11:15:25.688776Z",
     "start_time": "2025-04-01T11:15:25.683276Z"
    }
   },
   "cell_type": "code",
   "source": [
    "eigenvalues, eigenvectors = torch.linalg.eig(F)\n",
    "eigenvalues.real"
   ],
   "id": "3cca4457855916a5",
   "outputs": [
    {
     "data": {
      "text/plain": [
       "tensor([2., 2.])"
      ]
     },
     "execution_count": 114,
     "metadata": {},
     "output_type": "execute_result"
    }
   ],
   "execution_count": 114
  }
 ],
 "metadata": {
  "kernelspec": {
   "display_name": "Python 3",
   "language": "python",
   "name": "python3"
  },
  "language_info": {
   "codemirror_mode": {
    "name": "ipython",
    "version": 2
   },
   "file_extension": ".py",
   "mimetype": "text/x-python",
   "name": "python",
   "nbconvert_exporter": "python",
   "pygments_lexer": "ipython2",
   "version": "2.7.6"
  }
 },
 "nbformat": 4,
 "nbformat_minor": 5
}
